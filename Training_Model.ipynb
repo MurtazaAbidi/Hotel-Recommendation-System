{
 "cells": [
  {
   "cell_type": "code",
   "execution_count": 61,
   "id": "ac747cbf",
   "metadata": {},
   "outputs": [],
   "source": [
    "import pandas as pd\n",
    "import string\n",
    "import folium\n",
    "import numpy as np"
   ]
  },
  {
   "cell_type": "code",
   "execution_count": 5,
   "id": "2c49e256",
   "metadata": {},
   "outputs": [],
   "source": [
    "#importing data \n",
    "hoteltags=pd.read_pickle('./data/hoteltag.pkl')\n",
    "geocode=pd.read_pickle('./data/geocode.pkl')"
   ]
  },
  {
   "cell_type": "code",
   "execution_count": 69,
   "id": "9e466d54",
   "metadata": {},
   "outputs": [],
   "source": [
    "import geocoder"
   ]
  },
  {
   "cell_type": "code",
   "execution_count": 8,
   "id": "51b2840a",
   "metadata": {},
   "outputs": [],
   "source": [
    "# merging geocode into dataset\n",
    "hoteltags_geo= pd.merge(hoteltags,geocode,on='hotel_name',how='outer')"
   ]
  },
  {
   "cell_type": "code",
   "execution_count": 9,
   "id": "2a96d0f4",
   "metadata": {},
   "outputs": [],
   "source": [
    "# merging geocode into dataset\n",
    "hoteltags_geo= pd.merge(hoteltags,geocode,on='hotel_name',how='outer')"
   ]
  },
  {
   "cell_type": "code",
   "execution_count": 10,
   "id": "834f9362",
   "metadata": {},
   "outputs": [
    {
     "data": {
      "text/html": [
       "<div>\n",
       "<style scoped>\n",
       "    .dataframe tbody tr th:only-of-type {\n",
       "        vertical-align: middle;\n",
       "    }\n",
       "\n",
       "    .dataframe tbody tr th {\n",
       "        vertical-align: top;\n",
       "    }\n",
       "\n",
       "    .dataframe thead th {\n",
       "        text-align: right;\n",
       "    }\n",
       "</style>\n",
       "<table border=\"1\" class=\"dataframe\">\n",
       "  <thead>\n",
       "    <tr style=\"text-align: right;\">\n",
       "      <th></th>\n",
       "      <th>hotel_name</th>\n",
       "      <th>tags</th>\n",
       "      <th>lat_x</th>\n",
       "      <th>lng_x</th>\n",
       "      <th>lat_y</th>\n",
       "      <th>lng_y</th>\n",
       "      <th>location</th>\n",
       "      <th>country</th>\n",
       "      <th>city</th>\n",
       "    </tr>\n",
       "  </thead>\n",
       "  <tbody>\n",
       "    <tr>\n",
       "      <th>0</th>\n",
       "      <td>11 Cadogan Gardens</td>\n",
       "      <td>[' Leisure trip ', ' Couple ', ' Superior Quee...</td>\n",
       "      <td>51.493616</td>\n",
       "      <td>-0.159235</td>\n",
       "      <td>51.493616</td>\n",
       "      <td>-0.159235</td>\n",
       "      <td>[{'country_code': 'GB', 'city': 'Chelsea', 'co...</td>\n",
       "      <td>United Kingdom</td>\n",
       "      <td>Chelsea</td>\n",
       "    </tr>\n",
       "    <tr>\n",
       "      <th>1</th>\n",
       "      <td>1K Hotel</td>\n",
       "      <td>[' Leisure trip ', ' Couple ', ' Superior M Do...</td>\n",
       "      <td>48.863932</td>\n",
       "      <td>2.365874</td>\n",
       "      <td>48.863932</td>\n",
       "      <td>2.365874</td>\n",
       "      <td>[{'country_code': 'FR', 'city': 'Paris', 'coun...</td>\n",
       "      <td>France</td>\n",
       "      <td>Paris</td>\n",
       "    </tr>\n",
       "    <tr>\n",
       "      <th>2</th>\n",
       "      <td>25hours Hotel beim MuseumsQuartier</td>\n",
       "      <td>[' Leisure trip ', ' Solo traveler ', ' Standa...</td>\n",
       "      <td>48.206474</td>\n",
       "      <td>16.354630</td>\n",
       "      <td>48.206474</td>\n",
       "      <td>16.354630</td>\n",
       "      <td>[{'country_code': 'AT', 'city': 'Vienna', 'cou...</td>\n",
       "      <td>Austria</td>\n",
       "      <td>Vienna</td>\n",
       "    </tr>\n",
       "    <tr>\n",
       "      <th>3</th>\n",
       "      <td>41</td>\n",
       "      <td>[' Leisure trip ', ' Couple ', ' Executive Kin...</td>\n",
       "      <td>51.498147</td>\n",
       "      <td>-0.143649</td>\n",
       "      <td>51.498147</td>\n",
       "      <td>-0.143649</td>\n",
       "      <td>[{'country_code': 'GB', 'city': 'West End of L...</td>\n",
       "      <td>United Kingdom</td>\n",
       "      <td>West End of London</td>\n",
       "    </tr>\n",
       "    <tr>\n",
       "      <th>4</th>\n",
       "      <td>45 Park Lane Dorchester Collection</td>\n",
       "      <td>[' Leisure trip ', ' Solo traveler ', ' Execut...</td>\n",
       "      <td>51.506371</td>\n",
       "      <td>-0.151536</td>\n",
       "      <td>51.506371</td>\n",
       "      <td>-0.151536</td>\n",
       "      <td>[{'country_code': 'GB', 'city': 'West End of L...</td>\n",
       "      <td>United Kingdom</td>\n",
       "      <td>West End of London</td>\n",
       "    </tr>\n",
       "  </tbody>\n",
       "</table>\n",
       "</div>"
      ],
      "text/plain": [
       "                           hotel_name  \\\n",
       "0                  11 Cadogan Gardens   \n",
       "1                            1K Hotel   \n",
       "2  25hours Hotel beim MuseumsQuartier   \n",
       "3                                  41   \n",
       "4  45 Park Lane Dorchester Collection   \n",
       "\n",
       "                                                tags      lat_x      lng_x  \\\n",
       "0  [' Leisure trip ', ' Couple ', ' Superior Quee...  51.493616  -0.159235   \n",
       "1  [' Leisure trip ', ' Couple ', ' Superior M Do...  48.863932   2.365874   \n",
       "2  [' Leisure trip ', ' Solo traveler ', ' Standa...  48.206474  16.354630   \n",
       "3  [' Leisure trip ', ' Couple ', ' Executive Kin...  51.498147  -0.143649   \n",
       "4  [' Leisure trip ', ' Solo traveler ', ' Execut...  51.506371  -0.151536   \n",
       "\n",
       "       lat_y      lng_y                                           location  \\\n",
       "0  51.493616  -0.159235  [{'country_code': 'GB', 'city': 'Chelsea', 'co...   \n",
       "1  48.863932   2.365874  [{'country_code': 'FR', 'city': 'Paris', 'coun...   \n",
       "2  48.206474  16.354630  [{'country_code': 'AT', 'city': 'Vienna', 'cou...   \n",
       "3  51.498147  -0.143649  [{'country_code': 'GB', 'city': 'West End of L...   \n",
       "4  51.506371  -0.151536  [{'country_code': 'GB', 'city': 'West End of L...   \n",
       "\n",
       "          country                city  \n",
       "0  United Kingdom             Chelsea  \n",
       "1          France               Paris  \n",
       "2         Austria              Vienna  \n",
       "3  United Kingdom  West End of London  \n",
       "4  United Kingdom  West End of London  "
      ]
     },
     "execution_count": 10,
     "metadata": {},
     "output_type": "execute_result"
    }
   ],
   "source": [
    "hoteltags_geo.head()"
   ]
  },
  {
   "cell_type": "code",
   "execution_count": 11,
   "id": "82591cf0",
   "metadata": {},
   "outputs": [],
   "source": [
    "#subsetting dataset\n",
    "hoteltags_geo=hoteltags_geo[['hotel_name','tags','lat_x','lng_x','city']]"
   ]
  },
  {
   "cell_type": "code",
   "execution_count": 12,
   "id": "49009433",
   "metadata": {},
   "outputs": [
    {
     "data": {
      "text/html": [
       "<div>\n",
       "<style scoped>\n",
       "    .dataframe tbody tr th:only-of-type {\n",
       "        vertical-align: middle;\n",
       "    }\n",
       "\n",
       "    .dataframe tbody tr th {\n",
       "        vertical-align: top;\n",
       "    }\n",
       "\n",
       "    .dataframe thead th {\n",
       "        text-align: right;\n",
       "    }\n",
       "</style>\n",
       "<table border=\"1\" class=\"dataframe\">\n",
       "  <thead>\n",
       "    <tr style=\"text-align: right;\">\n",
       "      <th></th>\n",
       "      <th>hotel_name</th>\n",
       "      <th>tags</th>\n",
       "      <th>lat_x</th>\n",
       "      <th>lng_x</th>\n",
       "      <th>city</th>\n",
       "    </tr>\n",
       "  </thead>\n",
       "  <tbody>\n",
       "    <tr>\n",
       "      <th>0</th>\n",
       "      <td>11 Cadogan Gardens</td>\n",
       "      <td>[' Leisure trip ', ' Couple ', ' Superior Quee...</td>\n",
       "      <td>51.493616</td>\n",
       "      <td>-0.159235</td>\n",
       "      <td>Chelsea</td>\n",
       "    </tr>\n",
       "    <tr>\n",
       "      <th>1</th>\n",
       "      <td>1K Hotel</td>\n",
       "      <td>[' Leisure trip ', ' Couple ', ' Superior M Do...</td>\n",
       "      <td>48.863932</td>\n",
       "      <td>2.365874</td>\n",
       "      <td>Paris</td>\n",
       "    </tr>\n",
       "    <tr>\n",
       "      <th>2</th>\n",
       "      <td>25hours Hotel beim MuseumsQuartier</td>\n",
       "      <td>[' Leisure trip ', ' Solo traveler ', ' Standa...</td>\n",
       "      <td>48.206474</td>\n",
       "      <td>16.354630</td>\n",
       "      <td>Vienna</td>\n",
       "    </tr>\n",
       "    <tr>\n",
       "      <th>3</th>\n",
       "      <td>41</td>\n",
       "      <td>[' Leisure trip ', ' Couple ', ' Executive Kin...</td>\n",
       "      <td>51.498147</td>\n",
       "      <td>-0.143649</td>\n",
       "      <td>West End of London</td>\n",
       "    </tr>\n",
       "    <tr>\n",
       "      <th>4</th>\n",
       "      <td>45 Park Lane Dorchester Collection</td>\n",
       "      <td>[' Leisure trip ', ' Solo traveler ', ' Execut...</td>\n",
       "      <td>51.506371</td>\n",
       "      <td>-0.151536</td>\n",
       "      <td>West End of London</td>\n",
       "    </tr>\n",
       "  </tbody>\n",
       "</table>\n",
       "</div>"
      ],
      "text/plain": [
       "                           hotel_name  \\\n",
       "0                  11 Cadogan Gardens   \n",
       "1                            1K Hotel   \n",
       "2  25hours Hotel beim MuseumsQuartier   \n",
       "3                                  41   \n",
       "4  45 Park Lane Dorchester Collection   \n",
       "\n",
       "                                                tags      lat_x      lng_x  \\\n",
       "0  [' Leisure trip ', ' Couple ', ' Superior Quee...  51.493616  -0.159235   \n",
       "1  [' Leisure trip ', ' Couple ', ' Superior M Do...  48.863932   2.365874   \n",
       "2  [' Leisure trip ', ' Solo traveler ', ' Standa...  48.206474  16.354630   \n",
       "3  [' Leisure trip ', ' Couple ', ' Executive Kin...  51.498147  -0.143649   \n",
       "4  [' Leisure trip ', ' Solo traveler ', ' Execut...  51.506371  -0.151536   \n",
       "\n",
       "                 city  \n",
       "0             Chelsea  \n",
       "1               Paris  \n",
       "2              Vienna  \n",
       "3  West End of London  \n",
       "4  West End of London  "
      ]
     },
     "execution_count": 12,
     "metadata": {},
     "output_type": "execute_result"
    }
   ],
   "source": [
    "hoteltags_geo.head()"
   ]
  },
  {
   "cell_type": "code",
   "execution_count": 15,
   "id": "ef84bd86",
   "metadata": {},
   "outputs": [],
   "source": [
    "exclude = set(string.punctuation)\n",
    "def clean(x):\n",
    "    return set([''.join(ch for ch in i.lower() if ch not in exclude).strip() for i in x[2:][:-2].split(',')])"
   ]
  },
  {
   "cell_type": "code",
   "execution_count": 16,
   "id": "ce19ebe1",
   "metadata": {},
   "outputs": [],
   "source": [
    "# applying to clean the tags and assigning them to a new column\n",
    "hoteltags_geo['new_tags'] = hoteltags_geo['tags'].map(clean)\n"
   ]
  },
  {
   "cell_type": "code",
   "execution_count": 18,
   "id": "5a9fea74",
   "metadata": {},
   "outputs": [
    {
     "data": {
      "text/plain": [
       "{'2 rooms',\n",
       " 'business trip',\n",
       " 'couple',\n",
       " 'deluxe king room',\n",
       " 'deluxe king suite',\n",
       " 'family with older children',\n",
       " 'family with young children',\n",
       " 'group',\n",
       " 'junior suite',\n",
       " 'king suite',\n",
       " 'leisure trip',\n",
       " 'presidential suite',\n",
       " 'single room',\n",
       " 'solo traveler',\n",
       " 'stayed 1 night',\n",
       " 'stayed 2 nights',\n",
       " 'stayed 3 nights',\n",
       " 'stayed 4 nights',\n",
       " 'stayed 5 nights',\n",
       " 'stayed 6 nights',\n",
       " 'stayed 7 nights',\n",
       " 'stayed 8 nights',\n",
       " 'stayed 9 nights',\n",
       " 'submitted from a mobile device',\n",
       " 'superior queen room'}"
      ]
     },
     "execution_count": 18,
     "metadata": {},
     "output_type": "execute_result"
    }
   ],
   "source": [
    "hoteltags_geo['new_tags'][0]"
   ]
  },
  {
   "cell_type": "code",
   "execution_count": 19,
   "id": "2e95d532",
   "metadata": {},
   "outputs": [
    {
     "name": "stdout",
     "output_type": "stream",
     "text": [
      "{'suite with free bottle of champagne and spa fitness access', 'amsterdam street art queen guest room', 'suite without window', 'standard double room with view', 'standard family room', 'superior double room disability access', 'executive club double room', 'deluxe twin studio', 'standard double room with queen bed', 'superior double or twin room with balcony', 'minsters deluxe two bedroom suite', 'stayed 22 nights', 'special offer classic room', 'twin room with courtyard view', 'deluxe family room 2 adults 2 children', 'premium double twin room', 'double room audacieuse', 'double room annex', 'deluxe with two double beds', 'grand deluxe imperial room', 'la reflet junior suite', 'double room with shower', 'smart triple room', 'standard double room with two double beds', 'small single room', 'junior suite with spa access free wifi', 'mus e d orsay double room', 'garden view queen', 'junior suite with queen size bed', 'deluxe double room with courtyard view', 'superior double', 'luxury triple room with garden view', 'lm club double or twin room', 'double room with balcony', 'ambassador junior suite', 'executive double room river view', 'executive queen suite', 'superior double bedroom', 'comfort single room with view', 'standard room with 1 double bed', 'junior suite basement', 'double room free wi fi', 'regency king suite with lounge access', 'two double bed guest room', 'couture suite', 'executive room with queen size bed and double sofa bed 2 adults 2 children', 'double or twin room 2 adult 1 children', 'business room', 'deluxe twin room with terrace and eiffel tower view', 'twin room with partial sea view', '4 person suite', 'large double or twin room', 'two bedroom suite with private access to pool and spa', '2 adjacent rooms', 'stayed 18 nights', 'executive suite with river view', 'single room joy', 'superior four poster room', 'junior suite with canal view', 'deluxe double room swimming pool hammam access upon reservation', 'deluxe family room with view', 'executive king', 'one bedroom king suite with sofa bed', 'deluxe twin', 'hilton relaxation room', 'small twin room', 'two adjacent classic rooms', 'modern double room narcisse', 'special offer only for cruise passengers', 'superior double or twin room with extra bed 2 adults 1 child', 'king executive room', 'mayfair suite with lounge access', 'standard double twin room', 'single room with park view', 'king superior room', 'king deluxe family room connecting doors', 'queen room with sofa bed non smoking', 'executive studio city view family', '3 connecting rooms', 'king room with sofa bed', 'premier shard king room', 'room with park view', 'hilton queen family room', 'luxury junior suite', 'penthouse suite with view', 'superior room with 1 kingsize bed', 'king suite with sofa bed non smoking', 'privilege double room', 'deluxe junior suite', 'superior double room with terrace and jacuzzi', 'junior suite attic', 'superior room non smoking', 'suite with spa access', 'superior double room single use', 'superior double room 2 adults 1 child', 'junior suite with gallery view', 'grand premium double or twin with city view', 'double room op ra garnier with spa bath', 'double or twin room with spa access', 'double or twin room with view', 'deluxe double room with two single beds', 'deluxe suite with city view', 'falconers two bedroom suite', 'superior single room', 'park studio king', 'classic master suite', 'executive double or twin room with private terrace', 'privilege king room', 'family room with balcony', 'one bedroom suite with kitchen', 'twin city view room', 'superior twin room', 'king room with courtyard view', 'superior twin room with internal view', 'double or twin room business advantage', 'classic room with 2 double beds 2 adults', 'executive suite 2 adults 2 children', 'special offer executive double twin room with access to nagomi health', 'apartment 1 2 adults', 'premier room', 'camper suite', 'traditional double room', 'deluxe room with whirlpool', 'executive double room with city view', 'camper room', 'business single room', 'deluxe room with spa access free wifi', 'double room with two double beds', 'double room 1 adult with free airport shuttle service from 5 00am to 00 30am', 'luxury double room small', 'small double room', 'luxury one bedroom apartment', 'standard double or twin room 1 2 adults', 'deluxe double room annex', 'studio twin room', 'luxury suite antique theme', 'double room gwr tower', 'superior room queen bed', 'executive double or twin room with terrace', 'quadruple suite', 'luxury family room', 'family room annex', 'double room with 2 tickets for a cruise on the seine river', 'deluxe twin room with view', 'family room sleeps four', 'elisabeth suite', 'delightful queen room', 'king room with hyde park view', 'family room 2 adults 3 children', 'queen one bedroom suite', 'double room with terrace', 'superior room with a shower or a bath', 'deluxe family room 4 adults', 'fabulous exchange king', 'standard room with spa access', 'supreme double room', 'executive queen room mobility access with lounge access', 'deluxe contemporary room', 'executive triple room 2 adults 1 child', 'special offer queen room', 'king guest room', 'deluxe king room disability access', 'basic double', 'horizon suite with dock view', 'studio with spa access', 'superior double room with terrace', 'suite with spa access 4 adults', 'king suite non smoking with executive lounge access', 'studio attrape r ve', 'deluxe suite with river view', 'ma tre superior double or twin room with street view', 'supreme twin room', 'grand premier family room', 'studio suite bank', 'king room with knightsbridge view', 'double or twin room with extra bed 2 adults 1 child', 'queen room with eiffel tower view', 'superior room with 1 queensize bed and double sofa bed', 'deluxe king with balcony', 'stayed 21 nights', 'twin room non smoking', 'superior queen room with 2 single sofa beds', 'one bedroom park suite', 'king room with balcony', 'exclusive double or twin room', 'deluxe one bedroom suite', 'budget single room non smoking', 'suite with harbour view', 'junior suite with terrace', 'exclusive suite eiffel', 'deluxe room with terrace', 'superior double or twin room with extra bed 3 adults', 'twin room 1 2 adults', 'double deluxe suite', 'deluxe room barlow wing', 'park room', 'large comfort double or twin room', 'junior suite with spa access', 'deluxe premium king room', 'suite with terrace', 'view king room', 'double room', 'suite with executive lounge access', 'suite pigalle 35', 'couple', 'king one bedroom suite', 'royal room with ramblas view', 'superior room with queen size bed and sofa bed', 'superior double or twin room with garden view', 'special offer room with continental breakfast', 'club queen room', 'double room with city view 1 adult', 'superior duplex room', 'family room 4 adults', 'double room moulin rouge with shower', 'premium double room with garden view', 'luxury suite superior', 'comfort club double or twin room', 'superior queen room with sofa bed non smoking', 'souterraine double or twin room', 'apartment', 'deluxe double room with terrace and private pool', 'the level grand premium double or twin room with city view', 'the level executive service room', 'one bedroom classic suite', 'deluxe double with terrace', 'deluxe club double room', 'standard twin room non smoking', 'two connecting superior twin rooms', 'prestige suite with private terrace', 'comfort double room with terrace', 'marvelous suite', 'apartment with city view top floor', 'corner suite', 'special offer double room park and sleep inklusive breakfast', 'king room mobility accessible non smoking', 'classic double room with free access to hamman', 'souterrain double room', 'business twin room with courtyard view and public transport ticket', '4 rooms', 'falconers one bedroom suite', 'one bedroom apsley suite', 'special offer princess relax', 'twin suite', 'suite tea time wine tasting included', 'junior suite 2 adults', 'double hilton deluxe', 'privilege junior suite with spa access', 'comfort plus twin room', 'double guest room with river view', 'suite with st stephen s cathedral view', 'superior double room with roll in shower disability access', 'special offer double room 3 nights minimum', 'luxury suite triple', 'king junior suite city view with access to executive lounge', 'suite 3 adults', 'suite family room', 'twin room with city view top floor', 'double queen executive waterfront with access to executive lounge', 'prestige double room with view', 'single room with free airport shuttle service from 5 00am to 00 30am', 'embassy suite', 'family apartment 2 adults 2 children', 'four seasons suite', 'double room medium', 'superior double or twin room moon blue', 'superior deluxe double room', '2 adjacent non communicating rooms', 'chambers junior suite with club lounge access', 'eiffel suite', 'junior suite with courtyard view', 'double or twin room with extra bed', 'executive king room non smoking', 'standard family suite with two connecting rooms 4 adults', 'deluxe double or twin room 2 adults 1 child', 'standard room with 1 double bed and 1 sofa bed', 'luxury twin room', 'junior suite with spa access 3 adults', 'king deluxe room with canal view', 'deluxe twin room with city view', 'universitat single room', 'deluxe double room with two double beds', 'grand junior suite', 'double or twin room', 'large one bedroom apartment', 'double room with extra bed', 'double hilton deluxe room', 'one bedroom suite with courtyard view', 'superior twin room with city view', 'double room with river view', 'city twin room with surprise package', 'art deco deluxe room view and terrace', 'two connecting basic rooms', 'single room with private bathroom', 'executive king or twin room with lounge access', 'suite with extra bed', 'executive suite 3 adults', 'superior room with king bed', 'twin hilton sea view', 'single room with spa access', 'deluxe double room corner', 'executive queen room', 'standard quad room', 'large comfort twin room disability access', 'signature suite', 'special offer double room', 'apartement', 'stayed 25 nights', 'treat your partner package double room', 'attach suite', 'superior suite with view', 'comfort twin room', 'executive double room with lounge access', 'classic twin view', 'accessible studio suite', 'andaz large suite', 'small double room canal view', 'superior room 3 adults', 'premier double room', 'double room with street view', 'single studio', 'penthouse suite with terrace and city view', 'suite 5 adults', 'top deluxe room', 'premium double or twin room with sea view', 'executive premium queen room with sofa bed', 'executive double or twin room with executive lounge access', 'double or twin room with panoramic view', 'canal view superior deluxe room with spa bath', 'deluxe double room with patio', 'boudoir double room', 'club double or twin room', 'junior suite 3 adults', 'twin guest room', 'loft double room with terrace', 'superior double room with free unlimited wifi', 'executive queen room with balcony', 'premier twin room with city view', 'grand premier suite', 'art room xl with iconic view', 'standard guest room', 'superior twin room with terrace', 'city twin room', 'two bedroom suite', 'king hilton guest room', 'twin room with public transport ticket', 'family executive room 2 adults 2 children', 'economy twin room', 'double room with st stephen s cathedral view', 'superior quadruple room with balcony', 'superior one bedroom apartment', 'privilege super king or twin room', 'deluxe single room with shared bathroom', 'adjacent double rooms', 'drop dead gorgeous splash suite', 'director s double room', 'stayed 9 nights', 'luxury room 1 queensize bed twin bedded room on request', '2 rooms', 'king room', 'deluxe king room with paris view', 'queen hilton superior room', 'executive room swimming pool hammam access upon reservation', 'superior room with queen bed sofa', 'superior double room breakfast included', 'luxury studio suite', 'superior room with 2 single beds', 'urban triple room', 'deluxe king room with club lounge access and balcony', 'deluxe twin room 2 adults', 'twin room with extra bed 3 adults', 'superior metropolitan park double room', 'superior room with queen size bed and sofa bed 2 adults', 'superior room with garden view', 'superior double or twin room 1 2 adults', 'stayed 1 night', 'superior double room ground floor', 'junior suite 3 adults or 2 adults 1 child', 'deluxe triple room with view', 'superior apartment 2 adults', 'emperor suite', 'suite parisienne', 'double room with view', 'privilege room with double bed', 'junior suite with 1 king size bed', 'penta playerpad suite', 'nadler deluxe double room', 'apartment 3 adults', 'club twin room with lounge access', 'two connected double rooms', 'park deluxe view', 'grand executive room', 'comfort triple room', 'spectacular double room', 'superior one bedroom suite with executive lounge access', 'superior room with spa fitness access', 'family room 6 adults', 'deluxe one bedroom park suite', 'marquise superior double or twin room', 'junior suite with mountain view', 'one bedroom king suite with garden view', 'suite grand lit', 'three bedroom luxury apartment', 'basic double room', 'river view deluxe', 'superior double room with sofa bed', 'deluxe double or twin room with canal view annex building', 'superior double room with view non smoking', 'superior queen room', 'park suite king', 'souterrain executive double room', 'deluxe suite 2 adults with paris view', 'deluxe triple room', 'compact double room', 'superior room with 1 queen bed and sofa 3 adults', 'ambassador suite', 'art deco double room', 'premium double or twin room', 'one bedroom suite with sofa bed', 'deluxe junior suite with lounge access', 'executive queen room with sofa bed', 'business double room with wifi and breakfast', 'standard 1 bedroom apartment', 'double or twin room with courtyard view', 'standard double or twin room with balcony', 'prestige twin room', 'double room with sofa bed', 'iconic king room with city view', 'suite with free pool and hammam access', 'comfort double or twin room with rambla view', 'club double or twin room with club lounge access', 'suite couture', 'junior family suite 2 adults', 'stayed 27 nights', 'duplex triple room', 'double room single use', 'studio suite', 'standard double studio', 'prestige suite 2 adults with canal view', 'economy double or twin room', 'king room mobility accessible', 'large family suite', 'two connecting rooms 3 persons', 'superior room with two double beds and balcony', 'superior double room with terrace and cathedral view', 'double or twin room with terrace and panoramic view', 'executive triple room', 'deluxe double room 1 2 adults', 'superior suite 2 adults', 'superior twin room with sofa bed non smoking', 'deluxe king room', 'king premier room', 'gallery suite', 'double room disability access non smoking', 'aldwych double twin room', 'intuition room', 'duplex suite with state opera view top floor', 'executive room with queen bed', 'suite with club lounge access', 'twin hilton deluxe room', 'family room with spa access', 'superior room 2 single beds', 'penthouse suite family', 'junior suite double or twin', 'twin room with private bathroom', 'quintuple room 5 adults', 'stunning city studio', 'business single room with courtyard view', 'corner view suite', 'twin premier room', 'classic apartment', 'king junior suite with executive lounge access', 'wonderful room', 'urban junior suite', 'parisian junior suite', 'luxury suite music theme', 'superior room with queensize bed and double couch 2 adults 2 children', 'deluxe eiffel tower king room', 'gallery suite with spa access free wifi', 'suite with balcony and spa access', 'standard compact double room', 'classic guest room 1 king or 2 twin single bed s', 'standard room with 1 double bed and 1 double sofa bed', 'standard queen or twin room lower ground floor', 'four poster suite', 'deluxe double room with eiffel tower view', 'deluxe double or twin room with pool access', 'junior suite with city view', 'special offer superior queen room', 'superior double room with terrace and city view', 'accessible double guest room', 'double room curieuse', 'superior twin room with extra bed', 'superior double room with internal view', 'classic room with courtyard view', 'standard double or twin room with balcony 1 adult', 'junior suite xl', 'club superking room', 'apartment suite', 'executive room with garden view', 'comfort double room', 'deluxe plus double room', 'economy quadruple room', 'premium room 3 adults', 'standard double or twin room', 'basic double room nr', 'kube double or twin room', 'twin junior suite city view with access to executive lounge', 'garden twin room', 'king executive room with lounge access', 'suite 2 adults', 'paseo de gracia double or twin room', 'twin room with spa bath', 'executive king room non smoking with executive lounge access', 'superior double double', 'luxury double room', '2 connecting deluxe rooms with vip service for kids', 'privilege twin room', 'triple hilton family room', 'double room mus e d orsay with spa bath', 'apartment attic', 'double or twin room 1 2 adults', 'deluxe executive room', 'junior suite 2 adults and 1 child free wi fi', 'superior room with extra bed 3 adults', 'standard room with queen size bed and double sofa bed', 'kings deluxe junior suite', 'superior double room with courtyard view', 'king double or twin room', 'classic cosy room', 'junior suite twin 1 2 adults', 'queen single room', 'executive double room with spa bath', 'king waterfront suite with access to executive lounge', 'comfort double or twin room with balcony', 'deluxe metropolitan city double room', 'single room tea time wine tasting included', 'duplex junior suite', '3 rooms', 'deluxe triple suite', 'double room with eiffel tower view', 'executive suite with free airport shuttle service from 5 00am to 00 30am', 'art room with iconic view', 'junior deluxe double room', 'special offer twin room', 'exclusive suite', 'double room city', 'family with young children', 'room with ramblas view', 'suite canal view', 'penta standard room', 'privilege double or twin room with spa access', 'luxury room with spa access', 'deluxe room with two double beds', 'triple apartment', '2 double rooms next to each other', 'executive queen room non smoking', 'premium superior double room', 'superior apartment 4 adults', 'superior king room with river view', 'business class room', 'special offer comfort double room with parking', 'superior executive room with executive lounge access', 'superior room with double bed', 'deluxe triple room with canal view', 'club king room', 'room sous les toits 18m with montmartre view', 'deluxe apartment 4 adults 2 children', 'superior room with 1 queen bed 1 sofa bed', 'deluxe duplex room', 'premium room', 'mezzanine room', 'park deluxe twin', 'superior double or twin room with eiffel tower partial view', 'family communicating rooms', 'marina double suite', 'balcony suite with executive lounge access', 'executive double room non smoking', 'stayed 7 nights', 'deluxe double or twin room with panoramic sea view', 'standard double', 'comfort family room', 'suite with city view', 'twin room with park view', 'deluxe premium double room', 'two adjacent rooms 6 persons', 'imperial suite', 'double room with club lounge access', 'hyatt king room', 'superior room for 1 2 people with kitchenette', 'double for single use', 'double or twin room with bath', 'chic twin or double room', 'double room cosy', 'executive double room studio d artiste', 'deluxe twin room', 'stayed 28 nights', 'double room with extra bed 2 adults 1 child with ramblas view', 'junior suite lavender', 'superior room with queensize bed and single sofa bed 3 adults', 'executive family room', 'club suite', 'queen bed leisure', 'premium double room with balcony', 'premier double or twin room with extra bed', 'park deluxe room', 'master suite with club lounge access', 'superior double room with extra bed', 'junior suite 1 3 adults', 'classic room with 1 queen bed', 'double room with spa bath', 'eiffel tower junior suite', 'junior suite tendre ros e', 'grand executive king room', 'cosmopolitan suite', 'one bedroom king suite', 'standard family suite with two connecting rooms', 'souterrain triple room', 'superior double room pigalle 17', 'standard queen room', 'superior double room with free access to steam bath', 'double suite', 'deluxe king room with club lounge access', 'classic double room les pop', 'superior twin room with private pool', 'comfort suite', 'superior king suite 3 adults', 'studio king family', 'club suite with club lounge access', 'twin grand premier with canal view', 'superior twin room with tea time included', 'junior king suite with view 2 adults', 'twin deluxe guest room', 'superior twin room with extra bed 2 adults 1 child', 'penthouse king executive room with access to executive lounge', 'royal suite split level with spa bath annex building', 'fantastic suite', 'single hilton guest room', 'club suite with executive lounge access', 'prestige family room', 'double or twin room in dite', 'double or twin room with extra bed 3 adults', 'deluxe double room with private access to pool and spa', 'garden cottage', 'superior queen room with paris view', 'executive suite', 'duplex suite with spa access', 'double guest room', 'executive double or twin room 3 adults', 'double room trocad ro with spa bath', 'family room with king bed', 'luxury four poster', 'double room with parking', 'urban queen room with spa access', 'superior room with sofa bed 3 adults', 'business double room with 500 frequent flyer miles', 'superior double room with 1 extra bed', 'double deluxe room with roman bath', 'one bedroom suite with air conditioning', 'xscape king', 'cool corner room', 'premium double room', 'tradition double room', 'classic room with 2 double beds', 'comfort single room with window and double bed', 'deluxe studio suite', 'secret double room', 'executive club twin room', 'grand deluxe contemporary room', 'townhouse deluxe', 'triple room luxury xxl king size bed', 'small double room 1 2 adults', 'superior king room with pool view', 'comfort twin double room', 'superior double room with queen size bed', 'queen hilton guest room', 'park deluxe view twin', 'family room 2 adults 1 children', 'cabaret junior suite', 'grand executive room with city view', 'junior suite with free bottle of champagne', 'premier room with balcony', 'standard room 1 2 adults', 'superior suite with 1 double bed and 2 single beds', 'premium deluxe double room', 'superior double room with tea time included', 'small double or twin room', 'queen double room', 'luxury suite', 'executive studio apartment 2 adults 1 child', 'single room non smoking', 'suite split level', 'confort queen room', 'superior twin room with park view', 'city garden room', 'superior double room with view', 'hoxton family suite', 'family junior suite 3 adults 1 child', 'king one bedroom suite with living room', 'cosy family', 'double room crash pad under 30s', 'executive queen room 2 adults', 'deluxe eiffel twin', 'executive king suite', 'executive room queen size bed', 'executive double room with access to the level lounge', 'comfort king or twin room', 'family room with two double beds', 'park executive suite', 'superior double or twin room with free airport shuttle service from 5 00am to 00 30am', 'duplex twin room', 'executive room with terrace', 'double or twin junior suite', 'suite with river view', 'grand superior king or twin room', 'river double suite', 'classic king room', 'k suite', '2 connecting double rooms', 'superior double room with free pool and hammam access', 'double junior suite', 'standard king room', 'single room with double bed', 'stayed 15 nights', 'one room suite with kitchenette', 'deluxe barcelona city view', 'deluxe double or twin room with sea view', 'standard apartment', 'classic double room for single use', 'premium room grand pigalle', 'queen room with two queen beds 4 adults', 'special offer sleep park fly', 'standard studio', 'king junior suite', 'wonderful double or twin room', 'collection suite', 'superior double room with saint germain des pr s church view', 'garden view twins', 'deluxe double studio', 'junior suite with living room', 'standard room with queen bed and sofa', 'budget single room', 'classic twin or double room', 'standard twin room 2 adults 1 child', 'premium king room', 'privilege superior room', 'deluxe imperial room', 'presidential suite', 'single room lower ground floor', 'suite superior', 'king suite', 'classic double room with balcony', 'deluxe double or twin room with spa access', 'queensgate triple room', 'classic single room with spa access', 'standard queen room with sofa bed', 'king room with city view top floors', 'standard room with queen bed and sofa bed', 'large garden view king', 'executive penthouse with canal view', 'king suite with sofa bed 4 adults', 'deluxe double or twin room with balcony', 'junior suite high floor', 'king room with partial sea view', 'family room free wi fi', 'premium deluxe double room with river view', 'executive four poster room', 'double or twin room with terrace and spa access', 'junior suite double', 'double room duchesse', 'superior queen single room', 'classic double room with free pool and hammam access', 'standard triple room with queen bed and sofa bed', 'city king room', 'rooftop suite', 'studio apartment', 'deluxe double room with balcony', 'premium double or twin room with view', 'junior suite with terrace and city view', 'chelsea twin suite', 'suite juliana', 'design one bedroom suite', 'double or twin room with pool view', 'junior suite my ch rie amour', 'deluxe room with 1 king bed', 'double room large', 'small double room with canal view', 'two bedroom penthouse apartment', 'club double or twin room with executive lounge access', 'superior m double room', 'superior double or twin room', 'spectacular room', 'panorama guest room 1 king or 2 twin single bed s', 'twin room with pool view', 'deluxe park view', 'cozy exchange king', 'one bedroom apartment', 'junior suite with lounge access and city view', 'elegance double or twin room', 'quintuple room', 'mandarin room', 'two connecting double rooms 4 adults', 'executive double or twin room with view of big ben and lounge access', 'superior double or twin room with extra bed', 'accessible twin guest room', 'superior double or twin room with parking', 'double or twin ground floor', 'family suite 2 adults 2 children', 'classic double room with private terrace', 'junior suite with access to executive lounge', 'standard duplex room 1 2 adults', 'privil ge suite with 1 double bed and sofa', 'one bedroom deluxe suite', 'montcalm club room', 'superior room with 1 queen bed', 'executive suite with view', 'superior room with 1 double bed and sofa', 'classic king view', 'superior room with 1 double bed and 1 sofa bed 3 adults', 'business trip', 'prestige one bedroom suite with river view', 'standard room for 1 or 2 people with kitchenette', 'the duplex', 'luxury king room', 'privilege twin king room', 'deluxe double or twin room annex', 'deluxe room with 1 double bed', 'two adjacent classic double rooms', 'junior suite with bath', 'king room with sofa bed and balcony', 'maisonette', 'small double room with extra bed annex building', 'suite', 'executive king room with air conditioning', 'superior double room with terrace and mountain view', 'queen suite with city view', 'suite 1 2 adults with spa access', 'suite with spa access 2 adults', 'junior suite give me the night', 'panoramic room', 'junior conservatory with king bed', 'executive room with views of paris queen size bed and double sofa bed 2 adults 2 children', 'parisian suite', 'junior suite blue sunshine', 'suite 2 adults 2 children', 'art deco deluxe room', 'grand duplex suite', 'townhouse apartment', 'junior queen suite with sofa bed', 'junior suite with extra bed', 'superior king room eiffel tower view', 'hypoallergenic double or twin room', 'la rouge suite', 'deluxe room with 1 queen bed', 'deluxe double room or twin room', 'one bedroom executive suite with lounge access', 'junior king suite with lounge access', 'king corner room', 'luxury single room', 'double room with extra bed 2 adults 1 child', 'deluxe double room with free access to steam bath', 'junior suite with queen bed 3 adults', 'executive double or twin room with club lounge access', 'large canal view queen', 'two connecting double rooms with pool access', 'privilege room with 2 double beds', 'executive room with queen bed and a sofa non smoking', 'double or twin room allergy free', 'one double suite nonsmoking', 'travelers with friends', 'standard room with queen bed', 'prestige double room with eiffel tower view', 'deluxe king room with stadium view', 'two connecting rooms with free access to hamman', 'twin room 1 2 people', 'ambassadors room', 'deluxe room 2 adults 1 child', 'deluxe queen guestroom', 'superior two bedroom apartment', 'room with view', 'royal double room', 'deluxe twin room balcony with eiffel tower view', 'quadruple apartment', 'double or twin room with bathroom', 'terrace junior suite', 'standard single room', 'standard twin room with arc de triomphe view', 'luxury double room with balcony and river view', 'single room with shared bathroom', 'deluxe king room with river view', 'double room atelier d artiste with spa bath', 'king double room', 'executive room with 1 queen bed', 'superior king room non smoking', 'junior suite split level with lounge access', 'privilege room with a double bed', 'amiral single room', 'hyatt twin room with view', 'standard double room', 'souterrain comfort room', 'accessible twin room', 'twin hilton executive room with access to executive lounge', 'standard king room non smoking', 'superior double or twin room with patio', 'classic double or twin room with pool access', 'king suite with lounge access', 'junior suite with river view and balcony', 'executive twin room with river view', 'economy double room basement no window', 'superior triple room 3 adults', 'classic queen room', 'with a pet', 'twin guest room plus', 'king executive suite with lounge access', 'single room with bathroom', 'deluxe king or queen room', 'single room', 'single room with arc de triomphe view', 'panoramic suite', 'three bedroom apartment', 'two connecting double rooms 2 adults 2 children', 'room selected at check in', 'twin hilton guest room', 'double room with four poster bed', 'executive room with queen bed renovated', 'executive room', 'double queen family suite with access to executive lounge', 'privilege double room with free pool and hammam access', 'royal penthouse with canal view', 'executive double room with spa fitness access', 'superior twin room with view', 'executive king room with lounge access', 'standard double or twin room tea time wine tasting included', 'king room balcony with view on eiffel tower view free wi fi', 'family with older children', 'superior room with view of big ben', 'budget double room second floor', 'club double room with club lounge access', 'compact double room with private bathroom', 'regency suite', 'standard room with queen size bed and double sofa bed 3 adults', 'superior twin double room', 'cosy single room', 'standard double room ground floor', 'classique square', 'superior executive room', 'duplex room 4 adults', 'business double or twin room', 'two connecting double rooms', 'suite oc ane', 'privilege room with 1 kingsize bed', 'privilege room with view', 'classic designer', 'junior suite with sea view', 'superior suite 2 adults 2 children', 'king room with sea view', 'room with dock view main deck', 'congress suite', 'loft junior suite', 'superior double or twin room with sauna access', 'comfort plus double room', 'queen suite', 'queen guest room mobility accessible', 'suite family room 2 adults 2 children', 'queensgate double room', 'family room three bedrooms communicating', 'king junior suite with lounge access', 'superior king room barlow wing', 'royal suite', 'suite room 1 or 2 people', 'business double room with courtyard view and public transport ticket', 'deluxe double or twin room with vip services', 'triple room', 'amsterdam street art double guest room', 'king or queen studio', 'nelson double room', 'deluxe studio apartment 2 adults', 'suite with eiffel tower view vip welcome', 'double room relax', 'king size double room', 'deluxe queen room with river view', 'signature double room', 'original double room', 'executive double room', 'grand historique suite', 'double or twin room with extra bed with balcony', 'design suite', 'park junior suite', 'duplex room', 'superior king or double room', 'junior suite with executive lounge access and free wifi', 'executive suite free executive lounge access', 'premier double room with panoramic view and executive lounge access', 'family room with view 2 adults 2 children', 'weekend offer standard studio', 'guest room with balcony', 'junior double', 'trash city suite', 'standard double room with view terrace', 'privilege double room with terrace', 'classic double room with courtyard view', 'junior suite with bath and shower', 'executive deluxe double room with spa access', 'family room 3 adults', 'superior classic double room', 'deluxe double room with lounge access', 'superior double room with private patio', 'deluxe accessible twin room with view', 'minsters deluxe one bedroom suite', 'two bedroom superior suite', 'superior double room with sofa bed and pool view', 'double or twin room with sofa bed', 'double or twin room with park view', 'double room baronne', 'executive double room single use', 'superior deluxe double room pigalle 22', 'duplex suite', 'op ra junior suite', 'townhouse club', 'king suite with executive lounge access', 'family room 5 adults', 'deluxe double room non smoking', 'budget double room', 'deluxe double room with gallery view', 'deluxe family room with 1 double and 2 single beds 3 adults', 'double room 3 adults', 'guest queen room with two queen beds', 'superior queen room non smoking', 'executive double room with spa access', 'adjacent rooms', 'standard double room with sofa bed 3 adults', 'deluxe double room 3 adult', 'superior double twin room', 'junior suite with club lounge access', 'special offer classic double room', 'suite with hot tub', 'junior suite with cathedral view', 'group', 'executive double or twin room with spa access', 'royal mews view classic double', 'small double room with terrace', 'one bedroom suite 1 2 adults', 'deluxe double room with connecting doors', 'club level classic rooms', 'stayed 17 nights', 'superior double room', 'superior room with two double beds and view', 'deluxe garden room', 'double room marquise', 'superior suite', 'classic twin room with view', 'kings junior suite', 'family room 2 connected double rooms', 'king hilton waterfront', 'loft suite', 'executive queen room with eiffel tower view', 'twin plaza executive room', 'executive room with queen size bed and single sofa bed 3 adults', 'landmark junior suite', 'standard room with 1 queen bed and sofa', 'superior triple room with 1 double bed 1 single bed', 'fabulous room', 'executive room with two queen beds', 'executive room with one queensize bed with balcony', 'executive suite with lounge access', 'park twin', 'interior double or twin room', 'deluxe two bedroom suite', 'apartment for 3 to 4 people with kitchenette', 'business double room', 'queen room with executive lounge access', 'double room with city view top floor', 'quality double or twin room with extra bed', 'family apartment 4 adults with spa access', 'superior double twin room with free parking', 'business king room', 'one bedroom apartment with city view', 'superior room with 2 zip beds', 'penthouse suite with balcony', 'duke of monmouth suite', 'penthouse suite', 'superior quadruple room', 'superior room with canal view', 'classic double or twin room with spa access', 'marvelous suite exchange', 'townhouse suite', 'hilton superior double room', 'bunk bed room', 'deluxe double room with city view', 'spare room double', 'double room with canal view', 'stayed 4 nights', 'junior suite cathedral view with access to executive lounge', 'club junior suite', 'oscar wilde room', 'suite with view', 'executive double or twin room with no view', 'family room with king bed and sofa bed', 'comfort double or twin room for single use', 'executive double room with turkish bath', 'junior suite with vip services', 'junior double suite', 'suite marignan eiffel', 'terrace suite with lounge access', 'standard double room with sofa', 'suite with duomo view', 'special offer standard double or twin room', 'king loft', 'executive room with canal view', 'double or twin room with balcony or terrace', 'superior twin or double room', 'two bedroom family', 'double room with sauna access', 'comfort room', 'junior suite triple', 'leisure trip', 'classic double room 1 adult', 'standard twin room with bridge view', 'stayed 13 nights', 'stayed 10 nights', 'executive double or twin room with city view', 'double room with sofa bed non smoking', 'double or twin room with terrace', 'superior premium room with queen bed and sofa bed', 'squint splash suite', 'double room lady soul', 'superior twin room with pool access', 'prestige room swimming pool hammam access upon reservation', 'large suite', 'junior suite twin', 'family queen room', 'magistrate king', 'one bedroom king suite 2 adults', 'souterrain twin room', 'comfort double or twin room non smoking', 'standard room with 2 zip beds', 'canal view deluxe triple room with spa bath annex building', 'superior double room with duomo view', 'suite breakfast and bottle of champagne included', 'double room with fitness equipment', 'superior room with 1 double bed and sofa 3 adults', 'executive room with two double beds and executive lounge access', 'junior suite with pool access', 'superior room with 1 double bed and 1 sofa bed 2 places', 'executive premium queen room', 'double room with free airport shuttle service from 5 00am to 00 30am', 'deluxe double room with bath', 'park queen', 'deluxe twin room souterrain basement', 'privilege room with double bed and single sofa bed 3 adults', 'large double room', 'view queen', 'club king room non smoking with executive lounge access', 'luxury twin room solarium', 'la mathurin suite', 'executive room with executive lounge access free wifi', 'family 2 connecting rooms', 'premium double or twin room with garden view', 'classic double or twin room with extra bed', 'superior double or twin room with spa access', 'privilege room with extra bed 3 adults', 'luxury 1 bed suite', 'single room with sauna access', 'family plan', 'executive queen room with lounge access', 'deluxe with garden', 'king duplex suite', 'deluxe king room balcony with eiffel tower view', 'deluxe double room with view', 'one bedroom queen suite', 'business suite', 'executive junior suite with sea view', 'suite with spa access 1 adult', 'superior plus double room', 'premier twin room', 'suite cocotte', 'club deluxe room', 'king studio', 'double room xl', 'family room 4 guest', 'junior suite 2 adults with free airport shuttle service from 5 00am to 00 30am', 'double studio', 'double room 1 adult with eiffel tower view', 'standard studio suite', 'junior suite with lounge access', 'twin room with city view 1 2 adults', 'junior suite 2 adults 1 child', 'superior double room 3 adults', 'deluxe triple room with paris view', 'junior suite free wifi', 'superior one bedroom suite', 'double family guestroom', 'family room with view', 'room with paris view', 'junior king suite 3 adults', 'executive queen room with sofa bed 3 adults', 'deluxe king plus', 'double executive room with lounge access', 'deluxe double room with spa access free wifi', 'classic adjacent rooms', 'deluxe room with spa fitness access', 'queen hilton deluxe', 'superior double room with garden view', 'deluxe king guestroom', 'junior suite with extra bed 3 adults', 'grand suite', 'premium view double room', 'superior deluxe king or double room', 'executive king room with sofa bed non smoking', 'triple room with spa access', 'suite designer', 'deluxe king studio suite', 'one bedroom suite with park view', 'deluxe double room with river view', 'superior room with queen bed', 'two adjoining rooms with dock view upper deck', 'deluxe room with spa access', 'twin room with view', 'business apartment with public transport ticket', 'double room 1 or 2 people', 'superior double room with balcony', 'nhow double or twin room', 'king superior plus room', 'accessible queen guest room', 'double double room', 'executive deluxe room', 'double room radieuse', 'comfort single room', 'standard double or twin room 3 adults', 'club room with club lounge access free wifi', 'double room with private bathroom', 'suite with eiffel tower view', 'special offer double or twin room with parking', 'twin guestroom', 'queen room with balcony', 'king plaza executive room', 'junior double room', 'privilege room with 1 queen size bed', 'stayed 23 nights', 'superior', 'executive double', 'montcalm club double room', 'double or twin room with parking', 'family king room', 'executive double or twin room canal view', 'deluxe quadruple room', 'premium quadruple room', 'junior suite jungle fever with hot tub', 'executive junior suite', 'deluxe double or twin room light my fire', 'king hilton deluxe room', 'stayed 29 nights', 'superior studio', 'executive double room with sofa bed', 'king deluxe guest room', 'easter special executive king room', 'special offer double room with continental breakfast', 'loft suite with terrace', 'stayed 24 nights', 'two adjacent double rooms with free pool and hammam access', 'deluxe twin room annex', 'junior king suite', 'deluxe double or twin room disability access', 'superior room with balcony and opera garnier view', 'deluxe double room with extra bed', 'deluxe suite', 'deluxe king guestroom with view', 'double room intemporelle', 'standard double room 2 adults', 'comfort double room with extra bed', 'standard suite', 'executive double room with park view', 'fabulous double or twin room', 'discovery double room', 'two adjacent deluxe rooms', 'master bedroom suite', 'superior queen room with sofa bed', 'superior double room with terrace and view', 'bunk bed in twin room pigalle 12', 'premier shard suite', 'executive suite with balcony', 'king guest room wheelchair accessible', 'view twin', 'stayed 8 nights', 'junior king suite with pool access', 'double room with patio view', 'kings three bedroom suite', 'superior double room 1 2 adults', 'classic room with one queen bed', '2 connecting rooms', 'double room with courtyard view', 'grand deluxe room', 'tiny single room', 'nhow premium double or twin room', 'deluxe double room with spa access', 'superior double or twin room for single use', 'executive room city view', 'executive twin room with whirlpool', 'two connecting double and twin rooms', 'executive suite with spa bath', 'deluxe', 'deluxe room henry monnier', 'queen guest room with sofa bed', 'standard room with 2 double beds', 'studio double room', 'deluxe studio', 'one bedroom city suite', 'privilege double or twin room courtyard side', 'superior queen room with single sofa bed', 'special offer double room park and sleep', 'premier king room', 'king magistrate suite', 'park deluxe king or twin', 'superior double or twin room xl with extra bed 3 adults', 'double room capricieuse', 'prestige king room non smoking', 'special offer comfort double room with breakfast and parking included', 'deluxe double room with hammam', 'superior queen room with double sofa', 'single room with courtyard view', 'deluxe room 3 adults', 'suite deluxe', 'junior suite 3 adults with paris view', 'superior double or twin room with canal view', 'mandarin junior suite', 'executive double room with executive lounge access', 'studio with courtyard view', 'king hilton guestroom', 'deluxe room 1 or 2 people', 'deluxe double or twin room with city view', 'twin hilton plaza room', 'queen suite with balcony and city view', 'double hilton guestroom', 'suite with rambla view', 'double or twin room non smoking', 'cosy double room', 'two adjacent superior double rooms', 'triple room with city view', 'double or twin room 1 adult', 'deluxe one bedroom suite with river view', 'double room insolite', 'comfort triple room with spa bath', 'grand deluxe king or twin room', 'secret room with spa access', 'privilege room with hammam', 'family quadruple room', 'deluxe queen room with view', 'design double or twin room', 'premium double or twin room xl with view', 'classic studio', 'premium triple room', 'king cathedral view room', 'apartment 4 adults', 'queensgate twin room', 'superior double room with spa access free wifi', 'duomo suite', 'double room tour eiffel with shower', 'privilege double room with saint germain des pr s church view', 'two adjoining rooms with dock view main deck', 'double or twin room single use', 'executive queen room with lounge access mobility access', 'plaza club room', 'suite 4 adults', 'two adjacent double rooms', 'superior twin room with courtyard garden or city view', 'queen room upper floors', 'champs elys es prestige junior suite', 'classic double or twin room 1 2 adults', 'superior twin room with airconditioning', 'double superior room', 'grand deluxe double room', 'double queen waterfront', 'curve suite with lounge access', '2 connecting rooms 5 people', 'deluxe double room 2 adults 1 child', 'tradition twin room', 'twin room with city view', 'deluxe family room with 1 double and 2 single beds', 'executive twin room with city view', 'art twin room', 'deluxe double room with state opera view', 'king master suite', 'studio twin room 3 adults', 'business double room ground floor', 'classic single room with garden view', 'family room 2 adults 1 child', 'special offer twin double room stay and park', 'two connecting double rooms 5 adults', 'king grand deluxe room', 'superior deluxe double or twin room with spa access', 'deluxe double room', 'triple room 2 adults 1 child', 'standard double or twin with view', 'superior junior suite', 'standard room with 2 single beds', 'prestige suite', 'quadruple room', 'standard double room with bridge view', 'double room medium heritage', 'stayed 2 nights', 'deluxe king', 'triple room relax', 'hyde park junior suite with park view', 'superior suite with garden view', 'superior deluxe double or twin room', 'family room 4 people', 'suite champs lys es', 'kings one bedroom suite', 'executive suite with queen bed and sofa bed 2 adults', 'executive deluxe', 'executive room with queen size bed and single sofa bed 2 adults 1 child', 'king deluxe room', 'mega room', 'superior double or twin room with free wifi', 'family suite with two connecting rooms', 'vend me deluxe room', 'four connecting rooms', 'executive double room with two double beds with lounge access', 'superior room with sofa bed 4 adults', 'superior queen suite with sofa 3 adults', 'small queen room', 'privilege double room with eiffel tower view', 'queen suite with lounge access', 'single room with bath', 'romantic offer double room', 'deluxe double room with free access to hamman', 'suite free executive lounge access', 'executive room 2 adults 2 children', 'classic double room with view', 'junior suite with balcony', 'tower suite with lounge access', 'executive double room eiffel studio d artiste with view of paris', 'senior suite 1 3 adults', 'connecting double rooms', 'superior family room 2 adults 2 children', 'triple junior suite', 'classic double single use', '1 king bed guest room', 'twin hilton deluxe', 'prestige double or twin room', 'prestige room with garden view free wifi', 'studio king 3 adults', 'executive double twin city view', 'club room', 'prestige triple room', 'double deluxe plus room', 'queen family room', 'double room with public transport ticket', 'deluxe double room with separate lounge area', 'eiffel tower view king room', 'queen guestroom', 'master bedroom double', 'double deluxe room', 'superior double or twin room xl with view', 'interior facing double room with natural light', 'executive room with river view', 'comfort quadruple room', 'junior suite with hydromassage shower', 'executive king or twin room', 'prestige double room', 'deluxe double plus single bed', 'superior double or twin room with pool spa access', 'junior suite with executive lounge access', 'family room 2 adults 2 children with access to nagomi health', 'premium room 2 adults', 'la petite maison', 'family suite with adjoining rooms', 'ring suite', 'special offer double room with parking', 'signature room', 'standard double room with bath', 'park deluxe suite', 'couture deluxe double room', 'executive double room with square view', 'superior room design style free wifi', 'deluxe king or twin room', 'superior room 3 persons', 'quality single room', 'executive room with 1 queensize bed', 'classic room breakfast included', 'superior double or twin room with balcony 1 adult', 'premium superior queen room', 'hilton executive suite with lounge access', 'king room with view', 'standard room with 1 queen bed and sofa 3 adults', 'family suite with balcony', 'deluxe double or twin room with ramblas view', 'two adjacent double room', 'comfort double room with park view', 'classic double room with city view', 'executive twin room with lounge access', 'the rooks nest', 'superior double room les artys les fifties', 'cabine single room', 'emotion room', 'deluxe king room 2 adults', 'twin room with free airport shuttle service from 5 00am to 00 30am', 'double hilton guest room plus', 'junior family suite 3 adults', 'queen junior suite', 'studio my little haussmann', 'superior king room', 'twin hilton room plus', 'superior king room with balcony', 'deluxe double', 'urban deluxe', 'economy single room', 'deluxe double room pigalle 21', 'superior queen room with courtyard garden or city view', 'luxury suite conservatory with lounge access', 'superior double or twin room with city view', 'superior family room 2 adults 1 child', 'bobo queen or twin room with spa access', 'executive apartment', 'duplex king suite 2 adults 2 children', 'suite with spa bath', 'duplex deluxe triple room 2 adults 1 child', 'junior suite with twin beds', 'deluxe double room with city view and spa access', 'belgravia suite', 'executive deluxe studio suite', 'triple room with park view', 'king family room', 'studio suite with club lounge access', 'squint penthouse suite', 'junior suite with view of the eiffel tower', 'king guest room with sofa bed', 'couture junior suite', 'sensation room', 'mansart executive room', 'superior room queen size bed and double sofa bed', 'junior triple suite', 'business double room 1 adult', 'single guest room', 'queen or two double beds room', 'luxury king room with river view', 'executive king room with panoramic view', 'superior queen suite with sofa bed 3 adults', 'executive premium room with a queen bed', 'bridal suite with view', 'classic room with garden view', 'business double or twin room facing the sea', 'king executive plus room', 'family room xl', 'double or twin room 1 or 2 adults', 'canal view king', 'superior room with queen bed and sofa', 'executive room with view and lounge access', 'junior suite 3 adults with spa access', 'superior room with balcony', 'deluxe double or twin room with canal view', 'grande suite', 'deluxe double room with canal view', 'knightsbridge suite', 'deluxe queen room with balcony', 'deluxe quadruple room with paris view', 'ashburn suite', 'two bedroom family room', 'superior double or twin room with courtyard view', 'deluxe family room with spa access', 'executive king twin room', 'superior guest room 1 king or 2 twin single bed s', 'queen room with mobility access', 'studio 2 adults', 'standard double room no window', 'delightful king twin room', 'park suite', 'standard double room with terrace', 'comfort double or twin room with extra bed', 'executive triple room with garden view', 'superior double room la s duisante', 'deluxe double or twin room 1 2 adults', 'superior queen room with extra bed 2 adults', 'superior room with queen size bed and double sofa bed', 'classic double or twin room', 'executive double room with eiffel tower view', 'junior suite 2 adults 2 children', 'executive double room with whirlpool', 'andaz large king room', 'privilege room with 1 double bed', 'premium double or twin room with view and terrace', 'standard twin room with sofa', 'privilege room 3 adults', 'superior double room with city view', 'grand premier king room', 'principle double', 'chambers grand junior suite with club lounge access', 'double room with city view', '2 twin beds guest room', 'shoreditch suite', 'luxury king room 3 adults', 'two adjoining double rooms', 'double room non smoking', 'double or twin room with city view', 'panorama suite', 'double family guest room', 'classic quadruple room', 'double twin rooms next to each other', 'executive studio city view', 'hoxton studio suite', 'deluxe single room', 'junior suite immersive art experience', 'standard room with queen bed renovated', 'king atrium suite with lounge access', 'stayed 19 nights', 'triple room annex', 'river twin suite', 'superior double room with free access to hamman', 'standard twin room', 'park suite view', 'superior premium queen room', 'principe suite', 'deluxe double with winter garden view', 'stayed 26 nights', 'deluxe twin room 3 adults', 'deluxe twin room with spa access', 'premier deluxe twin room', 'business studio suite', 'andaz king twin room', 'executive double or twin room', 'small double room without window', 'luxury double room mezzanine', 'luxury double room with balcony', 'double room 2 adults', 'standard double room pigalle 15', 'superior deluxe double room with canal view', 'superior double room with free pool access', 'queen room', 'halkin room', 'junior king suite with view 3 adults', 'small deluxe room with canal view', 'double room 1 adult', 'penthouse junior suite with access to executive lounge', 'deluxe junior partial river view', 'artist s studio king junior suite with spa access', 'deluxe triple room with spa access', 'king executive waterfront with access to executive lounge', 'emotion room with terrace', 'triple room free wi fi', 'deluxe double or twin room with terrace', 'double or twin room with extra bed 3 adults with free airport shuttle service from 5 00am to 00 30am', 'deluxe king room with water view', 'art deco room balcony', 'standard guestroom', 'standard double room with parking', 'junior suite with private pool', 'deluxe double room with balcony non smoking', 'royal mews view king room', 'luxury double room medium', 'skylight deluxe executive room', 'superior shard king', 'hilton deluxe king room', 'superior double room with 1 double bed and 1 sofa bed 2 places', '2 connecting rooms 4 people', 'standard double room non smoking', 'special offer deluxe double or twin room', 'deluxe room 2 adults', 'junior suite double 1 2 adults', 'standard double or twin room with extra bed', 'grand superior room', 'family apartment', 'executive room with 1 queen bed and 1 sofa 3 adults', 'comfort double or twin room', 'standard double room with two single beds', 'one bedroom family suite', 'king or twin room with river view', 'garden room', 'autentic double room', 'superior double studio', 'exclusive double or twin room la mondaine', 'penthouse', 'economy double room', 'hyatt queen room with view', 'executive room free executive lounge access', 'superior room with 1 double bed and 1 sofa bed 1 place', 'luxury two bedroom apartment', 'river view balcony suite', 'studio room', 'executive double room top floor', 'deluxe twin room with eiffel tower view', 'cool corner exchange', 'standard room', 'economy single room basement no window', 'ren room free wifi', 'junior suite sans mod ration', 'executive room selected at check in', 'superior room with 2 double beds', 'standard duplex room 3 adults', 'classique double room', 'superior room with one double bed', 'queen room with sofa bed', 'classic triple room 2 adults', 'superior king', 'studio king', 'superior double room with sofa', 'executive deluxe king room', 'one bedroom apartment penthouse', 'large penthouse suite with terrace and city view', 'courtyard suite with st stephen s cathedral view', 'classic king twin room', 'double room 1 2 adults', 'superior oversized queen room', 'comfort double room courtyard side', 'cosy room', 'king room with city view', 'classic family room', 'saint honor double suite', 'classic double room loge classique', 'king or double room with panoramic view', 'double room with small double bed', 'one bed feature room', 'king room with disability access non smoking', 'executive double room with access to executive lounge', 'junior alcove suite with access to executive lounge', 'superior twin room with free pool access', 'double or twin room 2 adults', 'triple room with terrace', 'comfort double or twin room 1 2 adults', 'suite king', 'queen guest room with river view', 'cool corner suite', 'single room city', 'double room with french bed', 'deluxe twin or single room', 'westminster suite with king bed', 'wonderful exchange king', 'executive room with double bed', 'queen or twin room', 'twin room with sea view', 'city suite', 'superior room with city view', '5 rooms', 'deluxe triple room swimming pool hammam access upon reservation', 'twin deluxe with canal view', 'deluxe king room wheelchair accessible', 'double room with single bed', 'superior double room with sofa bed 3 adults', 'superior suite with 1 double bed and 1 single bed', 'small studio', 'premium lafayette', 'large twin room', 'special offer deluxe room', 'superior king or twin room', 'superior room with queensize bed and single sofa bed 2 adults 1 child', 'double room with garden view', 'standard double room disability access', 'king room with eiffel tower view', 'superior double or twin room xl with extra bed', 'deluxe double room with terrace', 'sextuple room', '2 adjacent superior rooms', 'quadruple room with shower', 'junior suite with free access to steam bath', 'deluxe double or twin room with mountain view', 'family room with bathroom', 'four seasons executive king suite', 'duplex', 'quadruple room with sauna access', 'king suite non smoking', 'room with dock view upper deck', 'fabulous sky room', 'deluxe room with courtyard view', 'royal duplex suite', 'deluxe plus double or twin room', 'superior suite 3 adults 1 child', 'suite 1 3 adults', 'deluxe double room with panoramic view', 'luxury room 2 adults with canal view', 'suite duplex', 'hansen suite', 'executive with two double beds', 'deluxe room with two single beds', 'junior suite with spa bath', 'loft', 'deluxe room with pool access', 'superior pantheon room', 'deluxe boulevard double room', 'queen superior room', 'superior double or twin room with terrace', 'deluxe double room with balcony and free pool access', 'mezzanine suite', 'grand suite with canal view', 'double room ground floor', 'dalston king', 'premier river king room', 'double or twin room with sea view', 'one bedroom suite', 'family room 3 adults 1 child', 'deluxe junior suite with spa bath', 'eiffel tower view twin room', 'privilege family room', 'two adjacent rooms', 'standard double or twin room with extra bed 3 adults', 'large king room', 'two double adjoining rooms', 'marvellous suite', 'two connecting rooms 2 adults 2 children', 'deluxe apartment', 'twin room with executive lounge access', 'family room free wifi', 'club king room with lounge access', 'club double room with lounge access', 'andaz double room', 'double room 2 adults 1 child', 'twin deluxe room', 'junior suite with eiffel tower view', 'superior family room', 'superior twin room with eiffel tower view', 'premium king or queen room', 'superior triple room with 3 single beds', 'classic junior suite', 'premier king room with city view', 'junior suite parisienne', 'luxury room 3 adults with canal view', 'executive double room with air conditioning', 'deluxe double or twin room', 'double room with city view 1 2 adults', 'luxury duplex room', 'standard double room with panoramic view', 'executive studio with london eye view', 'canal view queens', 'two connecting classic double rooms', 'superior romantic double room', 'superior king room with lounge access', 'superior queen room with extra bed 3 adults', 'special offer single room with continental breakfast', 'twin studio', 'superior room', 'executive family room 2 adults and 2 children', 'superior room with 1 queensize bed canal view', 'jimmie martin penthouse suite', 'junior suite canal view', 'premier double or twin room', 'large deluxe room', 'king room with pool view', 'superior studio apartment', 'executive suite 1 king', 'deluxe room with club lounge access', 'double room attic', 'deluxe triple room with tea time included', 'luxury suite patio', 'junior suite', 'large canal view king', 'double room comtesse', 'stayed 30 nights', 'deluxe guest room', 'superior suite water front', 'two bedroom suite with two bathrooms', 'premier junior suite 1 2 adults', 'art deco room terrace', 'superior double or twin room with terrace spa acces', 'premier single room', 'junior room', 'executive king room with executive lounge access', 'junior suite courtyard', 'large double room with garden view', 'superior plus twin room', 'solo traveler', 'twin grand premier room', 'twin executive room', 'superior business room with a double bed and sofa bed', 'double room rouge epic e', 'single cabin room', 'luxury quadruple room', 'junior suite with private access to pool and spa', 'super deluxe double room', 'one bedroom suite with lounge access', 'superior room with 1 double bed', 'eiffel tower suite', 'deluxe double room with four poster bed', 'twin grand deluxe room', 'superior double room plus l insolente', 'two bedroom apartment', 'suite 2 adults 1 child', 'executive vend me triple room', 'junior suite with river view', 'regency executive suite with lounge access', 'hilton deluxe twin room plus', 'quality double or twin room', 'superior room with 1 single bed', 'executive double room eiffel tower view with 1 queensize and sofa bed', 'superior double or twin room xl', 'junior suite 5 adults', 'junior suite with park view', 'deluxe double room with terrace and eiffel tower view', 'suite family and friends', 'junior suite avenue', 'two bedroom deluxe suite', 'superior double or twin room non smoking', 'two connecting rooms', 'junior suite blue', 'standard double room with sofa bed', 'family superior room', 'standard room with 1 kingsize bed', 'king one bedroom suite with lounge access', 'suite with private pool', 'small single room with balcony', 'twin hilton guestroom', 'premier suite', 'privilege double room 2 adults 1 child', 'deluxe queen room', 'queen room mobility access', 'luxury double room large', 'city room', 'standard', 'duplex junior suite with spa access', 'apartment 6 adults', 'observatory king', 'twin room mobility access', 'deluxe double or twin room with parking', 'single room annex', 'green park suite', 'deluxe double room with 1 extra bed', 'superior king room with iconic view', '2 double connecting rooms', 'executive studio', 'universitat double or twin room', 'ground floor queen room disability access', 'mosaic double room', 'superior plus room', 'king hilton plaza room', 'premium suite', 'penthouse plaza suite with access to executive lounge', 'stayed 12 nights', 'executive twin room with access to the level lounge', 'executive queen room with sofa', 'deluxe king room with terrace', 'classic double room with garden view', 'superior queen room 2 adults', 'eiffel loft', 'triple room disability access', 'classic triple room 3 adults', 'one bedroom suite with kitchenette', 'standard room with terrace', 'superior premium room with queen bed sofa', 'superior premium queen room with sofa bed', 'superior double room with street view', 'deluxe double room canal view', 'double executive room', 'deluxe double or twin room with landmark view', 'twin room with extra bed', 'duplex king suite 3 adults', 'deluxe double room with private pool', 'family two bedroom suite', 'cosy twin room', 'studio', 'interconnecting double rooms', 'king hilton sea view', 'family room with sofa bed', 'garden view king', 'king room with executive lounge access', 'special offer double twin room stay and park', 'family room 2 adults 2 children', 'quadruple room annex', 'executive room with city view', 'double or twin room with balcony', 'superior deluxe room', 'superior triple room xl', 'premier deluxe double room', 'superior suite with city view', 'suite with hammam', 'deluxe suite 4 adults', 'executive king or twin room with lounge access and park view', 'basic twin room', 'triple executive room', 'executive queen room with two queen beds with lounge access', 'presidential suite with view terrace', 'standard double room with tea time included', 'single room with shower', 'standard twin room with 2 single beds', 'superior room with 1 queen bed and sofa', 'imperial club double room with access to the club lounge', 'suite with city view and parking', 'superior room with double bed and sofa bed', 'superior twin room with cathedral view', 'deluxe king suite', 'grand premium double or twin with sea view', 'wonderful bank with canal view', 'single hilton guestroom', 'club king room with view and lounge access', 'smart double or twin room', 'cabin single room', 'standard room with one double bed and single sofa bed', 'two adjoining rooms', 'luxury suite with whirlpool', 'double or twin room with garden view', 'four seasons twin junior suite', 'corner double room', 'deluxe king room with garden view', 'deluxe king room with balcony', 'superior room with club lounge access free wifi', 'executive double room with terrace', 'executive room with queen size bed and single sofa bed', 'junior suite with kingsize bed 3 persons', 'studio triple', 'king grand premier room', 'duplex family suite with spa bath', 'two adjoining superior suite', 'residence suite', 'one bedroom studio suite', 'junior suite with private garden', 'twin room', 'standard triple room', 'signature luxury king with balcony', 'garden king room', 'mini room', 'deluxe suite with executive lounge access', 'deluxe double room with spa bath', 'superior apartment 3 adults', 'queen guest room', 'the level room with executive lounge access', 'duplex apartment 6 adults', 'art king room', 'superior garden view room', 'double twin superior room', 'twin or double room with terrace', 'superior studio with city view', 'superior king room with sofa bed', 'junior suite saint honor', 'special offer double or twin room', 'superior twin room barlow wing', 'superior room pigalle', 'spring package deluxe double or twin room', 'one bedroom river view suite', 'deluxe family room with two double beds with paris view', 'luxury room club sofitel with spa access', 'premium family room', 'romantic special offer', 'suite with glass of champagne', 'junior suite with view and disability access', 'deluxe pantheon room', 'suite aurore', 'champs elys es prestige room', 'stayed 31 nights', 'executive twin room 1 2 adults', 'classic room', 'superior suite 3 adults', 'executive twin room with access to executive lounge', 'family junior suite 4 adults', 'comfort room with extra bed', 'wonderful sky room', 'suite with garden view and parking', 'deluxe family room', 'double room l', 'superior junior suite single use', 'urban suite', 'classic double room la parisienne', 'deluxe double twin room', 'superior double room non smoking', 'two connecting double or twin rooms', 'suite room', 'large room', 'eiffel suite with partial view', 'exclusive double room', 'premier king room barlow wing', 'twin room disability access', 'double or twin room select', 'fabulous bank king', 'attic suite 1 or 2 people', 'stayed 11 nights', 'executive twin room', 'corner larger executive room with executive lounge access free wifi', 'king grand premier with canal view', 'studio twin', 'executive double room with double bed and sofa bed', 'superior double room 1 adult', 'new amsterdam suite', 'superior double room with park view', 'champagne shopping package twin room', 'standard room with 1 single bed', 'superior double or twin room with view', 'one bedroom suite with executive lounge access', 'deluxe eiffel tower twin room', 'king city view room', 'executive king room with view', 'comfort single room with shower', 'three bedroom suite', 'executive master suite', 'deluxe guest room 1 king or 2 twin single bed s', 'deluxe queen room with pool view', 'two connecting executive rooms', 'park deluxe queen', 'montcalm club twin room', 'standard double or twin room annex building', 'corner suite 2 adults 1 child', 'deluxe room with city view', 'executive deluxe double room', 'dorsett double room', 'king deluxe family room', 'superior room with balcony with spa access', 'deluxe designer', 'luxury double or twin room', 'classic double room', 'hyatt queen room', 'duplex double room', 'privilege room with king bed', 'superior double or twin room tea time wine tasting included', 'superior double room loge sup rieure', 'accessible king room with lounge access', 'classic double or twin room with city view', 'executive room with two double beds', 'king room with river view', 'deluxe family room with 1 double and 2 single beds 4 adults', 'standard room with queensize bed and single sofa bed', 'standard room sopi', 'family room two connecting rooms vip welcome for kids', 'family suite', 'chelsea double suite', 'room assigned at check in', 'double room disability access tub', 'standard room with two single beds renovated', 'deluxe double room with garden view', 'superior queen suite with sofa bed', 'superior capucines room', 'premium twin room', 'deluxe double room with view and disability access', 'double room with arc de triomphe view a glass of champagne', 'deluxe double room with private patio', 'king accessible superior room', 'park deluxe king', 'two adjacent rooms 5 adults', 'deluxe l double room', 'basic single room', 'stayed 6 nights', 'double room for single use', 'king room disability access non smoking', 'two bedroom suite with terrace', 'superior double room with london eye view', 'cozy double or twin room', 'standard twin room with tea time included', 'classic room with queen bed', 'queen room with roll in shower mobility access non smoking', 'queen deluxe room', 'romantic double room', 'triple room with spa bath', '2 connecting rooms 4 adults', 'submitted from a mobile device', 'suite with sofa bed', 'king hilton executive room with access to executive lounge', 'non smoking standard room with 1 double bed', 'delegate deluxe double room', 'studio deluxe suite', 'club single room', 'executive king room', 'deluxe balcony room', 'condal double or twin room', 'king deluxe one bedroom suite with lounge access', 'level room with executive lounge access', 'deluxe one bedroom apartment', 'master suite', 'park view studio', 'double or twin room ladies special', 'king room non smoking', 'studio disability access', 'superior triple room', 'superior executive twin room', 'deluxe queen room with two queen beds', 'hilton superior twin room', 'palais suite', 'family duplex room', 'suite with spa access 3 adults', 'stayed 20 nights', 'hyatt king room with view', 'family room two connecting rooms', 'one bedroom suite with sea view', 'double room with shared bathroom', 'club eiffel tower king room', 'basic double or twin room', 'royal suite with canal view', 'superior suite 4 adults', 'king guestroom', 'king room second floor', 'penta plus room', 'standard double room with park view', 'king junior suite with view', 'triple room 3 adults', 'superior twin room 2 adults', 'basic double or twin room with parking', 'two interconnecting rooms', 'marina twin suite', 'special room', 'king room or twin room disability access', 'executive club room', 'standard room with double bed and sofa bed', 'suite with panoramic view', 'paris style queen or twin room with spa access', 'city king or twin room', 'superior room with sofa bed', 'superior king with balcony', 'executive suite 2 adults', 'deluxe double room without window', 'lower ground double room', 'deluxe double or twin room with opera view', 'suite elys e', 'executive room 1 queen size bed 1 sofa bed balcony', 'atrium', 'quadruple room 2 adults 2 children', 'deluxe single room with view', 'classic room with 2 double beds 4 adults', 'exclusive guest room 1 king or 2 twin single bed s', 'duplex king suite', 'superior room with garden view free wifi', 'superior double room with balcony and city view', 'studio double family', 'standard double or twin room with view', 'twin room with cathedral view', 'club room with club lounge access', 'loft suite disability access', 'family premium room 2 adults 2 children', 'andaz suite', 'deluxe double or twin room with spa bath', 'classic double or single room', 'octagon suite with lounge access', 'superior queen room with sofa', 'privilege room', 'executive business room with double bed', 'superior double room new style', 'superior double or twin room with landmark view', 'privilege suite', 'junior suite royal', 'privilege top floor with terrace', 'queen room non smoking', 'deluxe queen room with sofa', 'classic twin room with garden view', 'superior deluxe room with spa bath', 'cozy room', 'fabulous bank canal', 'queen room disability access non smoking', 'double room d couverte', 'standard double room with sea view', 'junior suite 1 2 adults', 'standard double room single use', 'solo room', 'special offer superior double room', 'superior queen suite with sofa', 'suite reloj', 'executive studio suite', 'club double room', 'x ordinary room', 'junior deluxe twin room', 'deluxe quadruple room with canal view', 'one bedroom suite with city view', 'petite double room', 'room with river view upper deck', 'wonderful bank king', 'mandarin double or twin room', 'deluxe boulevard twin room', 'deluxe room', 'superior room with 1 double bed and 1 single bed', 'double standard', 'ruyschen suite', 'grand executive club room', 'luxury room', 'superior double room with two double beds', 'suite with knightsbridge view', 'privilege room with a double bed upper floors', 'corner suite with lounge access', 'penta junior suite', 'premium double or twin room xl', 'family suite 4 adults', 'executive double or twin room la ravissante', 'stayed 3 nights', 'deluxe family room 3 adults', 'superior double room free wi fi', 'modern double room echo', 'luxury triple room', 'double room crash pad', 'executive double or twin room with harbour view', 'executive room with 1 queen bed and 1 sofa 2 adults', 'club double room with free internet and breakfast', 'park king', 'junior suite executive', 'stanhope suite', 'classic triple room', 'double room large heritage', 'standard double room without window', 'executive black suite', 'double room courtyard', 'junior suite with access to the club lounge', 'club twin room', 'king suite with sofa bed 3 adults', 'two adjacent double or twin rooms', 'superior suite junior', 'room with river view main deck', 'urban double or twin room', 'privilege room with double bed and single sofa bed', 'corner twin room', 'wonderful double room', 'superior double room with terrace and private pool', 'superior designer', 'deluxe king room with city view', 'twin executive plus room', 'interconnecting rooms', 'suite trocadero balcony with eiffel tower view', 'executive room non smoking', 'family studio', 'executive single room', 'special offer classic room with parking', 'standard double room with city view', 'stayed 5 nights', 'superior twin room with two double beds', 'double accessible guest room', 'deluxe double or twin room 3 adults', 'hyatt twin room', 'superior double room with spa access', 'compact double room shared bathroom', 'superior queen suite with sofa bed 2 adults', 'deluxe twin or double room', 'premium king room with view', 'superior room swimming pool hammam access upon reservation', 'suite 1 2 adults', 'suite with garden view', 'twin junior suite', 'classic single room', 'park deluxe executive king', 'grand deluxe double or twin room', 'small double room annex building', 'standard queen room with two queen beds', 'luxury suite with garden view', 'premium double or twin room with terrace and spa access', 'privilege junior suite with terrace and spa access', 'queen guest room with terrace', 'standard double or twin room with extra bed 2 adults 1 child', 'premium double room with views', 'double without credit card', 'hilton superior king room', 'triple studio', 'premium double room with terrace', 'special offer deluxe double room', 'stayed 14 nights', 'twin superior room', 'superior room with queensize bed and single sofa bed', 'junior suite premium with spa access', 'duplex suite with sofa bed', 'standard quadruple room', 'double room with extra bed 3 adults', 'pasha suite', 'suite vip welcome', 'deluxe double room 1 adult', 'executive double room with free access to steam bath', 'junior suite 4 adults', 'marina suite with canal view', 'suite with balcony', 'deluxe room with view', 'grand suite duplex', 'triple family guestroom', 'park suite with executive lounge access', 'double room with park view', 'junior suite with shower', 'superior queen room with pool access', 'twin executive room with lounge access', 'comfort double room with sacr coeur view', 'classic double room with street view', 'superior king suite', 'junior suite with double bed', 'art deco deluxe room patio and terrace', 'executive king room with city view', 'family room', 'superior room with spa access', 'large triple room', 'stayed 16 nights', 'superior double or twin room xl with extra bed 2 adults 1 child', 'premium junior suite with king size bed', 'champagne shopping package double room', 'executive king suite with lounge access', 'standard room with 1 queen bed', 'junior triple room', '2 connecting rooms 5 adults', 'deluxe king room with canary wharf view', 'suite terasse eiffel', 'superior twin room with paris view', 'exception room', 'family room two connecting rooms 3 adults', 'studio suite with lounge access', 'four seasons king junior suite', 'classic suite', 'double room disability access', 'superior double room with sea view', 'apartments 4 adults', 'double room luxury xxl king size bed', 'large single room', 'loft double room', 'regency suite king', 'twin bed suite', 'deluxe double room with club lounge access', 'classic double room with shower', 'park king or twin', 'family junior suite', 'classic double room with breakfast', 'deluxe double and single room', 'two connecting superior double rooms', 'large double room with champs elysees view', 'classic twin room', 'privilege double or twin room', 'junior suite with private pool spa access', 'deluxe two bedroom apartment', 'superior double room with massage chair', 'junior suite with view', 'suite avenue', 'superior room with spa access free wifi'}\n"
     ]
    },
    {
     "data": {
      "text/plain": [
       "2400"
      ]
     },
     "execution_count": 19,
     "metadata": {},
     "output_type": "execute_result"
    }
   ],
   "source": [
    "\n",
    "# global variable\n",
    "tag_sum_list = []\n",
    "\n",
    "def get_tag_sum_elems(tag_sum_string):\n",
    "    global tag_sum_list # use the global variable\n",
    "    # extend the global variable with this_list\n",
    "    tag_sum_list.extend(tag_sum_string)\n",
    "    return True\n",
    "\n",
    "for i in hoteltags_geo['new_tags']:\n",
    "    get_tag_sum_elems(i)\n",
    "\n",
    "tag_sum_set = set(tag_sum_list)\n",
    "print(tag_sum_set)\n",
    "len(tag_sum_set)"
   ]
  },
  {
   "cell_type": "code",
   "execution_count": 20,
   "id": "fbd8c2be",
   "metadata": {},
   "outputs": [
    {
     "data": {
      "text/plain": [
       "0       None\n",
       "1       None\n",
       "2       None\n",
       "3       None\n",
       "4       None\n",
       "        ... \n",
       "1469    None\n",
       "1470    None\n",
       "1471    None\n",
       "1472    None\n",
       "1473    None\n",
       "Name: new_tags, Length: 1474, dtype: object"
      ]
     },
     "execution_count": 20,
     "metadata": {},
     "output_type": "execute_result"
    }
   ],
   "source": [
    "# removing 'submitted from a mobile device' since this attribute has contributing factor to our investigation\n",
    "hoteltags_geo['new_tags'].apply(lambda x: x.remove('submitted from a mobile device'))"
   ]
  },
  {
   "cell_type": "code",
   "execution_count": 21,
   "id": "b209bd48",
   "metadata": {},
   "outputs": [],
   "source": [
    "#function to output the list of hotel with the respective attribute\n",
    "def get_special(s):\n",
    "    spike_cols = [col for col in tag_sum_set if s in col]\n",
    "    hotel_list = set()\n",
    "    for i in range(0, len(hoteltags_geo.tags)):\n",
    "        for j in range(0,len(spike_cols)):\n",
    "            if spike_cols[j] in hoteltags_geo.new_tags[i]:\n",
    "                hotel_list.add(hoteltags_geo[hoteltags_geo.index==i]['hotel_name'][i])\n",
    "                \n",
    "    return hoteltags_geo[hoteltags_geo.hotel_name.isin(list(hotel_list))][['hotel_name','lat_x','lng_x','city']]\n"
   ]
  },
  {
   "cell_type": "code",
   "execution_count": 23,
   "id": "9b42277d",
   "metadata": {},
   "outputs": [],
   "source": [
    "#plotting function to map out the location\n",
    "def get_map(df,imagepath):\n",
    "    if df.shape[0]<15:\n",
    "            map2 = folium.Map(location=[df.iloc[0].lat_x,df.iloc[0].lng_x], zoom_start=12)\n",
    "    elif df.shape[0]>15:\n",
    "        map2 = folium.Map(location=[df.iloc[0].lat_x,df.iloc[0].lng_x], zoom_start=2)\n",
    "\n",
    "    #generate folium\n",
    "    map2 = folium.Map(location=[df.iloc[0].lat_x,df.iloc[0].lng_x], zoom_start=12)\n",
    "    folium.raster_layers.TileLayer('Open Street Map').add_to(map2)\n",
    "    for i in range(0,len(df)):\n",
    "        folium.Marker(\n",
    "        location=[df.iloc[i].lat_x,df.iloc[i].lng_x],\n",
    "            tooltip=df.iloc[i].hotel_name,\n",
    "        icon=folium.Icon(icon_color='white')\n",
    "    ).add_to(map2)\n",
    "    map2.save(imagepath)\n",
    "    return map2\n"
   ]
  },
  {
   "cell_type": "code",
   "execution_count": 24,
   "id": "2c963eaa",
   "metadata": {},
   "outputs": [],
   "source": [
    "grp_col=['single room','river view','private pool','breakfast','spa bath','twin room','double room'\n",
    "       ,'superior room','king room','executive room','city view','sea view','stayed '\n",
    "       ,'eiffel twin','eiffel tower view','suite','triple room','penthouse','standard room','wheelchair accessible',\n",
    "      'family room ','deluxe room','apartment','terrace']\n",
    "newarray=[]\n",
    "\n",
    "for i in grp_col:\n",
    "    newarray.extend([col for col in tag_sum_set if i in col])"
   ]
  },
  {
   "cell_type": "code",
   "execution_count": 25,
   "id": "ef46ed79",
   "metadata": {},
   "outputs": [],
   "source": [
    "grp_col=['single room','river view','private pool','breakfast','spa bath','twin room','double room'\n",
    "       ,'superior room','king room','executive room','city view','sea view','stayed '\n",
    "       ,'eiffel twin','eiffel tower view','suite','triple room','penthouse','standard room','wheelchair accessible',\n",
    "      'family room ','deluxe room','guest room','apartment','terrace']\n"
   ]
  },
  {
   "cell_type": "code",
   "execution_count": 26,
   "id": "d126d3c1",
   "metadata": {},
   "outputs": [],
   "source": [
    "#function to refactor the attributes\n",
    "def new_fn(a,b):\n",
    "    efv= list(get_special(a).index)\n",
    "    for i in efv:\n",
    "        hoteltags_geo.iloc[i].new_tags.add(b)"
   ]
  },
  {
   "cell_type": "code",
   "execution_count": 30,
   "id": "08cbcb21",
   "metadata": {},
   "outputs": [
    {
     "data": {
      "text/plain": [
       "{'2 rooms',\n",
       " '4 rooms',\n",
       " 'business trip',\n",
       " 'classic double room',\n",
       " 'classic single room',\n",
       " 'classic twin room',\n",
       " 'comfort double room',\n",
       " 'couple',\n",
       " 'deluxe double room with eiffel tower view',\n",
       " 'deluxe eiffel twin',\n",
       " 'deluxe twin room with eiffel tower view',\n",
       " 'family with older children',\n",
       " 'family with young children',\n",
       " 'group',\n",
       " 'leisure trip',\n",
       " 'solo traveler',\n",
       " 'stayed 1 night',\n",
       " 'stayed 2 nights',\n",
       " 'stayed 3 nights',\n",
       " 'stayed 4 nights',\n",
       " 'stayed 5 nights',\n",
       " 'stayed 6 nights',\n",
       " 'suite',\n",
       " 'suite with eiffel tower view',\n",
       " 'superior double room',\n",
       " 'travelers with friends'}"
      ]
     },
     "execution_count": 30,
     "metadata": {},
     "output_type": "execute_result"
    }
   ],
   "source": [
    "hoteltags_geo.iloc[323].new_tags"
   ]
  },
  {
   "cell_type": "code",
   "execution_count": 31,
   "id": "50f3e2c2",
   "metadata": {},
   "outputs": [],
   "source": [
    "# to group/refactor hotel attributes to new attributes\n",
    "new_fn(\"single room\",\"single_room\")\n",
    "new_fn(\"river view\",\"river_view\")\n",
    "new_fn(\"private pool\",\"private_pool\")\n",
    "new_fn(\"breakfast\",\"break_fast\")\n",
    "new_fn(\"spa bath\",\"spa_bath\")\n",
    "new_fn(\"twin room\",\"twin_room\")\n",
    "new_fn(\"double room\",\"double_room\")\n",
    "new_fn(\"superior room\",\"superior_room\")\n",
    "new_fn(\"king room\",\"king_room\")\n",
    "new_fn(\"executive room\",\"executive_room\")\n",
    "new_fn(\"city view\",\"city_view\")\n",
    "new_fn(\"sea view\",\"sea_view\")\n",
    "new_fn(\"eiffel tower view\",\"eiffel_tower_view\")\n",
    "new_fn(\"suite\",'_suite_')\n",
    "new_fn(\"triple room\",'triple_room')\n",
    "new_fn(\"penthouse\",'_penthouse_')\n",
    "new_fn(\"standard room\",'standard_room')\n",
    "new_fn(\"wheelchair accessible\",'wheelchair_accessible')\n",
    "new_fn(\"family room \",'family_room')\n",
    "new_fn(\"deluxe room\",'deluxe_room')\n",
    "new_fn(\"guest room\",'guest_room')\n",
    "new_fn(\"apartment\",'_apartment_')\n",
    "new_fn(\"terrace\",'_terrace')\n"
   ]
  },
  {
   "cell_type": "code",
   "execution_count": 32,
   "id": "adb2bf94",
   "metadata": {},
   "outputs": [],
   "source": [
    "# to remove attributes which are not used after replacing with generic attribute\n",
    "for i in range(0, len(hoteltags_geo.new_tags)):\n",
    "    for j in range(0,len(newarray)):\n",
    "        if newarray[j] in hoteltags_geo.new_tags[i]:\n",
    "            hoteltags_geo.new_tags[i].remove(newarray[j])"
   ]
  },
  {
   "cell_type": "code",
   "execution_count": 33,
   "id": "07b25503",
   "metadata": {},
   "outputs": [
    {
     "data": {
      "text/plain": [
       "514"
      ]
     },
     "execution_count": 33,
     "metadata": {},
     "output_type": "execute_result"
    }
   ],
   "source": [
    "# global variable\n",
    "tag_sum_list = []\n",
    "\n",
    "def get_tag_sum_elems(tag_sum_string):\n",
    "    global tag_sum_list # use the global variable\n",
    "    # extend the global variable with this_list\n",
    "    tag_sum_list.extend(tag_sum_string)\n",
    "    return True\n",
    "\n",
    "for i in hoteltags_geo['new_tags']:\n",
    "    get_tag_sum_elems(i)\n",
    "\n",
    "tag_sum_set = set(tag_sum_list)\n",
    "len(tag_sum_set)"
   ]
  },
  {
   "cell_type": "code",
   "execution_count": 34,
   "id": "85fc9f5e",
   "metadata": {},
   "outputs": [
    {
     "name": "stderr",
     "output_type": "stream",
     "text": [
      "C:\\Users\\WAQARC~1\\AppData\\Local\\Temp/ipykernel_7048/2576507773.py:2: PerformanceWarning: DataFrame is highly fragmented.  This is usually the result of calling `frame.insert` many times, which has poor performance.  Consider joining all columns at once using pd.concat(axis=1) instead.  To get a de-fragmented frame, use `newframe = frame.copy()`\n",
      "  hoteltags_geo[i] = 0\n"
     ]
    }
   ],
   "source": [
    "for i in tag_sum_list:\n",
    "    hoteltags_geo[i] = 0"
   ]
  },
  {
   "cell_type": "code",
   "execution_count": 35,
   "id": "8e11fbeb",
   "metadata": {},
   "outputs": [
    {
     "data": {
      "text/html": [
       "<div>\n",
       "<style scoped>\n",
       "    .dataframe tbody tr th:only-of-type {\n",
       "        vertical-align: middle;\n",
       "    }\n",
       "\n",
       "    .dataframe tbody tr th {\n",
       "        vertical-align: top;\n",
       "    }\n",
       "\n",
       "    .dataframe thead th {\n",
       "        text-align: right;\n",
       "    }\n",
       "</style>\n",
       "<table border=\"1\" class=\"dataframe\">\n",
       "  <thead>\n",
       "    <tr style=\"text-align: right;\">\n",
       "      <th></th>\n",
       "      <th>hotel_name</th>\n",
       "      <th>tags</th>\n",
       "      <th>lat_x</th>\n",
       "      <th>lng_x</th>\n",
       "      <th>city</th>\n",
       "      <th>new_tags</th>\n",
       "      <th>leisure trip</th>\n",
       "      <th>couple</th>\n",
       "      <th>business trip</th>\n",
       "      <th>solo traveler</th>\n",
       "      <th>...</th>\n",
       "      <th>twin grand premier room</th>\n",
       "      <th>twin premier room</th>\n",
       "      <th>twin grand premier with canal view</th>\n",
       "      <th>king superior plus room</th>\n",
       "      <th>king loft</th>\n",
       "      <th>luxury quadruple room</th>\n",
       "      <th>large room</th>\n",
       "      <th>art room xl with iconic view</th>\n",
       "      <th>art room with iconic view</th>\n",
       "      <th>penta plus room</th>\n",
       "    </tr>\n",
       "  </thead>\n",
       "  <tbody>\n",
       "    <tr>\n",
       "      <th>0</th>\n",
       "      <td>11 Cadogan Gardens</td>\n",
       "      <td>[' Leisure trip ', ' Couple ', ' Superior Quee...</td>\n",
       "      <td>51.493616</td>\n",
       "      <td>-0.159235</td>\n",
       "      <td>Chelsea</td>\n",
       "      <td>{leisure trip, couple, business trip, solo tra...</td>\n",
       "      <td>0</td>\n",
       "      <td>0</td>\n",
       "      <td>0</td>\n",
       "      <td>0</td>\n",
       "      <td>...</td>\n",
       "      <td>0</td>\n",
       "      <td>0</td>\n",
       "      <td>0</td>\n",
       "      <td>0</td>\n",
       "      <td>0</td>\n",
       "      <td>0</td>\n",
       "      <td>0</td>\n",
       "      <td>0</td>\n",
       "      <td>0</td>\n",
       "      <td>0</td>\n",
       "    </tr>\n",
       "    <tr>\n",
       "      <th>1</th>\n",
       "      <td>1K Hotel</td>\n",
       "      <td>[' Leisure trip ', ' Couple ', ' Superior M Do...</td>\n",
       "      <td>48.863932</td>\n",
       "      <td>2.365874</td>\n",
       "      <td>Paris</td>\n",
       "      <td>{leisure trip, couple, business trip, solo tra...</td>\n",
       "      <td>0</td>\n",
       "      <td>0</td>\n",
       "      <td>0</td>\n",
       "      <td>0</td>\n",
       "      <td>...</td>\n",
       "      <td>0</td>\n",
       "      <td>0</td>\n",
       "      <td>0</td>\n",
       "      <td>0</td>\n",
       "      <td>0</td>\n",
       "      <td>0</td>\n",
       "      <td>0</td>\n",
       "      <td>0</td>\n",
       "      <td>0</td>\n",
       "      <td>0</td>\n",
       "    </tr>\n",
       "    <tr>\n",
       "      <th>2</th>\n",
       "      <td>25hours Hotel beim MuseumsQuartier</td>\n",
       "      <td>[' Leisure trip ', ' Solo traveler ', ' Standa...</td>\n",
       "      <td>48.206474</td>\n",
       "      <td>16.354630</td>\n",
       "      <td>Vienna</td>\n",
       "      <td>{city_view, leisure trip, with a pet, couple, ...</td>\n",
       "      <td>0</td>\n",
       "      <td>0</td>\n",
       "      <td>0</td>\n",
       "      <td>0</td>\n",
       "      <td>...</td>\n",
       "      <td>0</td>\n",
       "      <td>0</td>\n",
       "      <td>0</td>\n",
       "      <td>0</td>\n",
       "      <td>0</td>\n",
       "      <td>0</td>\n",
       "      <td>0</td>\n",
       "      <td>0</td>\n",
       "      <td>0</td>\n",
       "      <td>0</td>\n",
       "    </tr>\n",
       "    <tr>\n",
       "      <th>3</th>\n",
       "      <td>41</td>\n",
       "      <td>[' Leisure trip ', ' Couple ', ' Executive Kin...</td>\n",
       "      <td>51.498147</td>\n",
       "      <td>-0.143649</td>\n",
       "      <td>West End of London</td>\n",
       "      <td>{leisure trip, couple, business trip, solo tra...</td>\n",
       "      <td>0</td>\n",
       "      <td>0</td>\n",
       "      <td>0</td>\n",
       "      <td>0</td>\n",
       "      <td>...</td>\n",
       "      <td>0</td>\n",
       "      <td>0</td>\n",
       "      <td>0</td>\n",
       "      <td>0</td>\n",
       "      <td>0</td>\n",
       "      <td>0</td>\n",
       "      <td>0</td>\n",
       "      <td>0</td>\n",
       "      <td>0</td>\n",
       "      <td>0</td>\n",
       "    </tr>\n",
       "    <tr>\n",
       "      <th>4</th>\n",
       "      <td>45 Park Lane Dorchester Collection</td>\n",
       "      <td>[' Leisure trip ', ' Solo traveler ', ' Execut...</td>\n",
       "      <td>51.506371</td>\n",
       "      <td>-0.151536</td>\n",
       "      <td>West End of London</td>\n",
       "      <td>{business trip, leisure trip, family with youn...</td>\n",
       "      <td>0</td>\n",
       "      <td>0</td>\n",
       "      <td>0</td>\n",
       "      <td>0</td>\n",
       "      <td>...</td>\n",
       "      <td>0</td>\n",
       "      <td>0</td>\n",
       "      <td>0</td>\n",
       "      <td>0</td>\n",
       "      <td>0</td>\n",
       "      <td>0</td>\n",
       "      <td>0</td>\n",
       "      <td>0</td>\n",
       "      <td>0</td>\n",
       "      <td>0</td>\n",
       "    </tr>\n",
       "  </tbody>\n",
       "</table>\n",
       "<p>5 rows × 520 columns</p>\n",
       "</div>"
      ],
      "text/plain": [
       "                           hotel_name  \\\n",
       "0                  11 Cadogan Gardens   \n",
       "1                            1K Hotel   \n",
       "2  25hours Hotel beim MuseumsQuartier   \n",
       "3                                  41   \n",
       "4  45 Park Lane Dorchester Collection   \n",
       "\n",
       "                                                tags      lat_x      lng_x  \\\n",
       "0  [' Leisure trip ', ' Couple ', ' Superior Quee...  51.493616  -0.159235   \n",
       "1  [' Leisure trip ', ' Couple ', ' Superior M Do...  48.863932   2.365874   \n",
       "2  [' Leisure trip ', ' Solo traveler ', ' Standa...  48.206474  16.354630   \n",
       "3  [' Leisure trip ', ' Couple ', ' Executive Kin...  51.498147  -0.143649   \n",
       "4  [' Leisure trip ', ' Solo traveler ', ' Execut...  51.506371  -0.151536   \n",
       "\n",
       "                 city                                           new_tags  \\\n",
       "0             Chelsea  {leisure trip, couple, business trip, solo tra...   \n",
       "1               Paris  {leisure trip, couple, business trip, solo tra...   \n",
       "2              Vienna  {city_view, leisure trip, with a pet, couple, ...   \n",
       "3  West End of London  {leisure trip, couple, business trip, solo tra...   \n",
       "4  West End of London  {business trip, leisure trip, family with youn...   \n",
       "\n",
       "   leisure trip  couple  business trip  solo traveler  ...  \\\n",
       "0             0       0              0              0  ...   \n",
       "1             0       0              0              0  ...   \n",
       "2             0       0              0              0  ...   \n",
       "3             0       0              0              0  ...   \n",
       "4             0       0              0              0  ...   \n",
       "\n",
       "   twin grand premier room  twin premier room  \\\n",
       "0                        0                  0   \n",
       "1                        0                  0   \n",
       "2                        0                  0   \n",
       "3                        0                  0   \n",
       "4                        0                  0   \n",
       "\n",
       "   twin grand premier with canal view  king superior plus room  king loft  \\\n",
       "0                                   0                        0          0   \n",
       "1                                   0                        0          0   \n",
       "2                                   0                        0          0   \n",
       "3                                   0                        0          0   \n",
       "4                                   0                        0          0   \n",
       "\n",
       "   luxury quadruple room  large room  art room xl with iconic view  \\\n",
       "0                      0           0                             0   \n",
       "1                      0           0                             0   \n",
       "2                      0           0                             0   \n",
       "3                      0           0                             0   \n",
       "4                      0           0                             0   \n",
       "\n",
       "   art room with iconic view  penta plus room  \n",
       "0                          0                0  \n",
       "1                          0                0  \n",
       "2                          0                0  \n",
       "3                          0                0  \n",
       "4                          0                0  \n",
       "\n",
       "[5 rows x 520 columns]"
      ]
     },
     "execution_count": 35,
     "metadata": {},
     "output_type": "execute_result"
    }
   ],
   "source": [
    "hoteltags_geo.head()"
   ]
  },
  {
   "cell_type": "code",
   "execution_count": 36,
   "id": "6d3e4264",
   "metadata": {},
   "outputs": [],
   "source": [
    "#iterating through the columns comparing if attribtues in is presence in new_tags, assign 1 \n",
    "only_new_tags=pd.DataFrame(hoteltags_geo.new_tags.loc[:])\n",
    "\n",
    "for index, row in only_new_tags.iterrows():\n",
    "    cs_list = set(row['new_tags'])\n",
    "    \n",
    "    for j in cs_list:\n",
    "        #set corresponding column to 1\n",
    "        if j in tag_sum_set:\n",
    "            hoteltags_geo.loc[index,j]=1"
   ]
  },
  {
   "cell_type": "code",
   "execution_count": 37,
   "id": "b24422c5",
   "metadata": {},
   "outputs": [
    {
     "data": {
      "text/html": [
       "<div>\n",
       "<style scoped>\n",
       "    .dataframe tbody tr th:only-of-type {\n",
       "        vertical-align: middle;\n",
       "    }\n",
       "\n",
       "    .dataframe tbody tr th {\n",
       "        vertical-align: top;\n",
       "    }\n",
       "\n",
       "    .dataframe thead th {\n",
       "        text-align: right;\n",
       "    }\n",
       "</style>\n",
       "<table border=\"1\" class=\"dataframe\">\n",
       "  <thead>\n",
       "    <tr style=\"text-align: right;\">\n",
       "      <th></th>\n",
       "      <th>hotel_name</th>\n",
       "      <th>tags</th>\n",
       "      <th>lat_x</th>\n",
       "      <th>lng_x</th>\n",
       "      <th>city</th>\n",
       "      <th>new_tags</th>\n",
       "      <th>leisure trip</th>\n",
       "      <th>couple</th>\n",
       "      <th>business trip</th>\n",
       "      <th>solo traveler</th>\n",
       "      <th>...</th>\n",
       "      <th>twin grand premier room</th>\n",
       "      <th>twin premier room</th>\n",
       "      <th>twin grand premier with canal view</th>\n",
       "      <th>king superior plus room</th>\n",
       "      <th>king loft</th>\n",
       "      <th>luxury quadruple room</th>\n",
       "      <th>large room</th>\n",
       "      <th>art room xl with iconic view</th>\n",
       "      <th>art room with iconic view</th>\n",
       "      <th>penta plus room</th>\n",
       "    </tr>\n",
       "  </thead>\n",
       "  <tbody>\n",
       "    <tr>\n",
       "      <th>0</th>\n",
       "      <td>11 Cadogan Gardens</td>\n",
       "      <td>[' Leisure trip ', ' Couple ', ' Superior Quee...</td>\n",
       "      <td>51.493616</td>\n",
       "      <td>-0.159235</td>\n",
       "      <td>Chelsea</td>\n",
       "      <td>{leisure trip, couple, business trip, solo tra...</td>\n",
       "      <td>1</td>\n",
       "      <td>1</td>\n",
       "      <td>1</td>\n",
       "      <td>1</td>\n",
       "      <td>...</td>\n",
       "      <td>0</td>\n",
       "      <td>0</td>\n",
       "      <td>0</td>\n",
       "      <td>0</td>\n",
       "      <td>0</td>\n",
       "      <td>0</td>\n",
       "      <td>0</td>\n",
       "      <td>0</td>\n",
       "      <td>0</td>\n",
       "      <td>0</td>\n",
       "    </tr>\n",
       "    <tr>\n",
       "      <th>1</th>\n",
       "      <td>1K Hotel</td>\n",
       "      <td>[' Leisure trip ', ' Couple ', ' Superior M Do...</td>\n",
       "      <td>48.863932</td>\n",
       "      <td>2.365874</td>\n",
       "      <td>Paris</td>\n",
       "      <td>{leisure trip, couple, business trip, solo tra...</td>\n",
       "      <td>1</td>\n",
       "      <td>1</td>\n",
       "      <td>1</td>\n",
       "      <td>1</td>\n",
       "      <td>...</td>\n",
       "      <td>0</td>\n",
       "      <td>0</td>\n",
       "      <td>0</td>\n",
       "      <td>0</td>\n",
       "      <td>0</td>\n",
       "      <td>0</td>\n",
       "      <td>0</td>\n",
       "      <td>0</td>\n",
       "      <td>0</td>\n",
       "      <td>0</td>\n",
       "    </tr>\n",
       "    <tr>\n",
       "      <th>2</th>\n",
       "      <td>25hours Hotel beim MuseumsQuartier</td>\n",
       "      <td>[' Leisure trip ', ' Solo traveler ', ' Standa...</td>\n",
       "      <td>48.206474</td>\n",
       "      <td>16.354630</td>\n",
       "      <td>Vienna</td>\n",
       "      <td>{city_view, leisure trip, with a pet, couple, ...</td>\n",
       "      <td>1</td>\n",
       "      <td>1</td>\n",
       "      <td>1</td>\n",
       "      <td>1</td>\n",
       "      <td>...</td>\n",
       "      <td>0</td>\n",
       "      <td>0</td>\n",
       "      <td>0</td>\n",
       "      <td>0</td>\n",
       "      <td>0</td>\n",
       "      <td>0</td>\n",
       "      <td>0</td>\n",
       "      <td>0</td>\n",
       "      <td>0</td>\n",
       "      <td>0</td>\n",
       "    </tr>\n",
       "    <tr>\n",
       "      <th>3</th>\n",
       "      <td>41</td>\n",
       "      <td>[' Leisure trip ', ' Couple ', ' Executive Kin...</td>\n",
       "      <td>51.498147</td>\n",
       "      <td>-0.143649</td>\n",
       "      <td>West End of London</td>\n",
       "      <td>{leisure trip, couple, business trip, solo tra...</td>\n",
       "      <td>1</td>\n",
       "      <td>1</td>\n",
       "      <td>1</td>\n",
       "      <td>1</td>\n",
       "      <td>...</td>\n",
       "      <td>0</td>\n",
       "      <td>0</td>\n",
       "      <td>0</td>\n",
       "      <td>0</td>\n",
       "      <td>0</td>\n",
       "      <td>0</td>\n",
       "      <td>0</td>\n",
       "      <td>0</td>\n",
       "      <td>0</td>\n",
       "      <td>0</td>\n",
       "    </tr>\n",
       "    <tr>\n",
       "      <th>4</th>\n",
       "      <td>45 Park Lane Dorchester Collection</td>\n",
       "      <td>[' Leisure trip ', ' Solo traveler ', ' Execut...</td>\n",
       "      <td>51.506371</td>\n",
       "      <td>-0.151536</td>\n",
       "      <td>West End of London</td>\n",
       "      <td>{business trip, leisure trip, family with youn...</td>\n",
       "      <td>1</td>\n",
       "      <td>1</td>\n",
       "      <td>1</td>\n",
       "      <td>1</td>\n",
       "      <td>...</td>\n",
       "      <td>0</td>\n",
       "      <td>0</td>\n",
       "      <td>0</td>\n",
       "      <td>0</td>\n",
       "      <td>0</td>\n",
       "      <td>0</td>\n",
       "      <td>0</td>\n",
       "      <td>0</td>\n",
       "      <td>0</td>\n",
       "      <td>0</td>\n",
       "    </tr>\n",
       "  </tbody>\n",
       "</table>\n",
       "<p>5 rows × 520 columns</p>\n",
       "</div>"
      ],
      "text/plain": [
       "                           hotel_name  \\\n",
       "0                  11 Cadogan Gardens   \n",
       "1                            1K Hotel   \n",
       "2  25hours Hotel beim MuseumsQuartier   \n",
       "3                                  41   \n",
       "4  45 Park Lane Dorchester Collection   \n",
       "\n",
       "                                                tags      lat_x      lng_x  \\\n",
       "0  [' Leisure trip ', ' Couple ', ' Superior Quee...  51.493616  -0.159235   \n",
       "1  [' Leisure trip ', ' Couple ', ' Superior M Do...  48.863932   2.365874   \n",
       "2  [' Leisure trip ', ' Solo traveler ', ' Standa...  48.206474  16.354630   \n",
       "3  [' Leisure trip ', ' Couple ', ' Executive Kin...  51.498147  -0.143649   \n",
       "4  [' Leisure trip ', ' Solo traveler ', ' Execut...  51.506371  -0.151536   \n",
       "\n",
       "                 city                                           new_tags  \\\n",
       "0             Chelsea  {leisure trip, couple, business trip, solo tra...   \n",
       "1               Paris  {leisure trip, couple, business trip, solo tra...   \n",
       "2              Vienna  {city_view, leisure trip, with a pet, couple, ...   \n",
       "3  West End of London  {leisure trip, couple, business trip, solo tra...   \n",
       "4  West End of London  {business trip, leisure trip, family with youn...   \n",
       "\n",
       "   leisure trip  couple  business trip  solo traveler  ...  \\\n",
       "0             1       1              1              1  ...   \n",
       "1             1       1              1              1  ...   \n",
       "2             1       1              1              1  ...   \n",
       "3             1       1              1              1  ...   \n",
       "4             1       1              1              1  ...   \n",
       "\n",
       "   twin grand premier room  twin premier room  \\\n",
       "0                        0                  0   \n",
       "1                        0                  0   \n",
       "2                        0                  0   \n",
       "3                        0                  0   \n",
       "4                        0                  0   \n",
       "\n",
       "   twin grand premier with canal view  king superior plus room  king loft  \\\n",
       "0                                   0                        0          0   \n",
       "1                                   0                        0          0   \n",
       "2                                   0                        0          0   \n",
       "3                                   0                        0          0   \n",
       "4                                   0                        0          0   \n",
       "\n",
       "   luxury quadruple room  large room  art room xl with iconic view  \\\n",
       "0                      0           0                             0   \n",
       "1                      0           0                             0   \n",
       "2                      0           0                             0   \n",
       "3                      0           0                             0   \n",
       "4                      0           0                             0   \n",
       "\n",
       "   art room with iconic view  penta plus room  \n",
       "0                          0                0  \n",
       "1                          0                0  \n",
       "2                          0                0  \n",
       "3                          0                0  \n",
       "4                          0                0  \n",
       "\n",
       "[5 rows x 520 columns]"
      ]
     },
     "execution_count": 37,
     "metadata": {},
     "output_type": "execute_result"
    }
   ],
   "source": [
    "hoteltags_geo.head()"
   ]
  },
  {
   "cell_type": "code",
   "execution_count": 38,
   "id": "551fcb37",
   "metadata": {},
   "outputs": [],
   "source": [
    "index_room = ['single_room','twin_room','double_room','superior_room'\n",
    "        ,'king_room','executive_room','_suite_','triple_room',\n",
    "        '_penthouse_','standard_room','family_room','deluxe_room','guest_room','_apartment_',\n",
    "        '_terrace_']\n",
    "room_count=[]\n",
    "\n",
    "for i in index_room:\n",
    "    room_count.append(get_special(i).shape[0])\n"
   ]
  },
  {
   "cell_type": "code",
   "execution_count": 42,
   "id": "7384f128",
   "metadata": {},
   "outputs": [],
   "source": [
    "import plotly.io as pio\n"
   ]
  },
  {
   "cell_type": "code",
   "execution_count": 41,
   "id": "436f584f",
   "metadata": {},
   "outputs": [
    {
     "name": "stdout",
     "output_type": "stream",
     "text": [
      "Requirement already satisfied: plotly in c:\\users\\waqar computer\\anaconda3\\lib\\site-packages (5.8.0)\n",
      "Requirement already satisfied: tenacity>=6.2.0 in c:\\users\\waqar computer\\anaconda3\\lib\\site-packages (from plotly) (8.0.1)\n"
     ]
    }
   ],
   "source": [
    "!pip install plotly\n"
   ]
  },
  {
   "cell_type": "code",
   "execution_count": 47,
   "id": "94cad4f1",
   "metadata": {},
   "outputs": [
    {
     "data": {
      "application/vnd.plotly.v1+json": {
       "config": {
        "linkText": "Export to plot.ly",
        "plotlyServerURL": "https://plot.ly",
        "showLink": true
       },
       "data": [
        {
         "marker": {
          "color": "rgba(255, 153, 51, 0.6)",
          "line": {
           "color": "rgba(255, 153, 51, 1.0)",
           "width": 1
          }
         },
         "name": "No.of Hotel",
         "orientation": "h",
         "text": "",
         "type": "bar",
         "x": [
          486,
          896,
          1046,
          137,
          204,
          78,
          827,
          288,
          17,
          46,
          89,
          124,
          29,
          59,
          0
         ],
         "y": [
          "single_room",
          "twin_room",
          "double_room",
          "superior_room",
          "king_room",
          "executive_room",
          "_suite_",
          "triple_room",
          "_penthouse_",
          "standard_room",
          "family_room",
          "deluxe_room",
          "guest_room",
          "_apartment_",
          "_terrace_"
         ]
        }
       ],
       "layout": {
        "legend": {
         "bgcolor": "#F5F6F9",
         "font": {
          "color": "#4D5663"
         }
        },
        "paper_bgcolor": "#F5F6F9",
        "plot_bgcolor": "#F5F6F9",
        "template": {
         "data": {
          "bar": [
           {
            "error_x": {
             "color": "#2a3f5f"
            },
            "error_y": {
             "color": "#2a3f5f"
            },
            "marker": {
             "line": {
              "color": "#E5ECF6",
              "width": 0.5
             },
             "pattern": {
              "fillmode": "overlay",
              "size": 10,
              "solidity": 0.2
             }
            },
            "type": "bar"
           }
          ],
          "barpolar": [
           {
            "marker": {
             "line": {
              "color": "#E5ECF6",
              "width": 0.5
             },
             "pattern": {
              "fillmode": "overlay",
              "size": 10,
              "solidity": 0.2
             }
            },
            "type": "barpolar"
           }
          ],
          "carpet": [
           {
            "aaxis": {
             "endlinecolor": "#2a3f5f",
             "gridcolor": "white",
             "linecolor": "white",
             "minorgridcolor": "white",
             "startlinecolor": "#2a3f5f"
            },
            "baxis": {
             "endlinecolor": "#2a3f5f",
             "gridcolor": "white",
             "linecolor": "white",
             "minorgridcolor": "white",
             "startlinecolor": "#2a3f5f"
            },
            "type": "carpet"
           }
          ],
          "choropleth": [
           {
            "colorbar": {
             "outlinewidth": 0,
             "ticks": ""
            },
            "type": "choropleth"
           }
          ],
          "contour": [
           {
            "colorbar": {
             "outlinewidth": 0,
             "ticks": ""
            },
            "colorscale": [
             [
              0,
              "#0d0887"
             ],
             [
              0.1111111111111111,
              "#46039f"
             ],
             [
              0.2222222222222222,
              "#7201a8"
             ],
             [
              0.3333333333333333,
              "#9c179e"
             ],
             [
              0.4444444444444444,
              "#bd3786"
             ],
             [
              0.5555555555555556,
              "#d8576b"
             ],
             [
              0.6666666666666666,
              "#ed7953"
             ],
             [
              0.7777777777777778,
              "#fb9f3a"
             ],
             [
              0.8888888888888888,
              "#fdca26"
             ],
             [
              1,
              "#f0f921"
             ]
            ],
            "type": "contour"
           }
          ],
          "contourcarpet": [
           {
            "colorbar": {
             "outlinewidth": 0,
             "ticks": ""
            },
            "type": "contourcarpet"
           }
          ],
          "heatmap": [
           {
            "colorbar": {
             "outlinewidth": 0,
             "ticks": ""
            },
            "colorscale": [
             [
              0,
              "#0d0887"
             ],
             [
              0.1111111111111111,
              "#46039f"
             ],
             [
              0.2222222222222222,
              "#7201a8"
             ],
             [
              0.3333333333333333,
              "#9c179e"
             ],
             [
              0.4444444444444444,
              "#bd3786"
             ],
             [
              0.5555555555555556,
              "#d8576b"
             ],
             [
              0.6666666666666666,
              "#ed7953"
             ],
             [
              0.7777777777777778,
              "#fb9f3a"
             ],
             [
              0.8888888888888888,
              "#fdca26"
             ],
             [
              1,
              "#f0f921"
             ]
            ],
            "type": "heatmap"
           }
          ],
          "heatmapgl": [
           {
            "colorbar": {
             "outlinewidth": 0,
             "ticks": ""
            },
            "colorscale": [
             [
              0,
              "#0d0887"
             ],
             [
              0.1111111111111111,
              "#46039f"
             ],
             [
              0.2222222222222222,
              "#7201a8"
             ],
             [
              0.3333333333333333,
              "#9c179e"
             ],
             [
              0.4444444444444444,
              "#bd3786"
             ],
             [
              0.5555555555555556,
              "#d8576b"
             ],
             [
              0.6666666666666666,
              "#ed7953"
             ],
             [
              0.7777777777777778,
              "#fb9f3a"
             ],
             [
              0.8888888888888888,
              "#fdca26"
             ],
             [
              1,
              "#f0f921"
             ]
            ],
            "type": "heatmapgl"
           }
          ],
          "histogram": [
           {
            "marker": {
             "pattern": {
              "fillmode": "overlay",
              "size": 10,
              "solidity": 0.2
             }
            },
            "type": "histogram"
           }
          ],
          "histogram2d": [
           {
            "colorbar": {
             "outlinewidth": 0,
             "ticks": ""
            },
            "colorscale": [
             [
              0,
              "#0d0887"
             ],
             [
              0.1111111111111111,
              "#46039f"
             ],
             [
              0.2222222222222222,
              "#7201a8"
             ],
             [
              0.3333333333333333,
              "#9c179e"
             ],
             [
              0.4444444444444444,
              "#bd3786"
             ],
             [
              0.5555555555555556,
              "#d8576b"
             ],
             [
              0.6666666666666666,
              "#ed7953"
             ],
             [
              0.7777777777777778,
              "#fb9f3a"
             ],
             [
              0.8888888888888888,
              "#fdca26"
             ],
             [
              1,
              "#f0f921"
             ]
            ],
            "type": "histogram2d"
           }
          ],
          "histogram2dcontour": [
           {
            "colorbar": {
             "outlinewidth": 0,
             "ticks": ""
            },
            "colorscale": [
             [
              0,
              "#0d0887"
             ],
             [
              0.1111111111111111,
              "#46039f"
             ],
             [
              0.2222222222222222,
              "#7201a8"
             ],
             [
              0.3333333333333333,
              "#9c179e"
             ],
             [
              0.4444444444444444,
              "#bd3786"
             ],
             [
              0.5555555555555556,
              "#d8576b"
             ],
             [
              0.6666666666666666,
              "#ed7953"
             ],
             [
              0.7777777777777778,
              "#fb9f3a"
             ],
             [
              0.8888888888888888,
              "#fdca26"
             ],
             [
              1,
              "#f0f921"
             ]
            ],
            "type": "histogram2dcontour"
           }
          ],
          "mesh3d": [
           {
            "colorbar": {
             "outlinewidth": 0,
             "ticks": ""
            },
            "type": "mesh3d"
           }
          ],
          "parcoords": [
           {
            "line": {
             "colorbar": {
              "outlinewidth": 0,
              "ticks": ""
             }
            },
            "type": "parcoords"
           }
          ],
          "pie": [
           {
            "automargin": true,
            "type": "pie"
           }
          ],
          "scatter": [
           {
            "fillpattern": {
             "fillmode": "overlay",
             "size": 10,
             "solidity": 0.2
            },
            "type": "scatter"
           }
          ],
          "scatter3d": [
           {
            "line": {
             "colorbar": {
              "outlinewidth": 0,
              "ticks": ""
             }
            },
            "marker": {
             "colorbar": {
              "outlinewidth": 0,
              "ticks": ""
             }
            },
            "type": "scatter3d"
           }
          ],
          "scattercarpet": [
           {
            "marker": {
             "colorbar": {
              "outlinewidth": 0,
              "ticks": ""
             }
            },
            "type": "scattercarpet"
           }
          ],
          "scattergeo": [
           {
            "marker": {
             "colorbar": {
              "outlinewidth": 0,
              "ticks": ""
             }
            },
            "type": "scattergeo"
           }
          ],
          "scattergl": [
           {
            "marker": {
             "colorbar": {
              "outlinewidth": 0,
              "ticks": ""
             }
            },
            "type": "scattergl"
           }
          ],
          "scattermapbox": [
           {
            "marker": {
             "colorbar": {
              "outlinewidth": 0,
              "ticks": ""
             }
            },
            "type": "scattermapbox"
           }
          ],
          "scatterpolar": [
           {
            "marker": {
             "colorbar": {
              "outlinewidth": 0,
              "ticks": ""
             }
            },
            "type": "scatterpolar"
           }
          ],
          "scatterpolargl": [
           {
            "marker": {
             "colorbar": {
              "outlinewidth": 0,
              "ticks": ""
             }
            },
            "type": "scatterpolargl"
           }
          ],
          "scatterternary": [
           {
            "marker": {
             "colorbar": {
              "outlinewidth": 0,
              "ticks": ""
             }
            },
            "type": "scatterternary"
           }
          ],
          "surface": [
           {
            "colorbar": {
             "outlinewidth": 0,
             "ticks": ""
            },
            "colorscale": [
             [
              0,
              "#0d0887"
             ],
             [
              0.1111111111111111,
              "#46039f"
             ],
             [
              0.2222222222222222,
              "#7201a8"
             ],
             [
              0.3333333333333333,
              "#9c179e"
             ],
             [
              0.4444444444444444,
              "#bd3786"
             ],
             [
              0.5555555555555556,
              "#d8576b"
             ],
             [
              0.6666666666666666,
              "#ed7953"
             ],
             [
              0.7777777777777778,
              "#fb9f3a"
             ],
             [
              0.8888888888888888,
              "#fdca26"
             ],
             [
              1,
              "#f0f921"
             ]
            ],
            "type": "surface"
           }
          ],
          "table": [
           {
            "cells": {
             "fill": {
              "color": "#EBF0F8"
             },
             "line": {
              "color": "white"
             }
            },
            "header": {
             "fill": {
              "color": "#C8D4E3"
             },
             "line": {
              "color": "white"
             }
            },
            "type": "table"
           }
          ]
         },
         "layout": {
          "annotationdefaults": {
           "arrowcolor": "#2a3f5f",
           "arrowhead": 0,
           "arrowwidth": 1
          },
          "autotypenumbers": "strict",
          "coloraxis": {
           "colorbar": {
            "outlinewidth": 0,
            "ticks": ""
           }
          },
          "colorscale": {
           "diverging": [
            [
             0,
             "#8e0152"
            ],
            [
             0.1,
             "#c51b7d"
            ],
            [
             0.2,
             "#de77ae"
            ],
            [
             0.3,
             "#f1b6da"
            ],
            [
             0.4,
             "#fde0ef"
            ],
            [
             0.5,
             "#f7f7f7"
            ],
            [
             0.6,
             "#e6f5d0"
            ],
            [
             0.7,
             "#b8e186"
            ],
            [
             0.8,
             "#7fbc41"
            ],
            [
             0.9,
             "#4d9221"
            ],
            [
             1,
             "#276419"
            ]
           ],
           "sequential": [
            [
             0,
             "#0d0887"
            ],
            [
             0.1111111111111111,
             "#46039f"
            ],
            [
             0.2222222222222222,
             "#7201a8"
            ],
            [
             0.3333333333333333,
             "#9c179e"
            ],
            [
             0.4444444444444444,
             "#bd3786"
            ],
            [
             0.5555555555555556,
             "#d8576b"
            ],
            [
             0.6666666666666666,
             "#ed7953"
            ],
            [
             0.7777777777777778,
             "#fb9f3a"
            ],
            [
             0.8888888888888888,
             "#fdca26"
            ],
            [
             1,
             "#f0f921"
            ]
           ],
           "sequentialminus": [
            [
             0,
             "#0d0887"
            ],
            [
             0.1111111111111111,
             "#46039f"
            ],
            [
             0.2222222222222222,
             "#7201a8"
            ],
            [
             0.3333333333333333,
             "#9c179e"
            ],
            [
             0.4444444444444444,
             "#bd3786"
            ],
            [
             0.5555555555555556,
             "#d8576b"
            ],
            [
             0.6666666666666666,
             "#ed7953"
            ],
            [
             0.7777777777777778,
             "#fb9f3a"
            ],
            [
             0.8888888888888888,
             "#fdca26"
            ],
            [
             1,
             "#f0f921"
            ]
           ]
          },
          "colorway": [
           "#636efa",
           "#EF553B",
           "#00cc96",
           "#ab63fa",
           "#FFA15A",
           "#19d3f3",
           "#FF6692",
           "#B6E880",
           "#FF97FF",
           "#FECB52"
          ],
          "font": {
           "color": "#2a3f5f"
          },
          "geo": {
           "bgcolor": "white",
           "lakecolor": "white",
           "landcolor": "#E5ECF6",
           "showlakes": true,
           "showland": true,
           "subunitcolor": "white"
          },
          "hoverlabel": {
           "align": "left"
          },
          "hovermode": "closest",
          "mapbox": {
           "style": "light"
          },
          "paper_bgcolor": "white",
          "plot_bgcolor": "#E5ECF6",
          "polar": {
           "angularaxis": {
            "gridcolor": "white",
            "linecolor": "white",
            "ticks": ""
           },
           "bgcolor": "#E5ECF6",
           "radialaxis": {
            "gridcolor": "white",
            "linecolor": "white",
            "ticks": ""
           }
          },
          "scene": {
           "xaxis": {
            "backgroundcolor": "#E5ECF6",
            "gridcolor": "white",
            "gridwidth": 2,
            "linecolor": "white",
            "showbackground": true,
            "ticks": "",
            "zerolinecolor": "white"
           },
           "yaxis": {
            "backgroundcolor": "#E5ECF6",
            "gridcolor": "white",
            "gridwidth": 2,
            "linecolor": "white",
            "showbackground": true,
            "ticks": "",
            "zerolinecolor": "white"
           },
           "zaxis": {
            "backgroundcolor": "#E5ECF6",
            "gridcolor": "white",
            "gridwidth": 2,
            "linecolor": "white",
            "showbackground": true,
            "ticks": "",
            "zerolinecolor": "white"
           }
          },
          "shapedefaults": {
           "line": {
            "color": "#2a3f5f"
           }
          },
          "ternary": {
           "aaxis": {
            "gridcolor": "white",
            "linecolor": "white",
            "ticks": ""
           },
           "baxis": {
            "gridcolor": "white",
            "linecolor": "white",
            "ticks": ""
           },
           "bgcolor": "#E5ECF6",
           "caxis": {
            "gridcolor": "white",
            "linecolor": "white",
            "ticks": ""
           }
          },
          "title": {
           "x": 0.05
          },
          "xaxis": {
           "automargin": true,
           "gridcolor": "white",
           "linecolor": "white",
           "ticks": "",
           "title": {
            "standoff": 15
           },
           "zerolinecolor": "white",
           "zerolinewidth": 2
          },
          "yaxis": {
           "automargin": true,
           "gridcolor": "white",
           "linecolor": "white",
           "ticks": "",
           "title": {
            "standoff": 15
           },
           "zerolinecolor": "white",
           "zerolinewidth": 2
          }
         }
        },
        "title": {
         "font": {
          "color": "#4D5663"
         },
         "text": "Number of hotels by Room Types"
        },
        "xaxis": {
         "gridcolor": "#E1E5ED",
         "linecolor": "black",
         "showgrid": true,
         "tickfont": {
          "color": "#4D5663"
         },
         "title": {
          "font": {
           "color": "#4D5663"
          },
          "text": ""
         },
         "zerolinecolor": "#E1E5ED"
        },
        "yaxis": {
         "gridcolor": "#E1E5ED",
         "linecolor": "black",
         "showgrid": true,
         "tickfont": {
          "color": "#4D5663"
         },
         "title": {
          "font": {
           "color": "#4D5663"
          },
          "text": "Room Types"
         },
         "zerolinecolor": "#E1E5ED"
        }
       }
      },
      "text/html": [
       "<div>                            <div id=\"35d6b8ac-0bf5-4bb5-b7b3-e57185a438a9\" class=\"plotly-graph-div\" style=\"height:525px; width:100%;\"></div>            <script type=\"text/javascript\">                require([\"plotly\"], function(Plotly) {                    window.PLOTLYENV=window.PLOTLYENV || {};\n",
       "                    window.PLOTLYENV.BASE_URL='https://plot.ly';                                    if (document.getElementById(\"35d6b8ac-0bf5-4bb5-b7b3-e57185a438a9\")) {                    Plotly.newPlot(                        \"35d6b8ac-0bf5-4bb5-b7b3-e57185a438a9\",                        [{\"marker\":{\"color\":\"rgba(255, 153, 51, 0.6)\",\"line\":{\"color\":\"rgba(255, 153, 51, 1.0)\",\"width\":1}},\"name\":\"No.of Hotel\",\"orientation\":\"h\",\"text\":\"\",\"x\":[486,896,1046,137,204,78,827,288,17,46,89,124,29,59,0],\"y\":[\"single_room\",\"twin_room\",\"double_room\",\"superior_room\",\"king_room\",\"executive_room\",\"_suite_\",\"triple_room\",\"_penthouse_\",\"standard_room\",\"family_room\",\"deluxe_room\",\"guest_room\",\"_apartment_\",\"_terrace_\"],\"type\":\"bar\"}],                        {\"legend\":{\"bgcolor\":\"#F5F6F9\",\"font\":{\"color\":\"#4D5663\"}},\"paper_bgcolor\":\"#F5F6F9\",\"plot_bgcolor\":\"#F5F6F9\",\"template\":{\"data\":{\"barpolar\":[{\"marker\":{\"line\":{\"color\":\"#E5ECF6\",\"width\":0.5},\"pattern\":{\"fillmode\":\"overlay\",\"size\":10,\"solidity\":0.2}},\"type\":\"barpolar\"}],\"bar\":[{\"error_x\":{\"color\":\"#2a3f5f\"},\"error_y\":{\"color\":\"#2a3f5f\"},\"marker\":{\"line\":{\"color\":\"#E5ECF6\",\"width\":0.5},\"pattern\":{\"fillmode\":\"overlay\",\"size\":10,\"solidity\":0.2}},\"type\":\"bar\"}],\"carpet\":[{\"aaxis\":{\"endlinecolor\":\"#2a3f5f\",\"gridcolor\":\"white\",\"linecolor\":\"white\",\"minorgridcolor\":\"white\",\"startlinecolor\":\"#2a3f5f\"},\"baxis\":{\"endlinecolor\":\"#2a3f5f\",\"gridcolor\":\"white\",\"linecolor\":\"white\",\"minorgridcolor\":\"white\",\"startlinecolor\":\"#2a3f5f\"},\"type\":\"carpet\"}],\"choropleth\":[{\"colorbar\":{\"outlinewidth\":0,\"ticks\":\"\"},\"type\":\"choropleth\"}],\"contourcarpet\":[{\"colorbar\":{\"outlinewidth\":0,\"ticks\":\"\"},\"type\":\"contourcarpet\"}],\"contour\":[{\"colorbar\":{\"outlinewidth\":0,\"ticks\":\"\"},\"colorscale\":[[0.0,\"#0d0887\"],[0.1111111111111111,\"#46039f\"],[0.2222222222222222,\"#7201a8\"],[0.3333333333333333,\"#9c179e\"],[0.4444444444444444,\"#bd3786\"],[0.5555555555555556,\"#d8576b\"],[0.6666666666666666,\"#ed7953\"],[0.7777777777777778,\"#fb9f3a\"],[0.8888888888888888,\"#fdca26\"],[1.0,\"#f0f921\"]],\"type\":\"contour\"}],\"heatmapgl\":[{\"colorbar\":{\"outlinewidth\":0,\"ticks\":\"\"},\"colorscale\":[[0.0,\"#0d0887\"],[0.1111111111111111,\"#46039f\"],[0.2222222222222222,\"#7201a8\"],[0.3333333333333333,\"#9c179e\"],[0.4444444444444444,\"#bd3786\"],[0.5555555555555556,\"#d8576b\"],[0.6666666666666666,\"#ed7953\"],[0.7777777777777778,\"#fb9f3a\"],[0.8888888888888888,\"#fdca26\"],[1.0,\"#f0f921\"]],\"type\":\"heatmapgl\"}],\"heatmap\":[{\"colorbar\":{\"outlinewidth\":0,\"ticks\":\"\"},\"colorscale\":[[0.0,\"#0d0887\"],[0.1111111111111111,\"#46039f\"],[0.2222222222222222,\"#7201a8\"],[0.3333333333333333,\"#9c179e\"],[0.4444444444444444,\"#bd3786\"],[0.5555555555555556,\"#d8576b\"],[0.6666666666666666,\"#ed7953\"],[0.7777777777777778,\"#fb9f3a\"],[0.8888888888888888,\"#fdca26\"],[1.0,\"#f0f921\"]],\"type\":\"heatmap\"}],\"histogram2dcontour\":[{\"colorbar\":{\"outlinewidth\":0,\"ticks\":\"\"},\"colorscale\":[[0.0,\"#0d0887\"],[0.1111111111111111,\"#46039f\"],[0.2222222222222222,\"#7201a8\"],[0.3333333333333333,\"#9c179e\"],[0.4444444444444444,\"#bd3786\"],[0.5555555555555556,\"#d8576b\"],[0.6666666666666666,\"#ed7953\"],[0.7777777777777778,\"#fb9f3a\"],[0.8888888888888888,\"#fdca26\"],[1.0,\"#f0f921\"]],\"type\":\"histogram2dcontour\"}],\"histogram2d\":[{\"colorbar\":{\"outlinewidth\":0,\"ticks\":\"\"},\"colorscale\":[[0.0,\"#0d0887\"],[0.1111111111111111,\"#46039f\"],[0.2222222222222222,\"#7201a8\"],[0.3333333333333333,\"#9c179e\"],[0.4444444444444444,\"#bd3786\"],[0.5555555555555556,\"#d8576b\"],[0.6666666666666666,\"#ed7953\"],[0.7777777777777778,\"#fb9f3a\"],[0.8888888888888888,\"#fdca26\"],[1.0,\"#f0f921\"]],\"type\":\"histogram2d\"}],\"histogram\":[{\"marker\":{\"pattern\":{\"fillmode\":\"overlay\",\"size\":10,\"solidity\":0.2}},\"type\":\"histogram\"}],\"mesh3d\":[{\"colorbar\":{\"outlinewidth\":0,\"ticks\":\"\"},\"type\":\"mesh3d\"}],\"parcoords\":[{\"line\":{\"colorbar\":{\"outlinewidth\":0,\"ticks\":\"\"}},\"type\":\"parcoords\"}],\"pie\":[{\"automargin\":true,\"type\":\"pie\"}],\"scatter3d\":[{\"line\":{\"colorbar\":{\"outlinewidth\":0,\"ticks\":\"\"}},\"marker\":{\"colorbar\":{\"outlinewidth\":0,\"ticks\":\"\"}},\"type\":\"scatter3d\"}],\"scattercarpet\":[{\"marker\":{\"colorbar\":{\"outlinewidth\":0,\"ticks\":\"\"}},\"type\":\"scattercarpet\"}],\"scattergeo\":[{\"marker\":{\"colorbar\":{\"outlinewidth\":0,\"ticks\":\"\"}},\"type\":\"scattergeo\"}],\"scattergl\":[{\"marker\":{\"colorbar\":{\"outlinewidth\":0,\"ticks\":\"\"}},\"type\":\"scattergl\"}],\"scattermapbox\":[{\"marker\":{\"colorbar\":{\"outlinewidth\":0,\"ticks\":\"\"}},\"type\":\"scattermapbox\"}],\"scatterpolargl\":[{\"marker\":{\"colorbar\":{\"outlinewidth\":0,\"ticks\":\"\"}},\"type\":\"scatterpolargl\"}],\"scatterpolar\":[{\"marker\":{\"colorbar\":{\"outlinewidth\":0,\"ticks\":\"\"}},\"type\":\"scatterpolar\"}],\"scatter\":[{\"fillpattern\":{\"fillmode\":\"overlay\",\"size\":10,\"solidity\":0.2},\"type\":\"scatter\"}],\"scatterternary\":[{\"marker\":{\"colorbar\":{\"outlinewidth\":0,\"ticks\":\"\"}},\"type\":\"scatterternary\"}],\"surface\":[{\"colorbar\":{\"outlinewidth\":0,\"ticks\":\"\"},\"colorscale\":[[0.0,\"#0d0887\"],[0.1111111111111111,\"#46039f\"],[0.2222222222222222,\"#7201a8\"],[0.3333333333333333,\"#9c179e\"],[0.4444444444444444,\"#bd3786\"],[0.5555555555555556,\"#d8576b\"],[0.6666666666666666,\"#ed7953\"],[0.7777777777777778,\"#fb9f3a\"],[0.8888888888888888,\"#fdca26\"],[1.0,\"#f0f921\"]],\"type\":\"surface\"}],\"table\":[{\"cells\":{\"fill\":{\"color\":\"#EBF0F8\"},\"line\":{\"color\":\"white\"}},\"header\":{\"fill\":{\"color\":\"#C8D4E3\"},\"line\":{\"color\":\"white\"}},\"type\":\"table\"}]},\"layout\":{\"annotationdefaults\":{\"arrowcolor\":\"#2a3f5f\",\"arrowhead\":0,\"arrowwidth\":1},\"autotypenumbers\":\"strict\",\"coloraxis\":{\"colorbar\":{\"outlinewidth\":0,\"ticks\":\"\"}},\"colorscale\":{\"diverging\":[[0,\"#8e0152\"],[0.1,\"#c51b7d\"],[0.2,\"#de77ae\"],[0.3,\"#f1b6da\"],[0.4,\"#fde0ef\"],[0.5,\"#f7f7f7\"],[0.6,\"#e6f5d0\"],[0.7,\"#b8e186\"],[0.8,\"#7fbc41\"],[0.9,\"#4d9221\"],[1,\"#276419\"]],\"sequential\":[[0.0,\"#0d0887\"],[0.1111111111111111,\"#46039f\"],[0.2222222222222222,\"#7201a8\"],[0.3333333333333333,\"#9c179e\"],[0.4444444444444444,\"#bd3786\"],[0.5555555555555556,\"#d8576b\"],[0.6666666666666666,\"#ed7953\"],[0.7777777777777778,\"#fb9f3a\"],[0.8888888888888888,\"#fdca26\"],[1.0,\"#f0f921\"]],\"sequentialminus\":[[0.0,\"#0d0887\"],[0.1111111111111111,\"#46039f\"],[0.2222222222222222,\"#7201a8\"],[0.3333333333333333,\"#9c179e\"],[0.4444444444444444,\"#bd3786\"],[0.5555555555555556,\"#d8576b\"],[0.6666666666666666,\"#ed7953\"],[0.7777777777777778,\"#fb9f3a\"],[0.8888888888888888,\"#fdca26\"],[1.0,\"#f0f921\"]]},\"colorway\":[\"#636efa\",\"#EF553B\",\"#00cc96\",\"#ab63fa\",\"#FFA15A\",\"#19d3f3\",\"#FF6692\",\"#B6E880\",\"#FF97FF\",\"#FECB52\"],\"font\":{\"color\":\"#2a3f5f\"},\"geo\":{\"bgcolor\":\"white\",\"lakecolor\":\"white\",\"landcolor\":\"#E5ECF6\",\"showlakes\":true,\"showland\":true,\"subunitcolor\":\"white\"},\"hoverlabel\":{\"align\":\"left\"},\"hovermode\":\"closest\",\"mapbox\":{\"style\":\"light\"},\"paper_bgcolor\":\"white\",\"plot_bgcolor\":\"#E5ECF6\",\"polar\":{\"angularaxis\":{\"gridcolor\":\"white\",\"linecolor\":\"white\",\"ticks\":\"\"},\"bgcolor\":\"#E5ECF6\",\"radialaxis\":{\"gridcolor\":\"white\",\"linecolor\":\"white\",\"ticks\":\"\"}},\"scene\":{\"xaxis\":{\"backgroundcolor\":\"#E5ECF6\",\"gridcolor\":\"white\",\"gridwidth\":2,\"linecolor\":\"white\",\"showbackground\":true,\"ticks\":\"\",\"zerolinecolor\":\"white\"},\"yaxis\":{\"backgroundcolor\":\"#E5ECF6\",\"gridcolor\":\"white\",\"gridwidth\":2,\"linecolor\":\"white\",\"showbackground\":true,\"ticks\":\"\",\"zerolinecolor\":\"white\"},\"zaxis\":{\"backgroundcolor\":\"#E5ECF6\",\"gridcolor\":\"white\",\"gridwidth\":2,\"linecolor\":\"white\",\"showbackground\":true,\"ticks\":\"\",\"zerolinecolor\":\"white\"}},\"shapedefaults\":{\"line\":{\"color\":\"#2a3f5f\"}},\"ternary\":{\"aaxis\":{\"gridcolor\":\"white\",\"linecolor\":\"white\",\"ticks\":\"\"},\"baxis\":{\"gridcolor\":\"white\",\"linecolor\":\"white\",\"ticks\":\"\"},\"bgcolor\":\"#E5ECF6\",\"caxis\":{\"gridcolor\":\"white\",\"linecolor\":\"white\",\"ticks\":\"\"}},\"title\":{\"x\":0.05},\"xaxis\":{\"automargin\":true,\"gridcolor\":\"white\",\"linecolor\":\"white\",\"ticks\":\"\",\"title\":{\"standoff\":15},\"zerolinecolor\":\"white\",\"zerolinewidth\":2},\"yaxis\":{\"automargin\":true,\"gridcolor\":\"white\",\"linecolor\":\"white\",\"ticks\":\"\",\"title\":{\"standoff\":15},\"zerolinecolor\":\"white\",\"zerolinewidth\":2}}},\"title\":{\"font\":{\"color\":\"#4D5663\"},\"text\":\"Number of hotels by Room Types\"},\"xaxis\":{\"gridcolor\":\"#E1E5ED\",\"linecolor\":\"black\",\"showgrid\":true,\"tickfont\":{\"color\":\"#4D5663\"},\"title\":{\"font\":{\"color\":\"#4D5663\"},\"text\":\"\"},\"zerolinecolor\":\"#E1E5ED\"},\"yaxis\":{\"gridcolor\":\"#E1E5ED\",\"linecolor\":\"black\",\"showgrid\":true,\"tickfont\":{\"color\":\"#4D5663\"},\"title\":{\"font\":{\"color\":\"#4D5663\"},\"text\":\"Room Types\"},\"zerolinecolor\":\"#E1E5ED\"}},                        {\"showLink\": true, \"linkText\": \"Export to plot.ly\", \"plotlyServerURL\": \"https://plot.ly\", \"responsive\": true}                    ).then(function(){\n",
       "                            \n",
       "var gd = document.getElementById('35d6b8ac-0bf5-4bb5-b7b3-e57185a438a9');\n",
       "var x = new MutationObserver(function (mutations, observer) {{\n",
       "        var display = window.getComputedStyle(gd).display;\n",
       "        if (!display || display === 'none') {{\n",
       "            console.log([gd, 'removed!']);\n",
       "            Plotly.purge(gd);\n",
       "            observer.disconnect();\n",
       "        }}\n",
       "}});\n",
       "\n",
       "// Listen for the removal of the full notebook cells\n",
       "var notebookContainer = gd.closest('#notebook-container');\n",
       "if (notebookContainer) {{\n",
       "    x.observe(notebookContainer, {childList: true});\n",
       "}}\n",
       "\n",
       "// Listen for the clearing of the current output cell\n",
       "var outputEl = gd.closest('.output');\n",
       "if (outputEl) {{\n",
       "    x.observe(outputEl, {childList: true});\n",
       "}}\n",
       "\n",
       "                        })                };                });            </script>        </div>"
      ]
     },
     "metadata": {},
     "output_type": "display_data"
    }
   ],
   "source": [
    "df1 = pd.DataFrame({'No.of Hotel': room_count}, index=index_room)\n",
    "ax = df1.iplot(kind='barh', yTitle='Room Types', linecolor='black', title='Number of hotels by Room Types')\n",
    "ax\n"
   ]
  },
  {
   "cell_type": "code",
   "execution_count": 45,
   "id": "24ba5abb",
   "metadata": {},
   "outputs": [
    {
     "name": "stdout",
     "output_type": "stream",
     "text": [
      "Collecting cufflinks\n",
      "  Downloading cufflinks-0.17.3.tar.gz (81 kB)\n",
      "Requirement already satisfied: numpy>=1.9.2 in c:\\users\\waqar computer\\anaconda3\\lib\\site-packages (from cufflinks) (1.20.3)\n",
      "Requirement already satisfied: pandas>=0.19.2 in c:\\users\\waqar computer\\anaconda3\\lib\\site-packages (from cufflinks) (1.3.4)\n",
      "Requirement already satisfied: plotly>=4.1.1 in c:\\users\\waqar computer\\anaconda3\\lib\\site-packages (from cufflinks) (5.8.0)\n",
      "Requirement already satisfied: six>=1.9.0 in c:\\users\\waqar computer\\anaconda3\\lib\\site-packages (from cufflinks) (1.16.0)\n",
      "Collecting colorlover>=0.2.1\n",
      "  Downloading colorlover-0.3.0-py3-none-any.whl (8.9 kB)\n",
      "Requirement already satisfied: setuptools>=34.4.1 in c:\\users\\waqar computer\\anaconda3\\lib\\site-packages (from cufflinks) (58.0.4)\n",
      "Requirement already satisfied: ipython>=5.3.0 in c:\\users\\waqar computer\\anaconda3\\lib\\site-packages (from cufflinks) (7.29.0)\n",
      "Requirement already satisfied: ipywidgets>=7.0.0 in c:\\users\\waqar computer\\anaconda3\\lib\\site-packages (from cufflinks) (7.6.5)\n",
      "Requirement already satisfied: matplotlib-inline in c:\\users\\waqar computer\\anaconda3\\lib\\site-packages (from ipython>=5.3.0->cufflinks) (0.1.2)\n",
      "Requirement already satisfied: pygments in c:\\users\\waqar computer\\anaconda3\\lib\\site-packages (from ipython>=5.3.0->cufflinks) (2.10.0)\n",
      "Requirement already satisfied: prompt-toolkit!=3.0.0,!=3.0.1,<3.1.0,>=2.0.0 in c:\\users\\waqar computer\\anaconda3\\lib\\site-packages (from ipython>=5.3.0->cufflinks) (3.0.20)\n",
      "Requirement already satisfied: pickleshare in c:\\users\\waqar computer\\anaconda3\\lib\\site-packages (from ipython>=5.3.0->cufflinks) (0.7.5)\n",
      "Requirement already satisfied: backcall in c:\\users\\waqar computer\\anaconda3\\lib\\site-packages (from ipython>=5.3.0->cufflinks) (0.2.0)\n",
      "Requirement already satisfied: decorator in c:\\users\\waqar computer\\anaconda3\\lib\\site-packages (from ipython>=5.3.0->cufflinks) (5.1.0)\n",
      "Requirement already satisfied: jedi>=0.16 in c:\\users\\waqar computer\\anaconda3\\lib\\site-packages (from ipython>=5.3.0->cufflinks) (0.18.0)\n",
      "Requirement already satisfied: colorama in c:\\users\\waqar computer\\anaconda3\\lib\\site-packages (from ipython>=5.3.0->cufflinks) (0.4.4)\n",
      "Requirement already satisfied: traitlets>=4.2 in c:\\users\\waqar computer\\anaconda3\\lib\\site-packages (from ipython>=5.3.0->cufflinks) (5.1.0)\n",
      "Requirement already satisfied: widgetsnbextension~=3.5.0 in c:\\users\\waqar computer\\anaconda3\\lib\\site-packages (from ipywidgets>=7.0.0->cufflinks) (3.5.1)\n",
      "Requirement already satisfied: ipykernel>=4.5.1 in c:\\users\\waqar computer\\anaconda3\\lib\\site-packages (from ipywidgets>=7.0.0->cufflinks) (6.4.1)\n",
      "Requirement already satisfied: ipython-genutils~=0.2.0 in c:\\users\\waqar computer\\anaconda3\\lib\\site-packages (from ipywidgets>=7.0.0->cufflinks) (0.2.0)\n",
      "Requirement already satisfied: nbformat>=4.2.0 in c:\\users\\waqar computer\\anaconda3\\lib\\site-packages (from ipywidgets>=7.0.0->cufflinks) (5.1.3)\n",
      "Requirement already satisfied: jupyterlab-widgets>=1.0.0 in c:\\users\\waqar computer\\anaconda3\\lib\\site-packages (from ipywidgets>=7.0.0->cufflinks) (1.0.0)\n",
      "Requirement already satisfied: tornado<7.0,>=4.2 in c:\\users\\waqar computer\\anaconda3\\lib\\site-packages (from ipykernel>=4.5.1->ipywidgets>=7.0.0->cufflinks) (6.1)\n",
      "Requirement already satisfied: debugpy<2.0,>=1.0.0 in c:\\users\\waqar computer\\anaconda3\\lib\\site-packages (from ipykernel>=4.5.1->ipywidgets>=7.0.0->cufflinks) (1.4.1)\n",
      "Requirement already satisfied: jupyter-client<8.0 in c:\\users\\waqar computer\\anaconda3\\lib\\site-packages (from ipykernel>=4.5.1->ipywidgets>=7.0.0->cufflinks) (6.1.12)\n",
      "Requirement already satisfied: parso<0.9.0,>=0.8.0 in c:\\users\\waqar computer\\anaconda3\\lib\\site-packages (from jedi>=0.16->ipython>=5.3.0->cufflinks) (0.8.2)\n",
      "Requirement already satisfied: pyzmq>=13 in c:\\users\\waqar computer\\anaconda3\\lib\\site-packages (from jupyter-client<8.0->ipykernel>=4.5.1->ipywidgets>=7.0.0->cufflinks) (22.2.1)\n",
      "Requirement already satisfied: jupyter-core>=4.6.0 in c:\\users\\waqar computer\\anaconda3\\lib\\site-packages (from jupyter-client<8.0->ipykernel>=4.5.1->ipywidgets>=7.0.0->cufflinks) (4.8.1)\n",
      "Requirement already satisfied: python-dateutil>=2.1 in c:\\users\\waqar computer\\anaconda3\\lib\\site-packages (from jupyter-client<8.0->ipykernel>=4.5.1->ipywidgets>=7.0.0->cufflinks) (2.8.2)\n",
      "Requirement already satisfied: pywin32>=1.0 in c:\\users\\waqar computer\\anaconda3\\lib\\site-packages (from jupyter-core>=4.6.0->jupyter-client<8.0->ipykernel>=4.5.1->ipywidgets>=7.0.0->cufflinks) (228)\n",
      "Requirement already satisfied: jsonschema!=2.5.0,>=2.4 in c:\\users\\waqar computer\\anaconda3\\lib\\site-packages (from nbformat>=4.2.0->ipywidgets>=7.0.0->cufflinks) (3.2.0)\n",
      "Requirement already satisfied: pyrsistent>=0.14.0 in c:\\users\\waqar computer\\anaconda3\\lib\\site-packages (from jsonschema!=2.5.0,>=2.4->nbformat>=4.2.0->ipywidgets>=7.0.0->cufflinks) (0.18.0)\n",
      "Requirement already satisfied: attrs>=17.4.0 in c:\\users\\waqar computer\\anaconda3\\lib\\site-packages (from jsonschema!=2.5.0,>=2.4->nbformat>=4.2.0->ipywidgets>=7.0.0->cufflinks) (21.2.0)\n",
      "Requirement already satisfied: pytz>=2017.3 in c:\\users\\waqar computer\\anaconda3\\lib\\site-packages (from pandas>=0.19.2->cufflinks) (2021.3)\n",
      "Requirement already satisfied: tenacity>=6.2.0 in c:\\users\\waqar computer\\anaconda3\\lib\\site-packages (from plotly>=4.1.1->cufflinks) (8.0.1)\n",
      "Requirement already satisfied: wcwidth in c:\\users\\waqar computer\\anaconda3\\lib\\site-packages (from prompt-toolkit!=3.0.0,!=3.0.1,<3.1.0,>=2.0.0->ipython>=5.3.0->cufflinks) (0.2.5)\n",
      "Requirement already satisfied: notebook>=4.4.1 in c:\\users\\waqar computer\\anaconda3\\lib\\site-packages (from widgetsnbextension~=3.5.0->ipywidgets>=7.0.0->cufflinks) (6.4.5)\n",
      "Requirement already satisfied: terminado>=0.8.3 in c:\\users\\waqar computer\\anaconda3\\lib\\site-packages (from notebook>=4.4.1->widgetsnbextension~=3.5.0->ipywidgets>=7.0.0->cufflinks) (0.9.4)\n",
      "Requirement already satisfied: argon2-cffi in c:\\users\\waqar computer\\anaconda3\\lib\\site-packages (from notebook>=4.4.1->widgetsnbextension~=3.5.0->ipywidgets>=7.0.0->cufflinks) (20.1.0)\n",
      "Requirement already satisfied: Send2Trash>=1.5.0 in c:\\users\\waqar computer\\anaconda3\\lib\\site-packages (from notebook>=4.4.1->widgetsnbextension~=3.5.0->ipywidgets>=7.0.0->cufflinks) (1.8.0)\n",
      "Requirement already satisfied: jinja2 in c:\\users\\waqar computer\\anaconda3\\lib\\site-packages (from notebook>=4.4.1->widgetsnbextension~=3.5.0->ipywidgets>=7.0.0->cufflinks) (2.11.3)\n",
      "Requirement already satisfied: nbconvert in c:\\users\\waqar computer\\anaconda3\\lib\\site-packages (from notebook>=4.4.1->widgetsnbextension~=3.5.0->ipywidgets>=7.0.0->cufflinks) (6.1.0)\n",
      "Requirement already satisfied: prometheus-client in c:\\users\\waqar computer\\anaconda3\\lib\\site-packages (from notebook>=4.4.1->widgetsnbextension~=3.5.0->ipywidgets>=7.0.0->cufflinks) (0.11.0)\n",
      "Requirement already satisfied: pywinpty>=0.5 in c:\\users\\waqar computer\\anaconda3\\lib\\site-packages (from terminado>=0.8.3->notebook>=4.4.1->widgetsnbextension~=3.5.0->ipywidgets>=7.0.0->cufflinks) (0.5.7)\n",
      "Requirement already satisfied: cffi>=1.0.0 in c:\\users\\waqar computer\\anaconda3\\lib\\site-packages (from argon2-cffi->notebook>=4.4.1->widgetsnbextension~=3.5.0->ipywidgets>=7.0.0->cufflinks) (1.14.6)\n",
      "Requirement already satisfied: pycparser in c:\\users\\waqar computer\\anaconda3\\lib\\site-packages (from cffi>=1.0.0->argon2-cffi->notebook>=4.4.1->widgetsnbextension~=3.5.0->ipywidgets>=7.0.0->cufflinks) (2.20)\n",
      "Requirement already satisfied: MarkupSafe>=0.23 in c:\\users\\waqar computer\\anaconda3\\lib\\site-packages (from jinja2->notebook>=4.4.1->widgetsnbextension~=3.5.0->ipywidgets>=7.0.0->cufflinks) (1.1.1)\n",
      "Requirement already satisfied: pandocfilters>=1.4.1 in c:\\users\\waqar computer\\anaconda3\\lib\\site-packages (from nbconvert->notebook>=4.4.1->widgetsnbextension~=3.5.0->ipywidgets>=7.0.0->cufflinks) (1.4.3)\n",
      "Requirement already satisfied: nbclient<0.6.0,>=0.5.0 in c:\\users\\waqar computer\\anaconda3\\lib\\site-packages (from nbconvert->notebook>=4.4.1->widgetsnbextension~=3.5.0->ipywidgets>=7.0.0->cufflinks) (0.5.3)\n",
      "Requirement already satisfied: bleach in c:\\users\\waqar computer\\anaconda3\\lib\\site-packages (from nbconvert->notebook>=4.4.1->widgetsnbextension~=3.5.0->ipywidgets>=7.0.0->cufflinks) (4.0.0)\n",
      "Requirement already satisfied: testpath in c:\\users\\waqar computer\\anaconda3\\lib\\site-packages (from nbconvert->notebook>=4.4.1->widgetsnbextension~=3.5.0->ipywidgets>=7.0.0->cufflinks) (0.5.0)\n",
      "Requirement already satisfied: entrypoints>=0.2.2 in c:\\users\\waqar computer\\anaconda3\\lib\\site-packages (from nbconvert->notebook>=4.4.1->widgetsnbextension~=3.5.0->ipywidgets>=7.0.0->cufflinks) (0.3)\n",
      "Requirement already satisfied: defusedxml in c:\\users\\waqar computer\\anaconda3\\lib\\site-packages (from nbconvert->notebook>=4.4.1->widgetsnbextension~=3.5.0->ipywidgets>=7.0.0->cufflinks) (0.7.1)\n",
      "Requirement already satisfied: jupyterlab-pygments in c:\\users\\waqar computer\\anaconda3\\lib\\site-packages (from nbconvert->notebook>=4.4.1->widgetsnbextension~=3.5.0->ipywidgets>=7.0.0->cufflinks) (0.1.2)\n",
      "Requirement already satisfied: mistune<2,>=0.8.1 in c:\\users\\waqar computer\\anaconda3\\lib\\site-packages (from nbconvert->notebook>=4.4.1->widgetsnbextension~=3.5.0->ipywidgets>=7.0.0->cufflinks) (0.8.4)\n",
      "Requirement already satisfied: async-generator in c:\\users\\waqar computer\\anaconda3\\lib\\site-packages (from nbclient<0.6.0,>=0.5.0->nbconvert->notebook>=4.4.1->widgetsnbextension~=3.5.0->ipywidgets>=7.0.0->cufflinks) (1.10)\n",
      "Requirement already satisfied: nest-asyncio in c:\\users\\waqar computer\\anaconda3\\lib\\site-packages (from nbclient<0.6.0,>=0.5.0->nbconvert->notebook>=4.4.1->widgetsnbextension~=3.5.0->ipywidgets>=7.0.0->cufflinks) (1.5.1)\n",
      "Requirement already satisfied: packaging in c:\\users\\waqar computer\\anaconda3\\lib\\site-packages (from bleach->nbconvert->notebook>=4.4.1->widgetsnbextension~=3.5.0->ipywidgets>=7.0.0->cufflinks) (21.0)\n",
      "Requirement already satisfied: webencodings in c:\\users\\waqar computer\\anaconda3\\lib\\site-packages (from bleach->nbconvert->notebook>=4.4.1->widgetsnbextension~=3.5.0->ipywidgets>=7.0.0->cufflinks) (0.5.1)\n",
      "Requirement already satisfied: pyparsing>=2.0.2 in c:\\users\\waqar computer\\anaconda3\\lib\\site-packages (from packaging->bleach->nbconvert->notebook>=4.4.1->widgetsnbextension~=3.5.0->ipywidgets>=7.0.0->cufflinks) (3.0.4)\n",
      "Building wheels for collected packages: cufflinks\n",
      "  Building wheel for cufflinks (setup.py): started\n",
      "  Building wheel for cufflinks (setup.py): finished with status 'done'\n",
      "  Created wheel for cufflinks: filename=cufflinks-0.17.3-py3-none-any.whl size=68734 sha256=34f3b8a946d2edf025ca921d53c969d8ab8076ae311231b09f53c56c5560a56b\n",
      "  Stored in directory: c:\\users\\waqar computer\\appdata\\local\\pip\\cache\\wheels\\29\\b4\\f8\\2fd2206eeeba6ccad8167e4e8894b8c4ec27bf1342037fd136\n",
      "Successfully built cufflinks\n",
      "Installing collected packages: colorlover, cufflinks\n",
      "Successfully installed colorlover-0.3.0 cufflinks-0.17.3\n"
     ]
    }
   ],
   "source": [
    "!pip install cufflinks\n"
   ]
  },
  {
   "cell_type": "code",
   "execution_count": 46,
   "id": "0ff6266b",
   "metadata": {},
   "outputs": [
    {
     "data": {
      "text/html": [
       "        <script type=\"text/javascript\">\n",
       "        window.PlotlyConfig = {MathJaxConfig: 'local'};\n",
       "        if (window.MathJax && window.MathJax.Hub && window.MathJax.Hub.Config) {window.MathJax.Hub.Config({SVG: {font: \"STIX-Web\"}});}\n",
       "        if (typeof require !== 'undefined') {\n",
       "        require.undef(\"plotly\");\n",
       "        requirejs.config({\n",
       "            paths: {\n",
       "                'plotly': ['https://cdn.plot.ly/plotly-2.12.1.min']\n",
       "            }\n",
       "        });\n",
       "        require(['plotly'], function(Plotly) {\n",
       "            window._Plotly = Plotly;\n",
       "        });\n",
       "        }\n",
       "        </script>\n",
       "        "
      ]
     },
     "metadata": {},
     "output_type": "display_data"
    }
   ],
   "source": [
    "import cufflinks as cf\n",
    "cf.go_offline()\n",
    "cf.set_config_file(offline=False, world_readable=True)"
   ]
  },
  {
   "cell_type": "code",
   "execution_count": 48,
   "id": "6de7f711",
   "metadata": {},
   "outputs": [],
   "source": [
    "index_view = ['river_view','private_pool','break_fast','spa_bath','city_view','sea_view','eiffel_tower_view'\n",
    "              ,'wheelchair_accessible']\n",
    "view_count=[]\n",
    "\n",
    "for i in index_view:\n",
    "    view_count.append(get_special(i).shape[0])"
   ]
  },
  {
   "cell_type": "code",
   "execution_count": 49,
   "id": "b0a3a60b",
   "metadata": {},
   "outputs": [
    {
     "data": {
      "application/vnd.plotly.v1+json": {
       "config": {
        "linkText": "Export to plot.ly",
        "plotlyServerURL": "https://plot.ly",
        "showLink": true
       },
       "data": [
        {
         "marker": {
          "color": "rgba(55, 128, 191, 0.6)",
          "line": {
           "color": "rgba(55, 128, 191, 1.0)",
           "width": 1
          }
         },
         "name": "No.of Hotel",
         "orientation": "h",
         "text": "",
         "type": "bar",
         "x": [
          18,
          6,
          9,
          15,
          58,
          10,
          14,
          1
         ],
         "y": [
          "river_view",
          "private_pool",
          "break_fast",
          "spa_bath",
          "city_view",
          "sea_view",
          "eiffel_tower_view",
          "wheelchair_accessible"
         ]
        }
       ],
       "layout": {
        "legend": {
         "bgcolor": "#F5F6F9",
         "font": {
          "color": "#4D5663"
         }
        },
        "paper_bgcolor": "#F5F6F9",
        "plot_bgcolor": "#F5F6F9",
        "template": {
         "data": {
          "bar": [
           {
            "error_x": {
             "color": "#2a3f5f"
            },
            "error_y": {
             "color": "#2a3f5f"
            },
            "marker": {
             "line": {
              "color": "#E5ECF6",
              "width": 0.5
             },
             "pattern": {
              "fillmode": "overlay",
              "size": 10,
              "solidity": 0.2
             }
            },
            "type": "bar"
           }
          ],
          "barpolar": [
           {
            "marker": {
             "line": {
              "color": "#E5ECF6",
              "width": 0.5
             },
             "pattern": {
              "fillmode": "overlay",
              "size": 10,
              "solidity": 0.2
             }
            },
            "type": "barpolar"
           }
          ],
          "carpet": [
           {
            "aaxis": {
             "endlinecolor": "#2a3f5f",
             "gridcolor": "white",
             "linecolor": "white",
             "minorgridcolor": "white",
             "startlinecolor": "#2a3f5f"
            },
            "baxis": {
             "endlinecolor": "#2a3f5f",
             "gridcolor": "white",
             "linecolor": "white",
             "minorgridcolor": "white",
             "startlinecolor": "#2a3f5f"
            },
            "type": "carpet"
           }
          ],
          "choropleth": [
           {
            "colorbar": {
             "outlinewidth": 0,
             "ticks": ""
            },
            "type": "choropleth"
           }
          ],
          "contour": [
           {
            "colorbar": {
             "outlinewidth": 0,
             "ticks": ""
            },
            "colorscale": [
             [
              0,
              "#0d0887"
             ],
             [
              0.1111111111111111,
              "#46039f"
             ],
             [
              0.2222222222222222,
              "#7201a8"
             ],
             [
              0.3333333333333333,
              "#9c179e"
             ],
             [
              0.4444444444444444,
              "#bd3786"
             ],
             [
              0.5555555555555556,
              "#d8576b"
             ],
             [
              0.6666666666666666,
              "#ed7953"
             ],
             [
              0.7777777777777778,
              "#fb9f3a"
             ],
             [
              0.8888888888888888,
              "#fdca26"
             ],
             [
              1,
              "#f0f921"
             ]
            ],
            "type": "contour"
           }
          ],
          "contourcarpet": [
           {
            "colorbar": {
             "outlinewidth": 0,
             "ticks": ""
            },
            "type": "contourcarpet"
           }
          ],
          "heatmap": [
           {
            "colorbar": {
             "outlinewidth": 0,
             "ticks": ""
            },
            "colorscale": [
             [
              0,
              "#0d0887"
             ],
             [
              0.1111111111111111,
              "#46039f"
             ],
             [
              0.2222222222222222,
              "#7201a8"
             ],
             [
              0.3333333333333333,
              "#9c179e"
             ],
             [
              0.4444444444444444,
              "#bd3786"
             ],
             [
              0.5555555555555556,
              "#d8576b"
             ],
             [
              0.6666666666666666,
              "#ed7953"
             ],
             [
              0.7777777777777778,
              "#fb9f3a"
             ],
             [
              0.8888888888888888,
              "#fdca26"
             ],
             [
              1,
              "#f0f921"
             ]
            ],
            "type": "heatmap"
           }
          ],
          "heatmapgl": [
           {
            "colorbar": {
             "outlinewidth": 0,
             "ticks": ""
            },
            "colorscale": [
             [
              0,
              "#0d0887"
             ],
             [
              0.1111111111111111,
              "#46039f"
             ],
             [
              0.2222222222222222,
              "#7201a8"
             ],
             [
              0.3333333333333333,
              "#9c179e"
             ],
             [
              0.4444444444444444,
              "#bd3786"
             ],
             [
              0.5555555555555556,
              "#d8576b"
             ],
             [
              0.6666666666666666,
              "#ed7953"
             ],
             [
              0.7777777777777778,
              "#fb9f3a"
             ],
             [
              0.8888888888888888,
              "#fdca26"
             ],
             [
              1,
              "#f0f921"
             ]
            ],
            "type": "heatmapgl"
           }
          ],
          "histogram": [
           {
            "marker": {
             "pattern": {
              "fillmode": "overlay",
              "size": 10,
              "solidity": 0.2
             }
            },
            "type": "histogram"
           }
          ],
          "histogram2d": [
           {
            "colorbar": {
             "outlinewidth": 0,
             "ticks": ""
            },
            "colorscale": [
             [
              0,
              "#0d0887"
             ],
             [
              0.1111111111111111,
              "#46039f"
             ],
             [
              0.2222222222222222,
              "#7201a8"
             ],
             [
              0.3333333333333333,
              "#9c179e"
             ],
             [
              0.4444444444444444,
              "#bd3786"
             ],
             [
              0.5555555555555556,
              "#d8576b"
             ],
             [
              0.6666666666666666,
              "#ed7953"
             ],
             [
              0.7777777777777778,
              "#fb9f3a"
             ],
             [
              0.8888888888888888,
              "#fdca26"
             ],
             [
              1,
              "#f0f921"
             ]
            ],
            "type": "histogram2d"
           }
          ],
          "histogram2dcontour": [
           {
            "colorbar": {
             "outlinewidth": 0,
             "ticks": ""
            },
            "colorscale": [
             [
              0,
              "#0d0887"
             ],
             [
              0.1111111111111111,
              "#46039f"
             ],
             [
              0.2222222222222222,
              "#7201a8"
             ],
             [
              0.3333333333333333,
              "#9c179e"
             ],
             [
              0.4444444444444444,
              "#bd3786"
             ],
             [
              0.5555555555555556,
              "#d8576b"
             ],
             [
              0.6666666666666666,
              "#ed7953"
             ],
             [
              0.7777777777777778,
              "#fb9f3a"
             ],
             [
              0.8888888888888888,
              "#fdca26"
             ],
             [
              1,
              "#f0f921"
             ]
            ],
            "type": "histogram2dcontour"
           }
          ],
          "mesh3d": [
           {
            "colorbar": {
             "outlinewidth": 0,
             "ticks": ""
            },
            "type": "mesh3d"
           }
          ],
          "parcoords": [
           {
            "line": {
             "colorbar": {
              "outlinewidth": 0,
              "ticks": ""
             }
            },
            "type": "parcoords"
           }
          ],
          "pie": [
           {
            "automargin": true,
            "type": "pie"
           }
          ],
          "scatter": [
           {
            "fillpattern": {
             "fillmode": "overlay",
             "size": 10,
             "solidity": 0.2
            },
            "type": "scatter"
           }
          ],
          "scatter3d": [
           {
            "line": {
             "colorbar": {
              "outlinewidth": 0,
              "ticks": ""
             }
            },
            "marker": {
             "colorbar": {
              "outlinewidth": 0,
              "ticks": ""
             }
            },
            "type": "scatter3d"
           }
          ],
          "scattercarpet": [
           {
            "marker": {
             "colorbar": {
              "outlinewidth": 0,
              "ticks": ""
             }
            },
            "type": "scattercarpet"
           }
          ],
          "scattergeo": [
           {
            "marker": {
             "colorbar": {
              "outlinewidth": 0,
              "ticks": ""
             }
            },
            "type": "scattergeo"
           }
          ],
          "scattergl": [
           {
            "marker": {
             "colorbar": {
              "outlinewidth": 0,
              "ticks": ""
             }
            },
            "type": "scattergl"
           }
          ],
          "scattermapbox": [
           {
            "marker": {
             "colorbar": {
              "outlinewidth": 0,
              "ticks": ""
             }
            },
            "type": "scattermapbox"
           }
          ],
          "scatterpolar": [
           {
            "marker": {
             "colorbar": {
              "outlinewidth": 0,
              "ticks": ""
             }
            },
            "type": "scatterpolar"
           }
          ],
          "scatterpolargl": [
           {
            "marker": {
             "colorbar": {
              "outlinewidth": 0,
              "ticks": ""
             }
            },
            "type": "scatterpolargl"
           }
          ],
          "scatterternary": [
           {
            "marker": {
             "colorbar": {
              "outlinewidth": 0,
              "ticks": ""
             }
            },
            "type": "scatterternary"
           }
          ],
          "surface": [
           {
            "colorbar": {
             "outlinewidth": 0,
             "ticks": ""
            },
            "colorscale": [
             [
              0,
              "#0d0887"
             ],
             [
              0.1111111111111111,
              "#46039f"
             ],
             [
              0.2222222222222222,
              "#7201a8"
             ],
             [
              0.3333333333333333,
              "#9c179e"
             ],
             [
              0.4444444444444444,
              "#bd3786"
             ],
             [
              0.5555555555555556,
              "#d8576b"
             ],
             [
              0.6666666666666666,
              "#ed7953"
             ],
             [
              0.7777777777777778,
              "#fb9f3a"
             ],
             [
              0.8888888888888888,
              "#fdca26"
             ],
             [
              1,
              "#f0f921"
             ]
            ],
            "type": "surface"
           }
          ],
          "table": [
           {
            "cells": {
             "fill": {
              "color": "#EBF0F8"
             },
             "line": {
              "color": "white"
             }
            },
            "header": {
             "fill": {
              "color": "#C8D4E3"
             },
             "line": {
              "color": "white"
             }
            },
            "type": "table"
           }
          ]
         },
         "layout": {
          "annotationdefaults": {
           "arrowcolor": "#2a3f5f",
           "arrowhead": 0,
           "arrowwidth": 1
          },
          "autotypenumbers": "strict",
          "coloraxis": {
           "colorbar": {
            "outlinewidth": 0,
            "ticks": ""
           }
          },
          "colorscale": {
           "diverging": [
            [
             0,
             "#8e0152"
            ],
            [
             0.1,
             "#c51b7d"
            ],
            [
             0.2,
             "#de77ae"
            ],
            [
             0.3,
             "#f1b6da"
            ],
            [
             0.4,
             "#fde0ef"
            ],
            [
             0.5,
             "#f7f7f7"
            ],
            [
             0.6,
             "#e6f5d0"
            ],
            [
             0.7,
             "#b8e186"
            ],
            [
             0.8,
             "#7fbc41"
            ],
            [
             0.9,
             "#4d9221"
            ],
            [
             1,
             "#276419"
            ]
           ],
           "sequential": [
            [
             0,
             "#0d0887"
            ],
            [
             0.1111111111111111,
             "#46039f"
            ],
            [
             0.2222222222222222,
             "#7201a8"
            ],
            [
             0.3333333333333333,
             "#9c179e"
            ],
            [
             0.4444444444444444,
             "#bd3786"
            ],
            [
             0.5555555555555556,
             "#d8576b"
            ],
            [
             0.6666666666666666,
             "#ed7953"
            ],
            [
             0.7777777777777778,
             "#fb9f3a"
            ],
            [
             0.8888888888888888,
             "#fdca26"
            ],
            [
             1,
             "#f0f921"
            ]
           ],
           "sequentialminus": [
            [
             0,
             "#0d0887"
            ],
            [
             0.1111111111111111,
             "#46039f"
            ],
            [
             0.2222222222222222,
             "#7201a8"
            ],
            [
             0.3333333333333333,
             "#9c179e"
            ],
            [
             0.4444444444444444,
             "#bd3786"
            ],
            [
             0.5555555555555556,
             "#d8576b"
            ],
            [
             0.6666666666666666,
             "#ed7953"
            ],
            [
             0.7777777777777778,
             "#fb9f3a"
            ],
            [
             0.8888888888888888,
             "#fdca26"
            ],
            [
             1,
             "#f0f921"
            ]
           ]
          },
          "colorway": [
           "#636efa",
           "#EF553B",
           "#00cc96",
           "#ab63fa",
           "#FFA15A",
           "#19d3f3",
           "#FF6692",
           "#B6E880",
           "#FF97FF",
           "#FECB52"
          ],
          "font": {
           "color": "#2a3f5f"
          },
          "geo": {
           "bgcolor": "white",
           "lakecolor": "white",
           "landcolor": "#E5ECF6",
           "showlakes": true,
           "showland": true,
           "subunitcolor": "white"
          },
          "hoverlabel": {
           "align": "left"
          },
          "hovermode": "closest",
          "mapbox": {
           "style": "light"
          },
          "paper_bgcolor": "white",
          "plot_bgcolor": "#E5ECF6",
          "polar": {
           "angularaxis": {
            "gridcolor": "white",
            "linecolor": "white",
            "ticks": ""
           },
           "bgcolor": "#E5ECF6",
           "radialaxis": {
            "gridcolor": "white",
            "linecolor": "white",
            "ticks": ""
           }
          },
          "scene": {
           "xaxis": {
            "backgroundcolor": "#E5ECF6",
            "gridcolor": "white",
            "gridwidth": 2,
            "linecolor": "white",
            "showbackground": true,
            "ticks": "",
            "zerolinecolor": "white"
           },
           "yaxis": {
            "backgroundcolor": "#E5ECF6",
            "gridcolor": "white",
            "gridwidth": 2,
            "linecolor": "white",
            "showbackground": true,
            "ticks": "",
            "zerolinecolor": "white"
           },
           "zaxis": {
            "backgroundcolor": "#E5ECF6",
            "gridcolor": "white",
            "gridwidth": 2,
            "linecolor": "white",
            "showbackground": true,
            "ticks": "",
            "zerolinecolor": "white"
           }
          },
          "shapedefaults": {
           "line": {
            "color": "#2a3f5f"
           }
          },
          "ternary": {
           "aaxis": {
            "gridcolor": "white",
            "linecolor": "white",
            "ticks": ""
           },
           "baxis": {
            "gridcolor": "white",
            "linecolor": "white",
            "ticks": ""
           },
           "bgcolor": "#E5ECF6",
           "caxis": {
            "gridcolor": "white",
            "linecolor": "white",
            "ticks": ""
           }
          },
          "title": {
           "x": 0.05
          },
          "xaxis": {
           "automargin": true,
           "gridcolor": "white",
           "linecolor": "white",
           "ticks": "",
           "title": {
            "standoff": 15
           },
           "zerolinecolor": "white",
           "zerolinewidth": 2
          },
          "yaxis": {
           "automargin": true,
           "gridcolor": "white",
           "linecolor": "white",
           "ticks": "",
           "title": {
            "standoff": 15
           },
           "zerolinecolor": "white",
           "zerolinewidth": 2
          }
         }
        },
        "title": {
         "font": {
          "color": "#4D5663"
         },
         "text": "Number of hotels with special characteristics"
        },
        "xaxis": {
         "gridcolor": "#E1E5ED",
         "linecolor": "black",
         "showgrid": true,
         "tickfont": {
          "color": "#4D5663"
         },
         "title": {
          "font": {
           "color": "#4D5663"
          },
          "text": ""
         },
         "zerolinecolor": "#E1E5ED"
        },
        "yaxis": {
         "gridcolor": "#E1E5ED",
         "linecolor": "black",
         "showgrid": true,
         "tickfont": {
          "color": "#4D5663"
         },
         "title": {
          "font": {
           "color": "#4D5663"
          },
          "text": "Characteristic"
         },
         "zerolinecolor": "#E1E5ED"
        }
       }
      },
      "text/html": [
       "<div>                            <div id=\"13b7e885-4121-4ff8-96ac-8187a6fc3d74\" class=\"plotly-graph-div\" style=\"height:525px; width:100%;\"></div>            <script type=\"text/javascript\">                require([\"plotly\"], function(Plotly) {                    window.PLOTLYENV=window.PLOTLYENV || {};\n",
       "                    window.PLOTLYENV.BASE_URL='https://plot.ly';                                    if (document.getElementById(\"13b7e885-4121-4ff8-96ac-8187a6fc3d74\")) {                    Plotly.newPlot(                        \"13b7e885-4121-4ff8-96ac-8187a6fc3d74\",                        [{\"marker\":{\"color\":\"rgba(55, 128, 191, 0.6)\",\"line\":{\"color\":\"rgba(55, 128, 191, 1.0)\",\"width\":1}},\"name\":\"No.of Hotel\",\"orientation\":\"h\",\"text\":\"\",\"x\":[18,6,9,15,58,10,14,1],\"y\":[\"river_view\",\"private_pool\",\"break_fast\",\"spa_bath\",\"city_view\",\"sea_view\",\"eiffel_tower_view\",\"wheelchair_accessible\"],\"type\":\"bar\"}],                        {\"legend\":{\"bgcolor\":\"#F5F6F9\",\"font\":{\"color\":\"#4D5663\"}},\"paper_bgcolor\":\"#F5F6F9\",\"plot_bgcolor\":\"#F5F6F9\",\"template\":{\"data\":{\"barpolar\":[{\"marker\":{\"line\":{\"color\":\"#E5ECF6\",\"width\":0.5},\"pattern\":{\"fillmode\":\"overlay\",\"size\":10,\"solidity\":0.2}},\"type\":\"barpolar\"}],\"bar\":[{\"error_x\":{\"color\":\"#2a3f5f\"},\"error_y\":{\"color\":\"#2a3f5f\"},\"marker\":{\"line\":{\"color\":\"#E5ECF6\",\"width\":0.5},\"pattern\":{\"fillmode\":\"overlay\",\"size\":10,\"solidity\":0.2}},\"type\":\"bar\"}],\"carpet\":[{\"aaxis\":{\"endlinecolor\":\"#2a3f5f\",\"gridcolor\":\"white\",\"linecolor\":\"white\",\"minorgridcolor\":\"white\",\"startlinecolor\":\"#2a3f5f\"},\"baxis\":{\"endlinecolor\":\"#2a3f5f\",\"gridcolor\":\"white\",\"linecolor\":\"white\",\"minorgridcolor\":\"white\",\"startlinecolor\":\"#2a3f5f\"},\"type\":\"carpet\"}],\"choropleth\":[{\"colorbar\":{\"outlinewidth\":0,\"ticks\":\"\"},\"type\":\"choropleth\"}],\"contourcarpet\":[{\"colorbar\":{\"outlinewidth\":0,\"ticks\":\"\"},\"type\":\"contourcarpet\"}],\"contour\":[{\"colorbar\":{\"outlinewidth\":0,\"ticks\":\"\"},\"colorscale\":[[0.0,\"#0d0887\"],[0.1111111111111111,\"#46039f\"],[0.2222222222222222,\"#7201a8\"],[0.3333333333333333,\"#9c179e\"],[0.4444444444444444,\"#bd3786\"],[0.5555555555555556,\"#d8576b\"],[0.6666666666666666,\"#ed7953\"],[0.7777777777777778,\"#fb9f3a\"],[0.8888888888888888,\"#fdca26\"],[1.0,\"#f0f921\"]],\"type\":\"contour\"}],\"heatmapgl\":[{\"colorbar\":{\"outlinewidth\":0,\"ticks\":\"\"},\"colorscale\":[[0.0,\"#0d0887\"],[0.1111111111111111,\"#46039f\"],[0.2222222222222222,\"#7201a8\"],[0.3333333333333333,\"#9c179e\"],[0.4444444444444444,\"#bd3786\"],[0.5555555555555556,\"#d8576b\"],[0.6666666666666666,\"#ed7953\"],[0.7777777777777778,\"#fb9f3a\"],[0.8888888888888888,\"#fdca26\"],[1.0,\"#f0f921\"]],\"type\":\"heatmapgl\"}],\"heatmap\":[{\"colorbar\":{\"outlinewidth\":0,\"ticks\":\"\"},\"colorscale\":[[0.0,\"#0d0887\"],[0.1111111111111111,\"#46039f\"],[0.2222222222222222,\"#7201a8\"],[0.3333333333333333,\"#9c179e\"],[0.4444444444444444,\"#bd3786\"],[0.5555555555555556,\"#d8576b\"],[0.6666666666666666,\"#ed7953\"],[0.7777777777777778,\"#fb9f3a\"],[0.8888888888888888,\"#fdca26\"],[1.0,\"#f0f921\"]],\"type\":\"heatmap\"}],\"histogram2dcontour\":[{\"colorbar\":{\"outlinewidth\":0,\"ticks\":\"\"},\"colorscale\":[[0.0,\"#0d0887\"],[0.1111111111111111,\"#46039f\"],[0.2222222222222222,\"#7201a8\"],[0.3333333333333333,\"#9c179e\"],[0.4444444444444444,\"#bd3786\"],[0.5555555555555556,\"#d8576b\"],[0.6666666666666666,\"#ed7953\"],[0.7777777777777778,\"#fb9f3a\"],[0.8888888888888888,\"#fdca26\"],[1.0,\"#f0f921\"]],\"type\":\"histogram2dcontour\"}],\"histogram2d\":[{\"colorbar\":{\"outlinewidth\":0,\"ticks\":\"\"},\"colorscale\":[[0.0,\"#0d0887\"],[0.1111111111111111,\"#46039f\"],[0.2222222222222222,\"#7201a8\"],[0.3333333333333333,\"#9c179e\"],[0.4444444444444444,\"#bd3786\"],[0.5555555555555556,\"#d8576b\"],[0.6666666666666666,\"#ed7953\"],[0.7777777777777778,\"#fb9f3a\"],[0.8888888888888888,\"#fdca26\"],[1.0,\"#f0f921\"]],\"type\":\"histogram2d\"}],\"histogram\":[{\"marker\":{\"pattern\":{\"fillmode\":\"overlay\",\"size\":10,\"solidity\":0.2}},\"type\":\"histogram\"}],\"mesh3d\":[{\"colorbar\":{\"outlinewidth\":0,\"ticks\":\"\"},\"type\":\"mesh3d\"}],\"parcoords\":[{\"line\":{\"colorbar\":{\"outlinewidth\":0,\"ticks\":\"\"}},\"type\":\"parcoords\"}],\"pie\":[{\"automargin\":true,\"type\":\"pie\"}],\"scatter3d\":[{\"line\":{\"colorbar\":{\"outlinewidth\":0,\"ticks\":\"\"}},\"marker\":{\"colorbar\":{\"outlinewidth\":0,\"ticks\":\"\"}},\"type\":\"scatter3d\"}],\"scattercarpet\":[{\"marker\":{\"colorbar\":{\"outlinewidth\":0,\"ticks\":\"\"}},\"type\":\"scattercarpet\"}],\"scattergeo\":[{\"marker\":{\"colorbar\":{\"outlinewidth\":0,\"ticks\":\"\"}},\"type\":\"scattergeo\"}],\"scattergl\":[{\"marker\":{\"colorbar\":{\"outlinewidth\":0,\"ticks\":\"\"}},\"type\":\"scattergl\"}],\"scattermapbox\":[{\"marker\":{\"colorbar\":{\"outlinewidth\":0,\"ticks\":\"\"}},\"type\":\"scattermapbox\"}],\"scatterpolargl\":[{\"marker\":{\"colorbar\":{\"outlinewidth\":0,\"ticks\":\"\"}},\"type\":\"scatterpolargl\"}],\"scatterpolar\":[{\"marker\":{\"colorbar\":{\"outlinewidth\":0,\"ticks\":\"\"}},\"type\":\"scatterpolar\"}],\"scatter\":[{\"fillpattern\":{\"fillmode\":\"overlay\",\"size\":10,\"solidity\":0.2},\"type\":\"scatter\"}],\"scatterternary\":[{\"marker\":{\"colorbar\":{\"outlinewidth\":0,\"ticks\":\"\"}},\"type\":\"scatterternary\"}],\"surface\":[{\"colorbar\":{\"outlinewidth\":0,\"ticks\":\"\"},\"colorscale\":[[0.0,\"#0d0887\"],[0.1111111111111111,\"#46039f\"],[0.2222222222222222,\"#7201a8\"],[0.3333333333333333,\"#9c179e\"],[0.4444444444444444,\"#bd3786\"],[0.5555555555555556,\"#d8576b\"],[0.6666666666666666,\"#ed7953\"],[0.7777777777777778,\"#fb9f3a\"],[0.8888888888888888,\"#fdca26\"],[1.0,\"#f0f921\"]],\"type\":\"surface\"}],\"table\":[{\"cells\":{\"fill\":{\"color\":\"#EBF0F8\"},\"line\":{\"color\":\"white\"}},\"header\":{\"fill\":{\"color\":\"#C8D4E3\"},\"line\":{\"color\":\"white\"}},\"type\":\"table\"}]},\"layout\":{\"annotationdefaults\":{\"arrowcolor\":\"#2a3f5f\",\"arrowhead\":0,\"arrowwidth\":1},\"autotypenumbers\":\"strict\",\"coloraxis\":{\"colorbar\":{\"outlinewidth\":0,\"ticks\":\"\"}},\"colorscale\":{\"diverging\":[[0,\"#8e0152\"],[0.1,\"#c51b7d\"],[0.2,\"#de77ae\"],[0.3,\"#f1b6da\"],[0.4,\"#fde0ef\"],[0.5,\"#f7f7f7\"],[0.6,\"#e6f5d0\"],[0.7,\"#b8e186\"],[0.8,\"#7fbc41\"],[0.9,\"#4d9221\"],[1,\"#276419\"]],\"sequential\":[[0.0,\"#0d0887\"],[0.1111111111111111,\"#46039f\"],[0.2222222222222222,\"#7201a8\"],[0.3333333333333333,\"#9c179e\"],[0.4444444444444444,\"#bd3786\"],[0.5555555555555556,\"#d8576b\"],[0.6666666666666666,\"#ed7953\"],[0.7777777777777778,\"#fb9f3a\"],[0.8888888888888888,\"#fdca26\"],[1.0,\"#f0f921\"]],\"sequentialminus\":[[0.0,\"#0d0887\"],[0.1111111111111111,\"#46039f\"],[0.2222222222222222,\"#7201a8\"],[0.3333333333333333,\"#9c179e\"],[0.4444444444444444,\"#bd3786\"],[0.5555555555555556,\"#d8576b\"],[0.6666666666666666,\"#ed7953\"],[0.7777777777777778,\"#fb9f3a\"],[0.8888888888888888,\"#fdca26\"],[1.0,\"#f0f921\"]]},\"colorway\":[\"#636efa\",\"#EF553B\",\"#00cc96\",\"#ab63fa\",\"#FFA15A\",\"#19d3f3\",\"#FF6692\",\"#B6E880\",\"#FF97FF\",\"#FECB52\"],\"font\":{\"color\":\"#2a3f5f\"},\"geo\":{\"bgcolor\":\"white\",\"lakecolor\":\"white\",\"landcolor\":\"#E5ECF6\",\"showlakes\":true,\"showland\":true,\"subunitcolor\":\"white\"},\"hoverlabel\":{\"align\":\"left\"},\"hovermode\":\"closest\",\"mapbox\":{\"style\":\"light\"},\"paper_bgcolor\":\"white\",\"plot_bgcolor\":\"#E5ECF6\",\"polar\":{\"angularaxis\":{\"gridcolor\":\"white\",\"linecolor\":\"white\",\"ticks\":\"\"},\"bgcolor\":\"#E5ECF6\",\"radialaxis\":{\"gridcolor\":\"white\",\"linecolor\":\"white\",\"ticks\":\"\"}},\"scene\":{\"xaxis\":{\"backgroundcolor\":\"#E5ECF6\",\"gridcolor\":\"white\",\"gridwidth\":2,\"linecolor\":\"white\",\"showbackground\":true,\"ticks\":\"\",\"zerolinecolor\":\"white\"},\"yaxis\":{\"backgroundcolor\":\"#E5ECF6\",\"gridcolor\":\"white\",\"gridwidth\":2,\"linecolor\":\"white\",\"showbackground\":true,\"ticks\":\"\",\"zerolinecolor\":\"white\"},\"zaxis\":{\"backgroundcolor\":\"#E5ECF6\",\"gridcolor\":\"white\",\"gridwidth\":2,\"linecolor\":\"white\",\"showbackground\":true,\"ticks\":\"\",\"zerolinecolor\":\"white\"}},\"shapedefaults\":{\"line\":{\"color\":\"#2a3f5f\"}},\"ternary\":{\"aaxis\":{\"gridcolor\":\"white\",\"linecolor\":\"white\",\"ticks\":\"\"},\"baxis\":{\"gridcolor\":\"white\",\"linecolor\":\"white\",\"ticks\":\"\"},\"bgcolor\":\"#E5ECF6\",\"caxis\":{\"gridcolor\":\"white\",\"linecolor\":\"white\",\"ticks\":\"\"}},\"title\":{\"x\":0.05},\"xaxis\":{\"automargin\":true,\"gridcolor\":\"white\",\"linecolor\":\"white\",\"ticks\":\"\",\"title\":{\"standoff\":15},\"zerolinecolor\":\"white\",\"zerolinewidth\":2},\"yaxis\":{\"automargin\":true,\"gridcolor\":\"white\",\"linecolor\":\"white\",\"ticks\":\"\",\"title\":{\"standoff\":15},\"zerolinecolor\":\"white\",\"zerolinewidth\":2}}},\"title\":{\"font\":{\"color\":\"#4D5663\"},\"text\":\"Number of hotels with special characteristics\"},\"xaxis\":{\"gridcolor\":\"#E1E5ED\",\"linecolor\":\"black\",\"showgrid\":true,\"tickfont\":{\"color\":\"#4D5663\"},\"title\":{\"font\":{\"color\":\"#4D5663\"},\"text\":\"\"},\"zerolinecolor\":\"#E1E5ED\"},\"yaxis\":{\"gridcolor\":\"#E1E5ED\",\"linecolor\":\"black\",\"showgrid\":true,\"tickfont\":{\"color\":\"#4D5663\"},\"title\":{\"font\":{\"color\":\"#4D5663\"},\"text\":\"Characteristic\"},\"zerolinecolor\":\"#E1E5ED\"}},                        {\"showLink\": true, \"linkText\": \"Export to plot.ly\", \"plotlyServerURL\": \"https://plot.ly\", \"responsive\": true}                    ).then(function(){\n",
       "                            \n",
       "var gd = document.getElementById('13b7e885-4121-4ff8-96ac-8187a6fc3d74');\n",
       "var x = new MutationObserver(function (mutations, observer) {{\n",
       "        var display = window.getComputedStyle(gd).display;\n",
       "        if (!display || display === 'none') {{\n",
       "            console.log([gd, 'removed!']);\n",
       "            Plotly.purge(gd);\n",
       "            observer.disconnect();\n",
       "        }}\n",
       "}});\n",
       "\n",
       "// Listen for the removal of the full notebook cells\n",
       "var notebookContainer = gd.closest('#notebook-container');\n",
       "if (notebookContainer) {{\n",
       "    x.observe(notebookContainer, {childList: true});\n",
       "}}\n",
       "\n",
       "// Listen for the clearing of the current output cell\n",
       "var outputEl = gd.closest('.output');\n",
       "if (outputEl) {{\n",
       "    x.observe(outputEl, {childList: true});\n",
       "}}\n",
       "\n",
       "                        })                };                });            </script>        </div>"
      ]
     },
     "metadata": {},
     "output_type": "display_data"
    }
   ],
   "source": [
    "df2 = pd.DataFrame({'No.of Hotel': view_count}, index=index_view)\n",
    "ax2 = df2.iplot(kind='barh', yTitle='Characteristic',colors='blue', linecolor='black', title='Number of hotels with special characteristics')\n",
    "ax2"
   ]
  },
  {
   "cell_type": "code",
   "execution_count": 50,
   "id": "5d2f74c2",
   "metadata": {},
   "outputs": [
    {
     "data": {
      "text/plain": [
       "hotel_name                      0\n",
       "tags                            0\n",
       "lat_x                           0\n",
       "lng_x                           0\n",
       "city                            0\n",
       "                               ..\n",
       "luxury quadruple room           0\n",
       "large room                      0\n",
       "art room xl with iconic view    0\n",
       "art room with iconic view       0\n",
       "penta plus room                 0\n",
       "Length: 520, dtype: int64"
      ]
     },
     "execution_count": 50,
     "metadata": {},
     "output_type": "execute_result"
    }
   ],
   "source": [
    "hoteltags_geo.isnull().sum()"
   ]
  },
  {
   "cell_type": "code",
   "execution_count": 51,
   "id": "b2d99727",
   "metadata": {},
   "outputs": [
    {
     "data": {
      "text/plain": [
       "{'2 rooms',\n",
       " '4 rooms',\n",
       " '_suite_',\n",
       " 'business trip',\n",
       " 'couple',\n",
       " 'double_room',\n",
       " 'eiffel_tower_view',\n",
       " 'family with older children',\n",
       " 'family with young children',\n",
       " 'group',\n",
       " 'leisure trip',\n",
       " 'single_room',\n",
       " 'solo traveler',\n",
       " 'travelers with friends',\n",
       " 'twin_room'}"
      ]
     },
     "execution_count": 51,
     "metadata": {},
     "output_type": "execute_result"
    }
   ],
   "source": [
    "hoteltags_geo.new_tags.iloc[323]"
   ]
  },
  {
   "cell_type": "code",
   "execution_count": 52,
   "id": "93934886",
   "metadata": {},
   "outputs": [
    {
     "data": {
      "text/plain": [
       "1    1046\n",
       "0     428\n",
       "Name: double_room, dtype: int64"
      ]
     },
     "execution_count": 52,
     "metadata": {},
     "output_type": "execute_result"
    }
   ],
   "source": [
    "hoteltags_geo['double_room'].value_counts()"
   ]
  },
  {
   "cell_type": "code",
   "execution_count": 54,
   "id": "e2d873c2",
   "metadata": {},
   "outputs": [
    {
     "data": {
      "text/html": [
       "<div style=\"width:100%;\"><div style=\"position:relative;width:100%;height:0;padding-bottom:60%;\"><span style=\"color:#565656\">Make this Notebook Trusted to load map: File -> Trust Notebook</span><iframe srcdoc=\"&lt;!DOCTYPE html&gt;\n",
       "&lt;head&gt;    \n",
       "    &lt;meta http-equiv=&quot;content-type&quot; content=&quot;text/html; charset=UTF-8&quot; /&gt;\n",
       "    \n",
       "        &lt;script&gt;\n",
       "            L_NO_TOUCH = false;\n",
       "            L_DISABLE_3D = false;\n",
       "        &lt;/script&gt;\n",
       "    \n",
       "    &lt;style&gt;html, body {width: 100%;height: 100%;margin: 0;padding: 0;}&lt;/style&gt;\n",
       "    &lt;style&gt;#map {position:absolute;top:0;bottom:0;right:0;left:0;}&lt;/style&gt;\n",
       "    &lt;script src=&quot;https://cdn.jsdelivr.net/npm/leaflet@1.6.0/dist/leaflet.js&quot;&gt;&lt;/script&gt;\n",
       "    &lt;script src=&quot;https://code.jquery.com/jquery-1.12.4.min.js&quot;&gt;&lt;/script&gt;\n",
       "    &lt;script src=&quot;https://maxcdn.bootstrapcdn.com/bootstrap/3.2.0/js/bootstrap.min.js&quot;&gt;&lt;/script&gt;\n",
       "    &lt;script src=&quot;https://cdnjs.cloudflare.com/ajax/libs/Leaflet.awesome-markers/2.0.2/leaflet.awesome-markers.js&quot;&gt;&lt;/script&gt;\n",
       "    &lt;link rel=&quot;stylesheet&quot; href=&quot;https://cdn.jsdelivr.net/npm/leaflet@1.6.0/dist/leaflet.css&quot;/&gt;\n",
       "    &lt;link rel=&quot;stylesheet&quot; href=&quot;https://maxcdn.bootstrapcdn.com/bootstrap/3.2.0/css/bootstrap.min.css&quot;/&gt;\n",
       "    &lt;link rel=&quot;stylesheet&quot; href=&quot;https://maxcdn.bootstrapcdn.com/bootstrap/3.2.0/css/bootstrap-theme.min.css&quot;/&gt;\n",
       "    &lt;link rel=&quot;stylesheet&quot; href=&quot;https://maxcdn.bootstrapcdn.com/font-awesome/4.6.3/css/font-awesome.min.css&quot;/&gt;\n",
       "    &lt;link rel=&quot;stylesheet&quot; href=&quot;https://cdnjs.cloudflare.com/ajax/libs/Leaflet.awesome-markers/2.0.2/leaflet.awesome-markers.css&quot;/&gt;\n",
       "    &lt;link rel=&quot;stylesheet&quot; href=&quot;https://cdn.jsdelivr.net/gh/python-visualization/folium/folium/templates/leaflet.awesome.rotate.min.css&quot;/&gt;\n",
       "    \n",
       "            &lt;meta name=&quot;viewport&quot; content=&quot;width=device-width,\n",
       "                initial-scale=1.0, maximum-scale=1.0, user-scalable=no&quot; /&gt;\n",
       "            &lt;style&gt;\n",
       "                #map_89c9085eef67f31bdf65e1a6806e9664 {\n",
       "                    position: relative;\n",
       "                    width: 100.0%;\n",
       "                    height: 100.0%;\n",
       "                    left: 0.0%;\n",
       "                    top: 0.0%;\n",
       "                }\n",
       "            &lt;/style&gt;\n",
       "        \n",
       "&lt;/head&gt;\n",
       "&lt;body&gt;    \n",
       "    \n",
       "            &lt;div class=&quot;folium-map&quot; id=&quot;map_89c9085eef67f31bdf65e1a6806e9664&quot; &gt;&lt;/div&gt;\n",
       "        \n",
       "&lt;/body&gt;\n",
       "&lt;script&gt;    \n",
       "    \n",
       "            var map_89c9085eef67f31bdf65e1a6806e9664 = L.map(\n",
       "                &quot;map_89c9085eef67f31bdf65e1a6806e9664&quot;,\n",
       "                {\n",
       "                    center: [48.8475112, 2.3022198],\n",
       "                    crs: L.CRS.EPSG3857,\n",
       "                    zoom: 12,\n",
       "                    zoomControl: true,\n",
       "                    preferCanvas: false,\n",
       "                }\n",
       "            );\n",
       "\n",
       "            \n",
       "\n",
       "        \n",
       "    \n",
       "            var tile_layer_908d9112bd8a331f282f460a5a7690c7 = L.tileLayer(\n",
       "                &quot;https://{s}.tile.openstreetmap.org/{z}/{x}/{y}.png&quot;,\n",
       "                {&quot;attribution&quot;: &quot;Data by \\u0026copy; \\u003ca href=\\&quot;http://openstreetmap.org\\&quot;\\u003eOpenStreetMap\\u003c/a\\u003e, under \\u003ca href=\\&quot;http://www.openstreetmap.org/copyright\\&quot;\\u003eODbL\\u003c/a\\u003e.&quot;, &quot;detectRetina&quot;: false, &quot;maxNativeZoom&quot;: 18, &quot;maxZoom&quot;: 18, &quot;minZoom&quot;: 0, &quot;noWrap&quot;: false, &quot;opacity&quot;: 1, &quot;subdomains&quot;: &quot;abc&quot;, &quot;tms&quot;: false}\n",
       "            ).addTo(map_89c9085eef67f31bdf65e1a6806e9664);\n",
       "        \n",
       "    \n",
       "            var tile_layer_4d40ea14599174b65d23ea45a2408b79 = L.tileLayer(\n",
       "                &quot;https://{s}.tile.openstreetmap.org/{z}/{x}/{y}.png&quot;,\n",
       "                {&quot;attribution&quot;: &quot;Data by \\u0026copy; \\u003ca href=\\&quot;http://openstreetmap.org\\&quot;\\u003eOpenStreetMap\\u003c/a\\u003e, under \\u003ca href=\\&quot;http://www.openstreetmap.org/copyright\\&quot;\\u003eODbL\\u003c/a\\u003e.&quot;, &quot;detectRetina&quot;: false, &quot;maxNativeZoom&quot;: 18, &quot;maxZoom&quot;: 18, &quot;minZoom&quot;: 0, &quot;noWrap&quot;: false, &quot;opacity&quot;: 1, &quot;subdomains&quot;: &quot;abc&quot;, &quot;tms&quot;: false}\n",
       "            ).addTo(map_89c9085eef67f31bdf65e1a6806e9664);\n",
       "        \n",
       "    \n",
       "            var marker_e3acbfcb8dfe285c01a9673447fb20a5 = L.marker(\n",
       "                [48.8475112, 2.3022198],\n",
       "                {}\n",
       "            ).addTo(map_89c9085eef67f31bdf65e1a6806e9664);\n",
       "        \n",
       "    \n",
       "            var icon_eab37182cc24d4ce340256da4fb4aac5 = L.AwesomeMarkers.icon(\n",
       "                {&quot;extraClasses&quot;: &quot;fa-rotate-0&quot;, &quot;icon&quot;: &quot;info-sign&quot;, &quot;iconColor&quot;: &quot;white&quot;, &quot;markerColor&quot;: &quot;blue&quot;, &quot;prefix&quot;: &quot;glyphicon&quot;}\n",
       "            );\n",
       "            marker_e3acbfcb8dfe285c01a9673447fb20a5.setIcon(icon_eab37182cc24d4ce340256da4fb4aac5);\n",
       "        \n",
       "    \n",
       "            marker_e3acbfcb8dfe285c01a9673447fb20a5.bindTooltip(\n",
       "                `&lt;div&gt;\n",
       "                     First Hotel Paris Tour Eiffel\n",
       "                 &lt;/div&gt;`,\n",
       "                {&quot;sticky&quot;: true}\n",
       "            );\n",
       "        \n",
       "    \n",
       "            var marker_35ab01530b607cda3e7396f9ce40c56f = L.marker(\n",
       "                [48.8528427, 2.3422256],\n",
       "                {}\n",
       "            ).addTo(map_89c9085eef67f31bdf65e1a6806e9664);\n",
       "        \n",
       "    \n",
       "            var icon_01330861b35e32621c918e044f764588 = L.AwesomeMarkers.icon(\n",
       "                {&quot;extraClasses&quot;: &quot;fa-rotate-0&quot;, &quot;icon&quot;: &quot;info-sign&quot;, &quot;iconColor&quot;: &quot;white&quot;, &quot;markerColor&quot;: &quot;blue&quot;, &quot;prefix&quot;: &quot;glyphicon&quot;}\n",
       "            );\n",
       "            marker_35ab01530b607cda3e7396f9ce40c56f.setIcon(icon_01330861b35e32621c918e044f764588);\n",
       "        \n",
       "    \n",
       "            marker_35ab01530b607cda3e7396f9ce40c56f.bindTooltip(\n",
       "                `&lt;div&gt;\n",
       "                     Holiday Inn Paris Notre Dame\n",
       "                 &lt;/div&gt;`,\n",
       "                {&quot;sticky&quot;: true}\n",
       "            );\n",
       "        \n",
       "    \n",
       "            var marker_65f265efe88bca4e6ba71cabd8326bb0 = L.marker(\n",
       "                [48.8649306, 2.3290844],\n",
       "                {}\n",
       "            ).addTo(map_89c9085eef67f31bdf65e1a6806e9664);\n",
       "        \n",
       "    \n",
       "            var icon_14ed3654f0987489b8581e6d685dd2ea = L.AwesomeMarkers.icon(\n",
       "                {&quot;extraClasses&quot;: &quot;fa-rotate-0&quot;, &quot;icon&quot;: &quot;info-sign&quot;, &quot;iconColor&quot;: &quot;white&quot;, &quot;markerColor&quot;: &quot;blue&quot;, &quot;prefix&quot;: &quot;glyphicon&quot;}\n",
       "            );\n",
       "            marker_65f265efe88bca4e6ba71cabd8326bb0.setIcon(icon_14ed3654f0987489b8581e6d685dd2ea);\n",
       "        \n",
       "    \n",
       "            marker_65f265efe88bca4e6ba71cabd8326bb0.bindTooltip(\n",
       "                `&lt;div&gt;\n",
       "                     Hotel Brighton Esprit de France\n",
       "                 &lt;/div&gt;`,\n",
       "                {&quot;sticky&quot;: true}\n",
       "            );\n",
       "        \n",
       "    \n",
       "            var marker_148a9e08e77d7245b6b538486ed8723f = L.marker(\n",
       "                [48.8691758, 2.3205807],\n",
       "                {}\n",
       "            ).addTo(map_89c9085eef67f31bdf65e1a6806e9664);\n",
       "        \n",
       "    \n",
       "            var icon_d7922141fde083be6ccbf1e10681c940 = L.AwesomeMarkers.icon(\n",
       "                {&quot;extraClasses&quot;: &quot;fa-rotate-0&quot;, &quot;icon&quot;: &quot;info-sign&quot;, &quot;iconColor&quot;: &quot;white&quot;, &quot;markerColor&quot;: &quot;blue&quot;, &quot;prefix&quot;: &quot;glyphicon&quot;}\n",
       "            );\n",
       "            marker_148a9e08e77d7245b6b538486ed8723f.setIcon(icon_d7922141fde083be6ccbf1e10681c940);\n",
       "        \n",
       "    \n",
       "            marker_148a9e08e77d7245b6b538486ed8723f.bindTooltip(\n",
       "                `&lt;div&gt;\n",
       "                     Hotel De Castiglione\n",
       "                 &lt;/div&gt;`,\n",
       "                {&quot;sticky&quot;: true}\n",
       "            );\n",
       "        \n",
       "    \n",
       "            var marker_5ed2b176b854178ac64b36738821f01a = L.marker(\n",
       "                [48.8502052, 2.289043],\n",
       "                {}\n",
       "            ).addTo(map_89c9085eef67f31bdf65e1a6806e9664);\n",
       "        \n",
       "    \n",
       "            var icon_da369614fa83c2592b3d63d94e8fafe9 = L.AwesomeMarkers.icon(\n",
       "                {&quot;extraClasses&quot;: &quot;fa-rotate-0&quot;, &quot;icon&quot;: &quot;info-sign&quot;, &quot;iconColor&quot;: &quot;white&quot;, &quot;markerColor&quot;: &quot;blue&quot;, &quot;prefix&quot;: &quot;glyphicon&quot;}\n",
       "            );\n",
       "            marker_5ed2b176b854178ac64b36738821f01a.setIcon(icon_da369614fa83c2592b3d63d94e8fafe9);\n",
       "        \n",
       "    \n",
       "            marker_5ed2b176b854178ac64b36738821f01a.bindTooltip(\n",
       "                `&lt;div&gt;\n",
       "                     Hotel Gustave\n",
       "                 &lt;/div&gt;`,\n",
       "                {&quot;sticky&quot;: true}\n",
       "            );\n",
       "        \n",
       "    \n",
       "            var marker_c1f3e91c7c61f9cd4cd80c6ba75ca921 = L.marker(\n",
       "                [48.8685093, 2.3067895],\n",
       "                {}\n",
       "            ).addTo(map_89c9085eef67f31bdf65e1a6806e9664);\n",
       "        \n",
       "    \n",
       "            var icon_7042d41c28df25c2c6f5617ca56cf1a7 = L.AwesomeMarkers.icon(\n",
       "                {&quot;extraClasses&quot;: &quot;fa-rotate-0&quot;, &quot;icon&quot;: &quot;info-sign&quot;, &quot;iconColor&quot;: &quot;white&quot;, &quot;markerColor&quot;: &quot;blue&quot;, &quot;prefix&quot;: &quot;glyphicon&quot;}\n",
       "            );\n",
       "            marker_c1f3e91c7c61f9cd4cd80c6ba75ca921.setIcon(icon_7042d41c28df25c2c6f5617ca56cf1a7);\n",
       "        \n",
       "    \n",
       "            marker_c1f3e91c7c61f9cd4cd80c6ba75ca921.bindTooltip(\n",
       "                `&lt;div&gt;\n",
       "                     Hotel Marignan Champs Elys es\n",
       "                 &lt;/div&gt;`,\n",
       "                {&quot;sticky&quot;: true}\n",
       "            );\n",
       "        \n",
       "    \n",
       "            var marker_9f1ae03d37d6013226d84fc698b5f964 = L.marker(\n",
       "                [48.8802782, 2.2843852],\n",
       "                {}\n",
       "            ).addTo(map_89c9085eef67f31bdf65e1a6806e9664);\n",
       "        \n",
       "    \n",
       "            var icon_a13a04238feba44d8f29b3caf05fbcb9 = L.AwesomeMarkers.icon(\n",
       "                {&quot;extraClasses&quot;: &quot;fa-rotate-0&quot;, &quot;icon&quot;: &quot;info-sign&quot;, &quot;iconColor&quot;: &quot;white&quot;, &quot;markerColor&quot;: &quot;blue&quot;, &quot;prefix&quot;: &quot;glyphicon&quot;}\n",
       "            );\n",
       "            marker_9f1ae03d37d6013226d84fc698b5f964.setIcon(icon_a13a04238feba44d8f29b3caf05fbcb9);\n",
       "        \n",
       "    \n",
       "            marker_9f1ae03d37d6013226d84fc698b5f964.bindTooltip(\n",
       "                `&lt;div&gt;\n",
       "                     Hyatt Regency Paris Etoile\n",
       "                 &lt;/div&gt;`,\n",
       "                {&quot;sticky&quot;: true}\n",
       "            );\n",
       "        \n",
       "    \n",
       "            var marker_9ab6ede9044a165f956f67b7cb57f443 = L.marker(\n",
       "                [48.8656973, 2.2829776],\n",
       "                {}\n",
       "            ).addTo(map_89c9085eef67f31bdf65e1a6806e9664);\n",
       "        \n",
       "    \n",
       "            var icon_f998d5ce05f770fd70fe555bfe128610 = L.AwesomeMarkers.icon(\n",
       "                {&quot;extraClasses&quot;: &quot;fa-rotate-0&quot;, &quot;icon&quot;: &quot;info-sign&quot;, &quot;iconColor&quot;: &quot;white&quot;, &quot;markerColor&quot;: &quot;blue&quot;, &quot;prefix&quot;: &quot;glyphicon&quot;}\n",
       "            );\n",
       "            marker_9ab6ede9044a165f956f67b7cb57f443.setIcon(icon_f998d5ce05f770fd70fe555bfe128610);\n",
       "        \n",
       "    \n",
       "            marker_9ab6ede9044a165f956f67b7cb57f443.bindTooltip(\n",
       "                `&lt;div&gt;\n",
       "                     Le Metropolitan a Tribute Portfolio Hotel\n",
       "                 &lt;/div&gt;`,\n",
       "                {&quot;sticky&quot;: true}\n",
       "            );\n",
       "        \n",
       "    \n",
       "            var marker_415131a2868332ccdc3d0bcdb4836935 = L.marker(\n",
       "                [48.8494851, 2.2955063],\n",
       "                {}\n",
       "            ).addTo(map_89c9085eef67f31bdf65e1a6806e9664);\n",
       "        \n",
       "    \n",
       "            var icon_216b4d8c0ae6d2f7ca6fe07087bc5f9e = L.AwesomeMarkers.icon(\n",
       "                {&quot;extraClasses&quot;: &quot;fa-rotate-0&quot;, &quot;icon&quot;: &quot;info-sign&quot;, &quot;iconColor&quot;: &quot;white&quot;, &quot;markerColor&quot;: &quot;blue&quot;, &quot;prefix&quot;: &quot;glyphicon&quot;}\n",
       "            );\n",
       "            marker_415131a2868332ccdc3d0bcdb4836935.setIcon(icon_216b4d8c0ae6d2f7ca6fe07087bc5f9e);\n",
       "        \n",
       "    \n",
       "            marker_415131a2868332ccdc3d0bcdb4836935.bindTooltip(\n",
       "                `&lt;div&gt;\n",
       "                     Le Parisis Paris Tour Eiffel\n",
       "                 &lt;/div&gt;`,\n",
       "                {&quot;sticky&quot;: true}\n",
       "            );\n",
       "        \n",
       "    \n",
       "            var marker_81bddc54af84b789202bf51607483b4b = L.marker(\n",
       "                [48.8920485, 2.3023791],\n",
       "                {}\n",
       "            ).addTo(map_89c9085eef67f31bdf65e1a6806e9664);\n",
       "        \n",
       "    \n",
       "            var icon_fc6bcfa67b69384df72b024e297b3e1d = L.AwesomeMarkers.icon(\n",
       "                {&quot;extraClasses&quot;: &quot;fa-rotate-0&quot;, &quot;icon&quot;: &quot;info-sign&quot;, &quot;iconColor&quot;: &quot;white&quot;, &quot;markerColor&quot;: &quot;blue&quot;, &quot;prefix&quot;: &quot;glyphicon&quot;}\n",
       "            );\n",
       "            marker_81bddc54af84b789202bf51607483b4b.setIcon(icon_fc6bcfa67b69384df72b024e297b3e1d);\n",
       "        \n",
       "    \n",
       "            marker_81bddc54af84b789202bf51607483b4b.bindTooltip(\n",
       "                `&lt;div&gt;\n",
       "                     Novotel Paris 17\n",
       "                 &lt;/div&gt;`,\n",
       "                {&quot;sticky&quot;: true}\n",
       "            );\n",
       "        \n",
       "    \n",
       "            var marker_1ac27b9fa2bf97183bd9403de3986bc5 = L.marker(\n",
       "                [48.8399018, 2.3031011],\n",
       "                {}\n",
       "            ).addTo(map_89c9085eef67f31bdf65e1a6806e9664);\n",
       "        \n",
       "    \n",
       "            var icon_68fc3e2e58ebabc09ec17b071ab23fdf = L.AwesomeMarkers.icon(\n",
       "                {&quot;extraClasses&quot;: &quot;fa-rotate-0&quot;, &quot;icon&quot;: &quot;info-sign&quot;, &quot;iconColor&quot;: &quot;white&quot;, &quot;markerColor&quot;: &quot;blue&quot;, &quot;prefix&quot;: &quot;glyphicon&quot;}\n",
       "            );\n",
       "            marker_1ac27b9fa2bf97183bd9403de3986bc5.setIcon(icon_68fc3e2e58ebabc09ec17b071ab23fdf);\n",
       "        \n",
       "    \n",
       "            marker_1ac27b9fa2bf97183bd9403de3986bc5.bindTooltip(\n",
       "                `&lt;div&gt;\n",
       "                     Novotel Paris Vaugirard Montparnasse\n",
       "                 &lt;/div&gt;`,\n",
       "                {&quot;sticky&quot;: true}\n",
       "            );\n",
       "        \n",
       "    \n",
       "            var marker_d8aef21aaf50314cf645b16a372a8f1a = L.marker(\n",
       "                [48.8555664, 2.2926243],\n",
       "                {}\n",
       "            ).addTo(map_89c9085eef67f31bdf65e1a6806e9664);\n",
       "        \n",
       "    \n",
       "            var icon_f860c2bfc2ff69851274923e973f268f = L.AwesomeMarkers.icon(\n",
       "                {&quot;extraClasses&quot;: &quot;fa-rotate-0&quot;, &quot;icon&quot;: &quot;info-sign&quot;, &quot;iconColor&quot;: &quot;white&quot;, &quot;markerColor&quot;: &quot;blue&quot;, &quot;prefix&quot;: &quot;glyphicon&quot;}\n",
       "            );\n",
       "            marker_d8aef21aaf50314cf645b16a372a8f1a.setIcon(icon_f860c2bfc2ff69851274923e973f268f);\n",
       "        \n",
       "    \n",
       "            marker_d8aef21aaf50314cf645b16a372a8f1a.bindTooltip(\n",
       "                `&lt;div&gt;\n",
       "                     Pullman Paris Tour Eiffel\n",
       "                 &lt;/div&gt;`,\n",
       "                {&quot;sticky&quot;: true}\n",
       "            );\n",
       "        \n",
       "    \n",
       "            var marker_7c621f987e64096d955f146e86ec5b6b = L.marker(\n",
       "                [48.8772093, 2.2968266],\n",
       "                {}\n",
       "            ).addTo(map_89c9085eef67f31bdf65e1a6806e9664);\n",
       "        \n",
       "    \n",
       "            var icon_85d252b035b5133988c7f2e336b0dc1e = L.AwesomeMarkers.icon(\n",
       "                {&quot;extraClasses&quot;: &quot;fa-rotate-0&quot;, &quot;icon&quot;: &quot;info-sign&quot;, &quot;iconColor&quot;: &quot;white&quot;, &quot;markerColor&quot;: &quot;blue&quot;, &quot;prefix&quot;: &quot;glyphicon&quot;}\n",
       "            );\n",
       "            marker_7c621f987e64096d955f146e86ec5b6b.setIcon(icon_85d252b035b5133988c7f2e336b0dc1e);\n",
       "        \n",
       "    \n",
       "            marker_7c621f987e64096d955f146e86ec5b6b.bindTooltip(\n",
       "                `&lt;div&gt;\n",
       "                     Renaissance Paris Arc de Triomphe Hotel\n",
       "                 &lt;/div&gt;`,\n",
       "                {&quot;sticky&quot;: true}\n",
       "            );\n",
       "        \n",
       "    \n",
       "            var marker_fe072b78f56c1fb0d86f145d1200d8ab = L.marker(\n",
       "                [48.8637135, 2.2934759],\n",
       "                {}\n",
       "            ).addTo(map_89c9085eef67f31bdf65e1a6806e9664);\n",
       "        \n",
       "    \n",
       "            var icon_b50e0501ed3e57963074b28d99a2eb4f = L.AwesomeMarkers.icon(\n",
       "                {&quot;extraClasses&quot;: &quot;fa-rotate-0&quot;, &quot;icon&quot;: &quot;info-sign&quot;, &quot;iconColor&quot;: &quot;white&quot;, &quot;markerColor&quot;: &quot;blue&quot;, &quot;prefix&quot;: &quot;glyphicon&quot;}\n",
       "            );\n",
       "            marker_fe072b78f56c1fb0d86f145d1200d8ab.setIcon(icon_b50e0501ed3e57963074b28d99a2eb4f);\n",
       "        \n",
       "    \n",
       "            marker_fe072b78f56c1fb0d86f145d1200d8ab.bindTooltip(\n",
       "                `&lt;div&gt;\n",
       "                     Shangri La Hotel Paris\n",
       "                 &lt;/div&gt;`,\n",
       "                {&quot;sticky&quot;: true}\n",
       "            );\n",
       "        \n",
       "&lt;/script&gt;\" style=\"position:absolute;width:100%;height:100%;left:0;top:0;border:none !important;\" allowfullscreen webkitallowfullscreen mozallowfullscreen></iframe></div></div>"
      ],
      "text/plain": [
       "<folium.folium.Map at 0x1833c3ffeb0>"
      ]
     },
     "execution_count": 54,
     "metadata": {},
     "output_type": "execute_result"
    }
   ],
   "source": [
    "# to generate map and visualise\n",
    "get_map(get_special('eiffel_tower_view'),'./images/eiffel.html')"
   ]
  },
  {
   "cell_type": "code",
   "execution_count": 55,
   "id": "b83a5e7a",
   "metadata": {},
   "outputs": [],
   "source": [
    "from sklearn.metrics.pairwise import cosine_similarity"
   ]
  },
  {
   "cell_type": "code",
   "execution_count": 56,
   "id": "50f08b6f",
   "metadata": {},
   "outputs": [
    {
     "data": {
      "text/html": [
       "<div>\n",
       "<style scoped>\n",
       "    .dataframe tbody tr th:only-of-type {\n",
       "        vertical-align: middle;\n",
       "    }\n",
       "\n",
       "    .dataframe tbody tr th {\n",
       "        vertical-align: top;\n",
       "    }\n",
       "\n",
       "    .dataframe thead th {\n",
       "        text-align: right;\n",
       "    }\n",
       "</style>\n",
       "<table border=\"1\" class=\"dataframe\">\n",
       "  <thead>\n",
       "    <tr style=\"text-align: right;\">\n",
       "      <th></th>\n",
       "      <th>hotel_name</th>\n",
       "      <th>tags</th>\n",
       "      <th>lat_x</th>\n",
       "      <th>lng_x</th>\n",
       "      <th>city</th>\n",
       "      <th>new_tags</th>\n",
       "      <th>leisure trip</th>\n",
       "      <th>couple</th>\n",
       "      <th>business trip</th>\n",
       "      <th>solo traveler</th>\n",
       "      <th>...</th>\n",
       "      <th>twin grand premier room</th>\n",
       "      <th>twin premier room</th>\n",
       "      <th>twin grand premier with canal view</th>\n",
       "      <th>king superior plus room</th>\n",
       "      <th>king loft</th>\n",
       "      <th>luxury quadruple room</th>\n",
       "      <th>large room</th>\n",
       "      <th>art room xl with iconic view</th>\n",
       "      <th>art room with iconic view</th>\n",
       "      <th>penta plus room</th>\n",
       "    </tr>\n",
       "  </thead>\n",
       "  <tbody>\n",
       "    <tr>\n",
       "      <th>0</th>\n",
       "      <td>11 Cadogan Gardens</td>\n",
       "      <td>[' Leisure trip ', ' Couple ', ' Superior Quee...</td>\n",
       "      <td>51.493616</td>\n",
       "      <td>-0.159235</td>\n",
       "      <td>Chelsea</td>\n",
       "      <td>{leisure trip, couple, business trip, solo tra...</td>\n",
       "      <td>1</td>\n",
       "      <td>1</td>\n",
       "      <td>1</td>\n",
       "      <td>1</td>\n",
       "      <td>...</td>\n",
       "      <td>0</td>\n",
       "      <td>0</td>\n",
       "      <td>0</td>\n",
       "      <td>0</td>\n",
       "      <td>0</td>\n",
       "      <td>0</td>\n",
       "      <td>0</td>\n",
       "      <td>0</td>\n",
       "      <td>0</td>\n",
       "      <td>0</td>\n",
       "    </tr>\n",
       "    <tr>\n",
       "      <th>1</th>\n",
       "      <td>1K Hotel</td>\n",
       "      <td>[' Leisure trip ', ' Couple ', ' Superior M Do...</td>\n",
       "      <td>48.863932</td>\n",
       "      <td>2.365874</td>\n",
       "      <td>Paris</td>\n",
       "      <td>{leisure trip, couple, business trip, solo tra...</td>\n",
       "      <td>1</td>\n",
       "      <td>1</td>\n",
       "      <td>1</td>\n",
       "      <td>1</td>\n",
       "      <td>...</td>\n",
       "      <td>0</td>\n",
       "      <td>0</td>\n",
       "      <td>0</td>\n",
       "      <td>0</td>\n",
       "      <td>0</td>\n",
       "      <td>0</td>\n",
       "      <td>0</td>\n",
       "      <td>0</td>\n",
       "      <td>0</td>\n",
       "      <td>0</td>\n",
       "    </tr>\n",
       "    <tr>\n",
       "      <th>2</th>\n",
       "      <td>25hours Hotel beim MuseumsQuartier</td>\n",
       "      <td>[' Leisure trip ', ' Solo traveler ', ' Standa...</td>\n",
       "      <td>48.206474</td>\n",
       "      <td>16.354630</td>\n",
       "      <td>Vienna</td>\n",
       "      <td>{city_view, leisure trip, with a pet, couple, ...</td>\n",
       "      <td>1</td>\n",
       "      <td>1</td>\n",
       "      <td>1</td>\n",
       "      <td>1</td>\n",
       "      <td>...</td>\n",
       "      <td>0</td>\n",
       "      <td>0</td>\n",
       "      <td>0</td>\n",
       "      <td>0</td>\n",
       "      <td>0</td>\n",
       "      <td>0</td>\n",
       "      <td>0</td>\n",
       "      <td>0</td>\n",
       "      <td>0</td>\n",
       "      <td>0</td>\n",
       "    </tr>\n",
       "    <tr>\n",
       "      <th>3</th>\n",
       "      <td>41</td>\n",
       "      <td>[' Leisure trip ', ' Couple ', ' Executive Kin...</td>\n",
       "      <td>51.498147</td>\n",
       "      <td>-0.143649</td>\n",
       "      <td>West End of London</td>\n",
       "      <td>{leisure trip, couple, business trip, solo tra...</td>\n",
       "      <td>1</td>\n",
       "      <td>1</td>\n",
       "      <td>1</td>\n",
       "      <td>1</td>\n",
       "      <td>...</td>\n",
       "      <td>0</td>\n",
       "      <td>0</td>\n",
       "      <td>0</td>\n",
       "      <td>0</td>\n",
       "      <td>0</td>\n",
       "      <td>0</td>\n",
       "      <td>0</td>\n",
       "      <td>0</td>\n",
       "      <td>0</td>\n",
       "      <td>0</td>\n",
       "    </tr>\n",
       "    <tr>\n",
       "      <th>4</th>\n",
       "      <td>45 Park Lane Dorchester Collection</td>\n",
       "      <td>[' Leisure trip ', ' Solo traveler ', ' Execut...</td>\n",
       "      <td>51.506371</td>\n",
       "      <td>-0.151536</td>\n",
       "      <td>West End of London</td>\n",
       "      <td>{business trip, leisure trip, family with youn...</td>\n",
       "      <td>1</td>\n",
       "      <td>1</td>\n",
       "      <td>1</td>\n",
       "      <td>1</td>\n",
       "      <td>...</td>\n",
       "      <td>0</td>\n",
       "      <td>0</td>\n",
       "      <td>0</td>\n",
       "      <td>0</td>\n",
       "      <td>0</td>\n",
       "      <td>0</td>\n",
       "      <td>0</td>\n",
       "      <td>0</td>\n",
       "      <td>0</td>\n",
       "      <td>0</td>\n",
       "    </tr>\n",
       "    <tr>\n",
       "      <th>...</th>\n",
       "      <td>...</td>\n",
       "      <td>...</td>\n",
       "      <td>...</td>\n",
       "      <td>...</td>\n",
       "      <td>...</td>\n",
       "      <td>...</td>\n",
       "      <td>...</td>\n",
       "      <td>...</td>\n",
       "      <td>...</td>\n",
       "      <td>...</td>\n",
       "      <td>...</td>\n",
       "      <td>...</td>\n",
       "      <td>...</td>\n",
       "      <td>...</td>\n",
       "      <td>...</td>\n",
       "      <td>...</td>\n",
       "      <td>...</td>\n",
       "      <td>...</td>\n",
       "      <td>...</td>\n",
       "      <td>...</td>\n",
       "      <td>...</td>\n",
       "    </tr>\n",
       "    <tr>\n",
       "      <th>1469</th>\n",
       "      <td>citizenM London Bankside</td>\n",
       "      <td>[' Leisure trip ', ' Couple ', ' Double Room '...</td>\n",
       "      <td>51.505151</td>\n",
       "      <td>-0.100472</td>\n",
       "      <td>City of London</td>\n",
       "      <td>{leisure trip, with a pet, couple, business tr...</td>\n",
       "      <td>1</td>\n",
       "      <td>1</td>\n",
       "      <td>1</td>\n",
       "      <td>1</td>\n",
       "      <td>...</td>\n",
       "      <td>0</td>\n",
       "      <td>0</td>\n",
       "      <td>0</td>\n",
       "      <td>0</td>\n",
       "      <td>0</td>\n",
       "      <td>0</td>\n",
       "      <td>0</td>\n",
       "      <td>0</td>\n",
       "      <td>0</td>\n",
       "      <td>0</td>\n",
       "    </tr>\n",
       "    <tr>\n",
       "      <th>1470</th>\n",
       "      <td>citizenM London Shoreditch</td>\n",
       "      <td>[' Leisure trip ', ' Solo traveler ', ' Double...</td>\n",
       "      <td>51.524137</td>\n",
       "      <td>-0.078698</td>\n",
       "      <td>Barbican</td>\n",
       "      <td>{leisure trip, with a pet, couple, business tr...</td>\n",
       "      <td>1</td>\n",
       "      <td>1</td>\n",
       "      <td>1</td>\n",
       "      <td>1</td>\n",
       "      <td>...</td>\n",
       "      <td>0</td>\n",
       "      <td>0</td>\n",
       "      <td>0</td>\n",
       "      <td>0</td>\n",
       "      <td>0</td>\n",
       "      <td>0</td>\n",
       "      <td>0</td>\n",
       "      <td>0</td>\n",
       "      <td>0</td>\n",
       "      <td>0</td>\n",
       "    </tr>\n",
       "    <tr>\n",
       "      <th>1471</th>\n",
       "      <td>citizenM Tower of London</td>\n",
       "      <td>[' Leisure trip ', ' Solo traveler ', ' Double...</td>\n",
       "      <td>51.510237</td>\n",
       "      <td>-0.076443</td>\n",
       "      <td>City of London</td>\n",
       "      <td>{leisure trip, with a pet, couple, business tr...</td>\n",
       "      <td>1</td>\n",
       "      <td>1</td>\n",
       "      <td>1</td>\n",
       "      <td>1</td>\n",
       "      <td>...</td>\n",
       "      <td>0</td>\n",
       "      <td>0</td>\n",
       "      <td>0</td>\n",
       "      <td>0</td>\n",
       "      <td>0</td>\n",
       "      <td>0</td>\n",
       "      <td>0</td>\n",
       "      <td>0</td>\n",
       "      <td>0</td>\n",
       "      <td>0</td>\n",
       "    </tr>\n",
       "    <tr>\n",
       "      <th>1472</th>\n",
       "      <td>every hotel Piccadilly</td>\n",
       "      <td>[' Leisure trip ', ' Couple ', ' Standard Doub...</td>\n",
       "      <td>51.510146</td>\n",
       "      <td>-0.131506</td>\n",
       "      <td>London</td>\n",
       "      <td>{leisure trip, couple, business trip, solo tra...</td>\n",
       "      <td>1</td>\n",
       "      <td>1</td>\n",
       "      <td>1</td>\n",
       "      <td>1</td>\n",
       "      <td>...</td>\n",
       "      <td>0</td>\n",
       "      <td>0</td>\n",
       "      <td>0</td>\n",
       "      <td>0</td>\n",
       "      <td>0</td>\n",
       "      <td>0</td>\n",
       "      <td>0</td>\n",
       "      <td>0</td>\n",
       "      <td>0</td>\n",
       "      <td>0</td>\n",
       "    </tr>\n",
       "    <tr>\n",
       "      <th>1473</th>\n",
       "      <td>pentahotel Vienna</td>\n",
       "      <td>[' Leisure trip ', ' Couple ', ' penta Standar...</td>\n",
       "      <td>48.189974</td>\n",
       "      <td>16.356701</td>\n",
       "      <td>Vienna</td>\n",
       "      <td>{penta plus room, leisure trip, with a pet, co...</td>\n",
       "      <td>1</td>\n",
       "      <td>1</td>\n",
       "      <td>1</td>\n",
       "      <td>1</td>\n",
       "      <td>...</td>\n",
       "      <td>0</td>\n",
       "      <td>0</td>\n",
       "      <td>0</td>\n",
       "      <td>0</td>\n",
       "      <td>0</td>\n",
       "      <td>0</td>\n",
       "      <td>0</td>\n",
       "      <td>0</td>\n",
       "      <td>0</td>\n",
       "      <td>1</td>\n",
       "    </tr>\n",
       "  </tbody>\n",
       "</table>\n",
       "<p>1474 rows × 520 columns</p>\n",
       "</div>"
      ],
      "text/plain": [
       "                              hotel_name  \\\n",
       "0                     11 Cadogan Gardens   \n",
       "1                               1K Hotel   \n",
       "2     25hours Hotel beim MuseumsQuartier   \n",
       "3                                     41   \n",
       "4     45 Park Lane Dorchester Collection   \n",
       "...                                  ...   \n",
       "1469            citizenM London Bankside   \n",
       "1470          citizenM London Shoreditch   \n",
       "1471            citizenM Tower of London   \n",
       "1472              every hotel Piccadilly   \n",
       "1473                   pentahotel Vienna   \n",
       "\n",
       "                                                   tags      lat_x      lng_x  \\\n",
       "0     [' Leisure trip ', ' Couple ', ' Superior Quee...  51.493616  -0.159235   \n",
       "1     [' Leisure trip ', ' Couple ', ' Superior M Do...  48.863932   2.365874   \n",
       "2     [' Leisure trip ', ' Solo traveler ', ' Standa...  48.206474  16.354630   \n",
       "3     [' Leisure trip ', ' Couple ', ' Executive Kin...  51.498147  -0.143649   \n",
       "4     [' Leisure trip ', ' Solo traveler ', ' Execut...  51.506371  -0.151536   \n",
       "...                                                 ...        ...        ...   \n",
       "1469  [' Leisure trip ', ' Couple ', ' Double Room '...  51.505151  -0.100472   \n",
       "1470  [' Leisure trip ', ' Solo traveler ', ' Double...  51.524137  -0.078698   \n",
       "1471  [' Leisure trip ', ' Solo traveler ', ' Double...  51.510237  -0.076443   \n",
       "1472  [' Leisure trip ', ' Couple ', ' Standard Doub...  51.510146  -0.131506   \n",
       "1473  [' Leisure trip ', ' Couple ', ' penta Standar...  48.189974  16.356701   \n",
       "\n",
       "                    city                                           new_tags  \\\n",
       "0                Chelsea  {leisure trip, couple, business trip, solo tra...   \n",
       "1                  Paris  {leisure trip, couple, business trip, solo tra...   \n",
       "2                 Vienna  {city_view, leisure trip, with a pet, couple, ...   \n",
       "3     West End of London  {leisure trip, couple, business trip, solo tra...   \n",
       "4     West End of London  {business trip, leisure trip, family with youn...   \n",
       "...                  ...                                                ...   \n",
       "1469      City of London  {leisure trip, with a pet, couple, business tr...   \n",
       "1470            Barbican  {leisure trip, with a pet, couple, business tr...   \n",
       "1471      City of London  {leisure trip, with a pet, couple, business tr...   \n",
       "1472              London  {leisure trip, couple, business trip, solo tra...   \n",
       "1473              Vienna  {penta plus room, leisure trip, with a pet, co...   \n",
       "\n",
       "      leisure trip  couple  business trip  solo traveler  ...  \\\n",
       "0                1       1              1              1  ...   \n",
       "1                1       1              1              1  ...   \n",
       "2                1       1              1              1  ...   \n",
       "3                1       1              1              1  ...   \n",
       "4                1       1              1              1  ...   \n",
       "...            ...     ...            ...            ...  ...   \n",
       "1469             1       1              1              1  ...   \n",
       "1470             1       1              1              1  ...   \n",
       "1471             1       1              1              1  ...   \n",
       "1472             1       1              1              1  ...   \n",
       "1473             1       1              1              1  ...   \n",
       "\n",
       "      twin grand premier room  twin premier room  \\\n",
       "0                           0                  0   \n",
       "1                           0                  0   \n",
       "2                           0                  0   \n",
       "3                           0                  0   \n",
       "4                           0                  0   \n",
       "...                       ...                ...   \n",
       "1469                        0                  0   \n",
       "1470                        0                  0   \n",
       "1471                        0                  0   \n",
       "1472                        0                  0   \n",
       "1473                        0                  0   \n",
       "\n",
       "      twin grand premier with canal view  king superior plus room  king loft  \\\n",
       "0                                      0                        0          0   \n",
       "1                                      0                        0          0   \n",
       "2                                      0                        0          0   \n",
       "3                                      0                        0          0   \n",
       "4                                      0                        0          0   \n",
       "...                                  ...                      ...        ...   \n",
       "1469                                   0                        0          0   \n",
       "1470                                   0                        0          0   \n",
       "1471                                   0                        0          0   \n",
       "1472                                   0                        0          0   \n",
       "1473                                   0                        0          0   \n",
       "\n",
       "      luxury quadruple room  large room  art room xl with iconic view  \\\n",
       "0                         0           0                             0   \n",
       "1                         0           0                             0   \n",
       "2                         0           0                             0   \n",
       "3                         0           0                             0   \n",
       "4                         0           0                             0   \n",
       "...                     ...         ...                           ...   \n",
       "1469                      0           0                             0   \n",
       "1470                      0           0                             0   \n",
       "1471                      0           0                             0   \n",
       "1472                      0           0                             0   \n",
       "1473                      0           0                             0   \n",
       "\n",
       "      art room with iconic view  penta plus room  \n",
       "0                             0                0  \n",
       "1                             0                0  \n",
       "2                             0                0  \n",
       "3                             0                0  \n",
       "4                             0                0  \n",
       "...                         ...              ...  \n",
       "1469                          0                0  \n",
       "1470                          0                0  \n",
       "1471                          0                0  \n",
       "1472                          0                0  \n",
       "1473                          0                1  \n",
       "\n",
       "[1474 rows x 520 columns]"
      ]
     },
     "execution_count": 56,
     "metadata": {},
     "output_type": "execute_result"
    }
   ],
   "source": [
    "hoteltags_geo"
   ]
  },
  {
   "cell_type": "code",
   "execution_count": 57,
   "id": "a153d69b",
   "metadata": {},
   "outputs": [
    {
     "data": {
      "text/html": [
       "<div>\n",
       "<style scoped>\n",
       "    .dataframe tbody tr th:only-of-type {\n",
       "        vertical-align: middle;\n",
       "    }\n",
       "\n",
       "    .dataframe tbody tr th {\n",
       "        vertical-align: top;\n",
       "    }\n",
       "\n",
       "    .dataframe thead th {\n",
       "        text-align: right;\n",
       "    }\n",
       "</style>\n",
       "<table border=\"1\" class=\"dataframe\">\n",
       "  <thead>\n",
       "    <tr style=\"text-align: right;\">\n",
       "      <th></th>\n",
       "      <th>leisure trip</th>\n",
       "      <th>couple</th>\n",
       "      <th>business trip</th>\n",
       "      <th>solo traveler</th>\n",
       "      <th>_suite_</th>\n",
       "      <th>single_room</th>\n",
       "      <th>family with young children</th>\n",
       "      <th>2 rooms</th>\n",
       "      <th>king_room</th>\n",
       "      <th>family with older children</th>\n",
       "      <th>...</th>\n",
       "      <th>twin grand premier room</th>\n",
       "      <th>twin premier room</th>\n",
       "      <th>twin grand premier with canal view</th>\n",
       "      <th>king superior plus room</th>\n",
       "      <th>king loft</th>\n",
       "      <th>luxury quadruple room</th>\n",
       "      <th>large room</th>\n",
       "      <th>art room xl with iconic view</th>\n",
       "      <th>art room with iconic view</th>\n",
       "      <th>penta plus room</th>\n",
       "    </tr>\n",
       "  </thead>\n",
       "  <tbody>\n",
       "    <tr>\n",
       "      <th>0</th>\n",
       "      <td>1</td>\n",
       "      <td>1</td>\n",
       "      <td>1</td>\n",
       "      <td>1</td>\n",
       "      <td>1</td>\n",
       "      <td>1</td>\n",
       "      <td>1</td>\n",
       "      <td>1</td>\n",
       "      <td>1</td>\n",
       "      <td>1</td>\n",
       "      <td>...</td>\n",
       "      <td>0</td>\n",
       "      <td>0</td>\n",
       "      <td>0</td>\n",
       "      <td>0</td>\n",
       "      <td>0</td>\n",
       "      <td>0</td>\n",
       "      <td>0</td>\n",
       "      <td>0</td>\n",
       "      <td>0</td>\n",
       "      <td>0</td>\n",
       "    </tr>\n",
       "    <tr>\n",
       "      <th>1</th>\n",
       "      <td>1</td>\n",
       "      <td>1</td>\n",
       "      <td>1</td>\n",
       "      <td>1</td>\n",
       "      <td>1</td>\n",
       "      <td>1</td>\n",
       "      <td>1</td>\n",
       "      <td>1</td>\n",
       "      <td>0</td>\n",
       "      <td>0</td>\n",
       "      <td>...</td>\n",
       "      <td>0</td>\n",
       "      <td>0</td>\n",
       "      <td>0</td>\n",
       "      <td>0</td>\n",
       "      <td>0</td>\n",
       "      <td>0</td>\n",
       "      <td>0</td>\n",
       "      <td>0</td>\n",
       "      <td>0</td>\n",
       "      <td>0</td>\n",
       "    </tr>\n",
       "    <tr>\n",
       "      <th>2</th>\n",
       "      <td>1</td>\n",
       "      <td>1</td>\n",
       "      <td>1</td>\n",
       "      <td>1</td>\n",
       "      <td>1</td>\n",
       "      <td>0</td>\n",
       "      <td>1</td>\n",
       "      <td>1</td>\n",
       "      <td>0</td>\n",
       "      <td>1</td>\n",
       "      <td>...</td>\n",
       "      <td>0</td>\n",
       "      <td>0</td>\n",
       "      <td>0</td>\n",
       "      <td>0</td>\n",
       "      <td>0</td>\n",
       "      <td>0</td>\n",
       "      <td>0</td>\n",
       "      <td>0</td>\n",
       "      <td>0</td>\n",
       "      <td>0</td>\n",
       "    </tr>\n",
       "    <tr>\n",
       "      <th>3</th>\n",
       "      <td>1</td>\n",
       "      <td>1</td>\n",
       "      <td>1</td>\n",
       "      <td>1</td>\n",
       "      <td>1</td>\n",
       "      <td>0</td>\n",
       "      <td>1</td>\n",
       "      <td>0</td>\n",
       "      <td>1</td>\n",
       "      <td>1</td>\n",
       "      <td>...</td>\n",
       "      <td>0</td>\n",
       "      <td>0</td>\n",
       "      <td>0</td>\n",
       "      <td>0</td>\n",
       "      <td>0</td>\n",
       "      <td>0</td>\n",
       "      <td>0</td>\n",
       "      <td>0</td>\n",
       "      <td>0</td>\n",
       "      <td>0</td>\n",
       "    </tr>\n",
       "    <tr>\n",
       "      <th>4</th>\n",
       "      <td>1</td>\n",
       "      <td>1</td>\n",
       "      <td>1</td>\n",
       "      <td>1</td>\n",
       "      <td>0</td>\n",
       "      <td>0</td>\n",
       "      <td>1</td>\n",
       "      <td>1</td>\n",
       "      <td>1</td>\n",
       "      <td>0</td>\n",
       "      <td>...</td>\n",
       "      <td>0</td>\n",
       "      <td>0</td>\n",
       "      <td>0</td>\n",
       "      <td>0</td>\n",
       "      <td>0</td>\n",
       "      <td>0</td>\n",
       "      <td>0</td>\n",
       "      <td>0</td>\n",
       "      <td>0</td>\n",
       "      <td>0</td>\n",
       "    </tr>\n",
       "    <tr>\n",
       "      <th>...</th>\n",
       "      <td>...</td>\n",
       "      <td>...</td>\n",
       "      <td>...</td>\n",
       "      <td>...</td>\n",
       "      <td>...</td>\n",
       "      <td>...</td>\n",
       "      <td>...</td>\n",
       "      <td>...</td>\n",
       "      <td>...</td>\n",
       "      <td>...</td>\n",
       "      <td>...</td>\n",
       "      <td>...</td>\n",
       "      <td>...</td>\n",
       "      <td>...</td>\n",
       "      <td>...</td>\n",
       "      <td>...</td>\n",
       "      <td>...</td>\n",
       "      <td>...</td>\n",
       "      <td>...</td>\n",
       "      <td>...</td>\n",
       "      <td>...</td>\n",
       "    </tr>\n",
       "    <tr>\n",
       "      <th>1469</th>\n",
       "      <td>1</td>\n",
       "      <td>1</td>\n",
       "      <td>1</td>\n",
       "      <td>1</td>\n",
       "      <td>0</td>\n",
       "      <td>1</td>\n",
       "      <td>1</td>\n",
       "      <td>1</td>\n",
       "      <td>0</td>\n",
       "      <td>1</td>\n",
       "      <td>...</td>\n",
       "      <td>0</td>\n",
       "      <td>0</td>\n",
       "      <td>0</td>\n",
       "      <td>0</td>\n",
       "      <td>0</td>\n",
       "      <td>0</td>\n",
       "      <td>0</td>\n",
       "      <td>0</td>\n",
       "      <td>0</td>\n",
       "      <td>0</td>\n",
       "    </tr>\n",
       "    <tr>\n",
       "      <th>1470</th>\n",
       "      <td>1</td>\n",
       "      <td>1</td>\n",
       "      <td>1</td>\n",
       "      <td>1</td>\n",
       "      <td>0</td>\n",
       "      <td>1</td>\n",
       "      <td>1</td>\n",
       "      <td>1</td>\n",
       "      <td>0</td>\n",
       "      <td>0</td>\n",
       "      <td>...</td>\n",
       "      <td>0</td>\n",
       "      <td>0</td>\n",
       "      <td>0</td>\n",
       "      <td>0</td>\n",
       "      <td>0</td>\n",
       "      <td>0</td>\n",
       "      <td>0</td>\n",
       "      <td>0</td>\n",
       "      <td>0</td>\n",
       "      <td>0</td>\n",
       "    </tr>\n",
       "    <tr>\n",
       "      <th>1471</th>\n",
       "      <td>1</td>\n",
       "      <td>1</td>\n",
       "      <td>1</td>\n",
       "      <td>1</td>\n",
       "      <td>0</td>\n",
       "      <td>1</td>\n",
       "      <td>1</td>\n",
       "      <td>1</td>\n",
       "      <td>0</td>\n",
       "      <td>1</td>\n",
       "      <td>...</td>\n",
       "      <td>0</td>\n",
       "      <td>0</td>\n",
       "      <td>0</td>\n",
       "      <td>0</td>\n",
       "      <td>0</td>\n",
       "      <td>0</td>\n",
       "      <td>0</td>\n",
       "      <td>0</td>\n",
       "      <td>0</td>\n",
       "      <td>0</td>\n",
       "    </tr>\n",
       "    <tr>\n",
       "      <th>1472</th>\n",
       "      <td>1</td>\n",
       "      <td>1</td>\n",
       "      <td>1</td>\n",
       "      <td>1</td>\n",
       "      <td>1</td>\n",
       "      <td>0</td>\n",
       "      <td>1</td>\n",
       "      <td>1</td>\n",
       "      <td>1</td>\n",
       "      <td>1</td>\n",
       "      <td>...</td>\n",
       "      <td>0</td>\n",
       "      <td>0</td>\n",
       "      <td>0</td>\n",
       "      <td>0</td>\n",
       "      <td>0</td>\n",
       "      <td>0</td>\n",
       "      <td>0</td>\n",
       "      <td>0</td>\n",
       "      <td>0</td>\n",
       "      <td>0</td>\n",
       "    </tr>\n",
       "    <tr>\n",
       "      <th>1473</th>\n",
       "      <td>1</td>\n",
       "      <td>1</td>\n",
       "      <td>1</td>\n",
       "      <td>1</td>\n",
       "      <td>1</td>\n",
       "      <td>0</td>\n",
       "      <td>1</td>\n",
       "      <td>1</td>\n",
       "      <td>0</td>\n",
       "      <td>1</td>\n",
       "      <td>...</td>\n",
       "      <td>0</td>\n",
       "      <td>0</td>\n",
       "      <td>0</td>\n",
       "      <td>0</td>\n",
       "      <td>0</td>\n",
       "      <td>0</td>\n",
       "      <td>0</td>\n",
       "      <td>0</td>\n",
       "      <td>0</td>\n",
       "      <td>1</td>\n",
       "    </tr>\n",
       "  </tbody>\n",
       "</table>\n",
       "<p>1474 rows × 514 columns</p>\n",
       "</div>"
      ],
      "text/plain": [
       "      leisure trip  couple  business trip  solo traveler  _suite_  \\\n",
       "0                1       1              1              1        1   \n",
       "1                1       1              1              1        1   \n",
       "2                1       1              1              1        1   \n",
       "3                1       1              1              1        1   \n",
       "4                1       1              1              1        0   \n",
       "...            ...     ...            ...            ...      ...   \n",
       "1469             1       1              1              1        0   \n",
       "1470             1       1              1              1        0   \n",
       "1471             1       1              1              1        0   \n",
       "1472             1       1              1              1        1   \n",
       "1473             1       1              1              1        1   \n",
       "\n",
       "      single_room  family with young children  2 rooms  king_room  \\\n",
       "0               1                           1        1          1   \n",
       "1               1                           1        1          0   \n",
       "2               0                           1        1          0   \n",
       "3               0                           1        0          1   \n",
       "4               0                           1        1          1   \n",
       "...           ...                         ...      ...        ...   \n",
       "1469            1                           1        1          0   \n",
       "1470            1                           1        1          0   \n",
       "1471            1                           1        1          0   \n",
       "1472            0                           1        1          1   \n",
       "1473            0                           1        1          0   \n",
       "\n",
       "      family with older children  ...  twin grand premier room  \\\n",
       "0                              1  ...                        0   \n",
       "1                              0  ...                        0   \n",
       "2                              1  ...                        0   \n",
       "3                              1  ...                        0   \n",
       "4                              0  ...                        0   \n",
       "...                          ...  ...                      ...   \n",
       "1469                           1  ...                        0   \n",
       "1470                           0  ...                        0   \n",
       "1471                           1  ...                        0   \n",
       "1472                           1  ...                        0   \n",
       "1473                           1  ...                        0   \n",
       "\n",
       "      twin premier room  twin grand premier with canal view  \\\n",
       "0                     0                                   0   \n",
       "1                     0                                   0   \n",
       "2                     0                                   0   \n",
       "3                     0                                   0   \n",
       "4                     0                                   0   \n",
       "...                 ...                                 ...   \n",
       "1469                  0                                   0   \n",
       "1470                  0                                   0   \n",
       "1471                  0                                   0   \n",
       "1472                  0                                   0   \n",
       "1473                  0                                   0   \n",
       "\n",
       "      king superior plus room  king loft  luxury quadruple room  large room  \\\n",
       "0                           0          0                      0           0   \n",
       "1                           0          0                      0           0   \n",
       "2                           0          0                      0           0   \n",
       "3                           0          0                      0           0   \n",
       "4                           0          0                      0           0   \n",
       "...                       ...        ...                    ...         ...   \n",
       "1469                        0          0                      0           0   \n",
       "1470                        0          0                      0           0   \n",
       "1471                        0          0                      0           0   \n",
       "1472                        0          0                      0           0   \n",
       "1473                        0          0                      0           0   \n",
       "\n",
       "      art room xl with iconic view  art room with iconic view  penta plus room  \n",
       "0                                0                          0                0  \n",
       "1                                0                          0                0  \n",
       "2                                0                          0                0  \n",
       "3                                0                          0                0  \n",
       "4                                0                          0                0  \n",
       "...                            ...                        ...              ...  \n",
       "1469                             0                          0                0  \n",
       "1470                             0                          0                0  \n",
       "1471                             0                          0                0  \n",
       "1472                             0                          0                0  \n",
       "1473                             0                          0                1  \n",
       "\n",
       "[1474 rows x 514 columns]"
      ]
     },
     "execution_count": 57,
     "metadata": {},
     "output_type": "execute_result"
    }
   ],
   "source": [
    "hoteltags_geo.iloc[:, 6:]"
   ]
  },
  {
   "cell_type": "code",
   "execution_count": 58,
   "id": "7f946789",
   "metadata": {},
   "outputs": [],
   "source": [
    "from sklearn.metrics.pairwise import cosine_similarity"
   ]
  },
  {
   "cell_type": "code",
   "execution_count": 59,
   "id": "aa480841",
   "metadata": {},
   "outputs": [],
   "source": [
    "similarityDF=cosine_similarity(hoteltags_geo.iloc[:, 6:],hoteltags_geo.iloc[:, 6:])\n"
   ]
  },
  {
   "cell_type": "code",
   "execution_count": 62,
   "id": "f976bb94",
   "metadata": {},
   "outputs": [],
   "source": [
    "np.save(\"./data/tagcosine.npy\",similarityDF)"
   ]
  },
  {
   "cell_type": "code",
   "execution_count": 63,
   "id": "b1dec2f4",
   "metadata": {},
   "outputs": [],
   "source": [
    "hoteltags_geo.to_pickle(\"./data/clean_hoteltag.pkl\")"
   ]
  },
  {
   "cell_type": "code",
   "execution_count": 64,
   "id": "f8abf88d",
   "metadata": {},
   "outputs": [],
   "source": [
    "def new_recommendations_tags(name,city, cosine_similarities):\n",
    "    \n",
    "    recommended_hotels = []\n",
    "    \n",
    "    #get input city index\n",
    "    city_index= list(hoteltags_geo[hoteltags_geo.city==city].index)\n",
    "    \n",
    "    # gettin the index of the hotel that matches the name\n",
    "    idx = hoteltags_geo[(hoteltags_geo.hotel_name == name)].index[0]\n",
    "    \n",
    "    # creating a Series with the similarity scores in descending order\n",
    "    score_series = pd.Series(cosine_similarities[idx]).sort_values(ascending = False)\n",
    "\n",
    "    # getting the indexes of  similar hotels\n",
    "    top_10_indexes = list(score_series.index)\n",
    "    \n",
    "    # populating the list with the names of the matching hotels\n",
    "    for i in range(len(top_10_indexes)):\n",
    "        if top_10_indexes[i] not in city_index:\n",
    "            pass\n",
    "        else:\n",
    "            recommended_hotels.append(hoteltags_geo[hoteltags_geo.index==top_10_indexes[i]]['hotel_name'].values[0])\n",
    "\n",
    "    # populating a dictionary of size 10 containing hotel name and lat and longitude \n",
    "    h = hoteltags_geo[['hotel_name','lat_x','lng_x']].to_dict(orient='records')\n",
    "    l = {k['hotel_name']: [k['lat_x'], k['lng_x']] for k in h}\n",
    "    if {hotel: l[hotel] for hotel in recommended_hotels }=={}:\n",
    "        print(\"There are no hotels of similar hotel\")\n",
    "    else:\n",
    "        output= {hotel: l[hotel] for hotel in recommended_hotels[:10]}\n",
    "        newoutput={i:output for i in range(1,len(output)+1)}\n",
    "        return newoutput\n",
    "    "
   ]
  },
  {
   "cell_type": "code",
   "execution_count": 65,
   "id": "2b5346be",
   "metadata": {},
   "outputs": [],
   "source": [
    "def get_hotel_fn(mydict,city):\n",
    "    loc2 = geocoder.osm(city)\n",
    "\n",
    "    # map\n",
    "    main_map = folium.Map(location=[loc2.lat, loc2.lng], zoom_start=13)\n",
    "    folium.raster_layers.TileLayer('Open Street Map').add_to(main_map)\n",
    "\n",
    "    # loop through dict\n",
    "    for i in range (1,len(mydict)+1):\n",
    "        folium.Marker(location=list(mydict[i].values())[i-1],tooltip=list(mydict[i].keys())[i-1]\n",
    "                      ,popup=list(mydict[i].keys())[i-1],\n",
    "                     icon=plugins.BeautifyIcon(number=i,\n",
    "                                               icon='bus',\n",
    "                                            border_color='blue',\n",
    "                                            border_width=0.5,\n",
    "                                            text_color='red',\n",
    "                                            inner_icon_style='margin-top:0px;')).add_to(main_map)\n",
    "     \n",
    "    return main_map\n"
   ]
  },
  {
   "cell_type": "code",
   "execution_count": 71,
   "id": "40af691f",
   "metadata": {},
   "outputs": [],
   "source": [
    "from folium import plugins"
   ]
  },
  {
   "cell_type": "code",
   "execution_count": null,
   "id": "f8044b2f",
   "metadata": {},
   "outputs": [],
   "source": []
  },
  {
   "cell_type": "code",
   "execution_count": null,
   "id": "b613a004",
   "metadata": {},
   "outputs": [],
   "source": []
  },
  {
   "cell_type": "code",
   "execution_count": 72,
   "id": "9819e0fe",
   "metadata": {},
   "outputs": [
    {
     "data": {
      "text/html": [
       "<div style=\"width:100%;\"><div style=\"position:relative;width:100%;height:0;padding-bottom:60%;\"><span style=\"color:#565656\">Make this Notebook Trusted to load map: File -> Trust Notebook</span><iframe srcdoc=\"&lt;!DOCTYPE html&gt;\n",
       "&lt;head&gt;    \n",
       "    &lt;meta http-equiv=&quot;content-type&quot; content=&quot;text/html; charset=UTF-8&quot; /&gt;\n",
       "    \n",
       "        &lt;script&gt;\n",
       "            L_NO_TOUCH = false;\n",
       "            L_DISABLE_3D = false;\n",
       "        &lt;/script&gt;\n",
       "    \n",
       "    &lt;style&gt;html, body {width: 100%;height: 100%;margin: 0;padding: 0;}&lt;/style&gt;\n",
       "    &lt;style&gt;#map {position:absolute;top:0;bottom:0;right:0;left:0;}&lt;/style&gt;\n",
       "    &lt;script src=&quot;https://cdn.jsdelivr.net/npm/leaflet@1.6.0/dist/leaflet.js&quot;&gt;&lt;/script&gt;\n",
       "    &lt;script src=&quot;https://code.jquery.com/jquery-1.12.4.min.js&quot;&gt;&lt;/script&gt;\n",
       "    &lt;script src=&quot;https://maxcdn.bootstrapcdn.com/bootstrap/3.2.0/js/bootstrap.min.js&quot;&gt;&lt;/script&gt;\n",
       "    &lt;script src=&quot;https://cdnjs.cloudflare.com/ajax/libs/Leaflet.awesome-markers/2.0.2/leaflet.awesome-markers.js&quot;&gt;&lt;/script&gt;\n",
       "    &lt;link rel=&quot;stylesheet&quot; href=&quot;https://cdn.jsdelivr.net/npm/leaflet@1.6.0/dist/leaflet.css&quot;/&gt;\n",
       "    &lt;link rel=&quot;stylesheet&quot; href=&quot;https://maxcdn.bootstrapcdn.com/bootstrap/3.2.0/css/bootstrap.min.css&quot;/&gt;\n",
       "    &lt;link rel=&quot;stylesheet&quot; href=&quot;https://maxcdn.bootstrapcdn.com/bootstrap/3.2.0/css/bootstrap-theme.min.css&quot;/&gt;\n",
       "    &lt;link rel=&quot;stylesheet&quot; href=&quot;https://maxcdn.bootstrapcdn.com/font-awesome/4.6.3/css/font-awesome.min.css&quot;/&gt;\n",
       "    &lt;link rel=&quot;stylesheet&quot; href=&quot;https://cdnjs.cloudflare.com/ajax/libs/Leaflet.awesome-markers/2.0.2/leaflet.awesome-markers.css&quot;/&gt;\n",
       "    &lt;link rel=&quot;stylesheet&quot; href=&quot;https://cdn.jsdelivr.net/gh/python-visualization/folium/folium/templates/leaflet.awesome.rotate.min.css&quot;/&gt;\n",
       "    \n",
       "            &lt;meta name=&quot;viewport&quot; content=&quot;width=device-width,\n",
       "                initial-scale=1.0, maximum-scale=1.0, user-scalable=no&quot; /&gt;\n",
       "            &lt;style&gt;\n",
       "                #map_d68321cfa7f1d92b3473958666e4c599 {\n",
       "                    position: relative;\n",
       "                    width: 100.0%;\n",
       "                    height: 100.0%;\n",
       "                    left: 0.0%;\n",
       "                    top: 0.0%;\n",
       "                }\n",
       "            &lt;/style&gt;\n",
       "        \n",
       "    &lt;script src=&quot;https://cdn.jsdelivr.net/gh/marslan390/BeautifyMarker/leaflet-beautify-marker-icon.min.js&quot;&gt;&lt;/script&gt;\n",
       "    &lt;link rel=&quot;stylesheet&quot; href=&quot;https://cdn.jsdelivr.net/gh/marslan390/BeautifyMarker/leaflet-beautify-marker-icon.min.css&quot;/&gt;\n",
       "&lt;/head&gt;\n",
       "&lt;body&gt;    \n",
       "    \n",
       "            &lt;div class=&quot;folium-map&quot; id=&quot;map_d68321cfa7f1d92b3473958666e4c599&quot; &gt;&lt;/div&gt;\n",
       "        \n",
       "&lt;/body&gt;\n",
       "&lt;script&gt;    \n",
       "    \n",
       "            var map_d68321cfa7f1d92b3473958666e4c599 = L.map(\n",
       "                &quot;map_d68321cfa7f1d92b3473958666e4c599&quot;,\n",
       "                {\n",
       "                    center: [48.2083537, 16.3725042],\n",
       "                    crs: L.CRS.EPSG3857,\n",
       "                    zoom: 13,\n",
       "                    zoomControl: true,\n",
       "                    preferCanvas: false,\n",
       "                }\n",
       "            );\n",
       "\n",
       "            \n",
       "\n",
       "        \n",
       "    \n",
       "            var tile_layer_18da4aa20a1c332600f4ed13f7cb25c1 = L.tileLayer(\n",
       "                &quot;https://{s}.tile.openstreetmap.org/{z}/{x}/{y}.png&quot;,\n",
       "                {&quot;attribution&quot;: &quot;Data by \\u0026copy; \\u003ca href=\\&quot;http://openstreetmap.org\\&quot;\\u003eOpenStreetMap\\u003c/a\\u003e, under \\u003ca href=\\&quot;http://www.openstreetmap.org/copyright\\&quot;\\u003eODbL\\u003c/a\\u003e.&quot;, &quot;detectRetina&quot;: false, &quot;maxNativeZoom&quot;: 18, &quot;maxZoom&quot;: 18, &quot;minZoom&quot;: 0, &quot;noWrap&quot;: false, &quot;opacity&quot;: 1, &quot;subdomains&quot;: &quot;abc&quot;, &quot;tms&quot;: false}\n",
       "            ).addTo(map_d68321cfa7f1d92b3473958666e4c599);\n",
       "        \n",
       "    \n",
       "            var tile_layer_5b41d3c4e0f4d8a43f9642bb06fce266 = L.tileLayer(\n",
       "                &quot;https://{s}.tile.openstreetmap.org/{z}/{x}/{y}.png&quot;,\n",
       "                {&quot;attribution&quot;: &quot;Data by \\u0026copy; \\u003ca href=\\&quot;http://openstreetmap.org\\&quot;\\u003eOpenStreetMap\\u003c/a\\u003e, under \\u003ca href=\\&quot;http://www.openstreetmap.org/copyright\\&quot;\\u003eODbL\\u003c/a\\u003e.&quot;, &quot;detectRetina&quot;: false, &quot;maxNativeZoom&quot;: 18, &quot;maxZoom&quot;: 18, &quot;minZoom&quot;: 0, &quot;noWrap&quot;: false, &quot;opacity&quot;: 1, &quot;subdomains&quot;: &quot;abc&quot;, &quot;tms&quot;: false}\n",
       "            ).addTo(map_d68321cfa7f1d92b3473958666e4c599);\n",
       "        \n",
       "    \n",
       "            var marker_58562e8d22d04ed192716d9824124b3d = L.marker(\n",
       "                [48.2130607, 16.4133973],\n",
       "                {}\n",
       "            ).addTo(map_d68321cfa7f1d92b3473958666e4c599);\n",
       "        \n",
       "    \n",
       "            var beautify_icon_0ab4c28822d809afe4b5ec0026a93941 = new L.BeautifyIcon.icon(\n",
       "                {&quot;backgroundColor&quot;: &quot;#FFF&quot;, &quot;borderColor&quot;: &quot;blue&quot;, &quot;borderWidth&quot;: 0.5, &quot;icon&quot;: &quot;bus&quot;, &quot;innerIconStyle&quot;: &quot;margin-top:0px;&quot;, &quot;isAlphaNumericIcon&quot;: true, &quot;spin&quot;: false, &quot;text&quot;: 1, &quot;textColor&quot;: &quot;red&quot;}\n",
       "            )\n",
       "            marker_58562e8d22d04ed192716d9824124b3d.setIcon(beautify_icon_0ab4c28822d809afe4b5ec0026a93941);\n",
       "        \n",
       "    \n",
       "        var popup_5f129c29074d4f6cfaa1093d86079209 = L.popup({&quot;maxWidth&quot;: &quot;100%&quot;});\n",
       "\n",
       "        \n",
       "            var html_b15eb4643137491a54b1766d2453cb96 = $(`&lt;div id=&quot;html_b15eb4643137491a54b1766d2453cb96&quot; style=&quot;width: 100.0%; height: 100.0%;&quot;&gt;Courtyard by Marriott Vienna Prater Messe&lt;/div&gt;`)[0];\n",
       "            popup_5f129c29074d4f6cfaa1093d86079209.setContent(html_b15eb4643137491a54b1766d2453cb96);\n",
       "        \n",
       "\n",
       "        marker_58562e8d22d04ed192716d9824124b3d.bindPopup(popup_5f129c29074d4f6cfaa1093d86079209)\n",
       "        ;\n",
       "\n",
       "        \n",
       "    \n",
       "    \n",
       "            marker_58562e8d22d04ed192716d9824124b3d.bindTooltip(\n",
       "                `&lt;div&gt;\n",
       "                     Courtyard by Marriott Vienna Prater Messe\n",
       "                 &lt;/div&gt;`,\n",
       "                {&quot;sticky&quot;: true}\n",
       "            );\n",
       "        \n",
       "    \n",
       "            var marker_188fb73c0cba1d5c4984370dbb0cbe87 = L.marker(\n",
       "                [48.2012505, 16.3731255],\n",
       "                {}\n",
       "            ).addTo(map_d68321cfa7f1d92b3473958666e4c599);\n",
       "        \n",
       "    \n",
       "            var beautify_icon_a7e5736dffb03ee5a5bd0f4f33e64871 = new L.BeautifyIcon.icon(\n",
       "                {&quot;backgroundColor&quot;: &quot;#FFF&quot;, &quot;borderColor&quot;: &quot;blue&quot;, &quot;borderWidth&quot;: 0.5, &quot;icon&quot;: &quot;bus&quot;, &quot;innerIconStyle&quot;: &quot;margin-top:0px;&quot;, &quot;isAlphaNumericIcon&quot;: true, &quot;spin&quot;: false, &quot;text&quot;: 2, &quot;textColor&quot;: &quot;red&quot;}\n",
       "            )\n",
       "            marker_188fb73c0cba1d5c4984370dbb0cbe87.setIcon(beautify_icon_a7e5736dffb03ee5a5bd0f4f33e64871);\n",
       "        \n",
       "    \n",
       "        var popup_d4e09422bfeaf47df2b47d91894d9c3b = L.popup({&quot;maxWidth&quot;: &quot;100%&quot;});\n",
       "\n",
       "        \n",
       "            var html_e60f75d3013557af9a9ad3a45488281d = $(`&lt;div id=&quot;html_e60f75d3013557af9a9ad3a45488281d&quot; style=&quot;width: 100.0%; height: 100.0%;&quot;&gt;Hotel Imperial A Luxury Collection Hotel&lt;/div&gt;`)[0];\n",
       "            popup_d4e09422bfeaf47df2b47d91894d9c3b.setContent(html_e60f75d3013557af9a9ad3a45488281d);\n",
       "        \n",
       "\n",
       "        marker_188fb73c0cba1d5c4984370dbb0cbe87.bindPopup(popup_d4e09422bfeaf47df2b47d91894d9c3b)\n",
       "        ;\n",
       "\n",
       "        \n",
       "    \n",
       "    \n",
       "            marker_188fb73c0cba1d5c4984370dbb0cbe87.bindTooltip(\n",
       "                `&lt;div&gt;\n",
       "                     Hotel Imperial A Luxury Collection Hotel\n",
       "                 &lt;/div&gt;`,\n",
       "                {&quot;sticky&quot;: true}\n",
       "            );\n",
       "        \n",
       "    \n",
       "            var marker_5bdd7a57fbe22d11c2e907e2247f2f65 = L.marker(\n",
       "                [48.2155236, 16.3646858],\n",
       "                {}\n",
       "            ).addTo(map_d68321cfa7f1d92b3473958666e4c599);\n",
       "        \n",
       "    \n",
       "            var beautify_icon_7ec8a0f7803d25d11ce18ccb8e506c8b = new L.BeautifyIcon.icon(\n",
       "                {&quot;backgroundColor&quot;: &quot;#FFF&quot;, &quot;borderColor&quot;: &quot;blue&quot;, &quot;borderWidth&quot;: 0.5, &quot;icon&quot;: &quot;bus&quot;, &quot;innerIconStyle&quot;: &quot;margin-top:0px;&quot;, &quot;isAlphaNumericIcon&quot;: true, &quot;spin&quot;: false, &quot;text&quot;: 3, &quot;textColor&quot;: &quot;red&quot;}\n",
       "            )\n",
       "            marker_5bdd7a57fbe22d11c2e907e2247f2f65.setIcon(beautify_icon_7ec8a0f7803d25d11ce18ccb8e506c8b);\n",
       "        \n",
       "    \n",
       "        var popup_cc30fc823cbbf51127d4924140b53ba1 = L.popup({&quot;maxWidth&quot;: &quot;100%&quot;});\n",
       "\n",
       "        \n",
       "            var html_38738d8329dd694bc499dad859e7887a = $(`&lt;div id=&quot;html_38738d8329dd694bc499dad859e7887a&quot; style=&quot;width: 100.0%; height: 100.0%;&quot;&gt;Hilton Vienna Plaza&lt;/div&gt;`)[0];\n",
       "            popup_cc30fc823cbbf51127d4924140b53ba1.setContent(html_38738d8329dd694bc499dad859e7887a);\n",
       "        \n",
       "\n",
       "        marker_5bdd7a57fbe22d11c2e907e2247f2f65.bindPopup(popup_cc30fc823cbbf51127d4924140b53ba1)\n",
       "        ;\n",
       "\n",
       "        \n",
       "    \n",
       "    \n",
       "            marker_5bdd7a57fbe22d11c2e907e2247f2f65.bindTooltip(\n",
       "                `&lt;div&gt;\n",
       "                     Hilton Vienna Plaza\n",
       "                 &lt;/div&gt;`,\n",
       "                {&quot;sticky&quot;: true}\n",
       "            );\n",
       "        \n",
       "    \n",
       "            var marker_eaed2502266c02c3c7675e3ce5c053ed = L.marker(\n",
       "                [48.2050967, 16.3770928],\n",
       "                {}\n",
       "            ).addTo(map_d68321cfa7f1d92b3473958666e4c599);\n",
       "        \n",
       "    \n",
       "            var beautify_icon_e020cf45b1c064fa2262399c0e3781b2 = new L.BeautifyIcon.icon(\n",
       "                {&quot;backgroundColor&quot;: &quot;#FFF&quot;, &quot;borderColor&quot;: &quot;blue&quot;, &quot;borderWidth&quot;: 0.5, &quot;icon&quot;: &quot;bus&quot;, &quot;innerIconStyle&quot;: &quot;margin-top:0px;&quot;, &quot;isAlphaNumericIcon&quot;: true, &quot;spin&quot;: false, &quot;text&quot;: 4, &quot;textColor&quot;: &quot;red&quot;}\n",
       "            )\n",
       "            marker_eaed2502266c02c3c7675e3ce5c053ed.setIcon(beautify_icon_e020cf45b1c064fa2262399c0e3781b2);\n",
       "        \n",
       "    \n",
       "        var popup_b0e754c516fef3188849fef394108cb4 = L.popup({&quot;maxWidth&quot;: &quot;100%&quot;});\n",
       "\n",
       "        \n",
       "            var html_f4415d0a7996aab7d533c5b384d50f22 = $(`&lt;div id=&quot;html_f4415d0a7996aab7d533c5b384d50f22&quot; style=&quot;width: 100.0%; height: 100.0%;&quot;&gt;Vienna Marriott Hotel&lt;/div&gt;`)[0];\n",
       "            popup_b0e754c516fef3188849fef394108cb4.setContent(html_f4415d0a7996aab7d533c5b384d50f22);\n",
       "        \n",
       "\n",
       "        marker_eaed2502266c02c3c7675e3ce5c053ed.bindPopup(popup_b0e754c516fef3188849fef394108cb4)\n",
       "        ;\n",
       "\n",
       "        \n",
       "    \n",
       "    \n",
       "            marker_eaed2502266c02c3c7675e3ce5c053ed.bindTooltip(\n",
       "                `&lt;div&gt;\n",
       "                     Vienna Marriott Hotel\n",
       "                 &lt;/div&gt;`,\n",
       "                {&quot;sticky&quot;: true}\n",
       "            );\n",
       "        \n",
       "    \n",
       "            var marker_8c1c5520911fcd361a6e16907bda7718 = L.marker(\n",
       "                [48.2021105, 16.3720841],\n",
       "                {}\n",
       "            ).addTo(map_d68321cfa7f1d92b3473958666e4c599);\n",
       "        \n",
       "    \n",
       "            var beautify_icon_77e45b166030039f4943ffaea451d3d3 = new L.BeautifyIcon.icon(\n",
       "                {&quot;backgroundColor&quot;: &quot;#FFF&quot;, &quot;borderColor&quot;: &quot;blue&quot;, &quot;borderWidth&quot;: 0.5, &quot;icon&quot;: &quot;bus&quot;, &quot;innerIconStyle&quot;: &quot;margin-top:0px;&quot;, &quot;isAlphaNumericIcon&quot;: true, &quot;spin&quot;: false, &quot;text&quot;: 5, &quot;textColor&quot;: &quot;red&quot;}\n",
       "            )\n",
       "            marker_8c1c5520911fcd361a6e16907bda7718.setIcon(beautify_icon_77e45b166030039f4943ffaea451d3d3);\n",
       "        \n",
       "    \n",
       "        var popup_7686b35cced7cee923376dd6a23f7f34 = L.popup({&quot;maxWidth&quot;: &quot;100%&quot;});\n",
       "\n",
       "        \n",
       "            var html_d956a547de6860e86cadc7f5568b74fb = $(`&lt;div id=&quot;html_d956a547de6860e86cadc7f5568b74fb&quot; style=&quot;width: 100.0%; height: 100.0%;&quot;&gt;Grand Hotel Wien&lt;/div&gt;`)[0];\n",
       "            popup_7686b35cced7cee923376dd6a23f7f34.setContent(html_d956a547de6860e86cadc7f5568b74fb);\n",
       "        \n",
       "\n",
       "        marker_8c1c5520911fcd361a6e16907bda7718.bindPopup(popup_7686b35cced7cee923376dd6a23f7f34)\n",
       "        ;\n",
       "\n",
       "        \n",
       "    \n",
       "    \n",
       "            marker_8c1c5520911fcd361a6e16907bda7718.bindTooltip(\n",
       "                `&lt;div&gt;\n",
       "                     Grand Hotel Wien\n",
       "                 &lt;/div&gt;`,\n",
       "                {&quot;sticky&quot;: true}\n",
       "            );\n",
       "        \n",
       "    \n",
       "            var marker_b74825ad6afba0ecd368935ef407714c = L.marker(\n",
       "                [48.212857, 16.37986],\n",
       "                {}\n",
       "            ).addTo(map_d68321cfa7f1d92b3473958666e4c599);\n",
       "        \n",
       "    \n",
       "            var beautify_icon_e7ce601efeadc71a4c21988516fe1132 = new L.BeautifyIcon.icon(\n",
       "                {&quot;backgroundColor&quot;: &quot;#FFF&quot;, &quot;borderColor&quot;: &quot;blue&quot;, &quot;borderWidth&quot;: 0.5, &quot;icon&quot;: &quot;bus&quot;, &quot;innerIconStyle&quot;: &quot;margin-top:0px;&quot;, &quot;isAlphaNumericIcon&quot;: true, &quot;spin&quot;: false, &quot;text&quot;: 6, &quot;textColor&quot;: &quot;red&quot;}\n",
       "            )\n",
       "            marker_b74825ad6afba0ecd368935ef407714c.setIcon(beautify_icon_e7ce601efeadc71a4c21988516fe1132);\n",
       "        \n",
       "    \n",
       "        var popup_1a98d4ab66601482b97634c8cc12562e = L.popup({&quot;maxWidth&quot;: &quot;100%&quot;});\n",
       "\n",
       "        \n",
       "            var html_d1875fe77c8cb12cfb8fd39cfbc5ece1 = $(`&lt;div id=&quot;html_d1875fe77c8cb12cfb8fd39cfbc5ece1&quot; style=&quot;width: 100.0%; height: 100.0%;&quot;&gt;Sofitel Vienna Stephansdom&lt;/div&gt;`)[0];\n",
       "            popup_1a98d4ab66601482b97634c8cc12562e.setContent(html_d1875fe77c8cb12cfb8fd39cfbc5ece1);\n",
       "        \n",
       "\n",
       "        marker_b74825ad6afba0ecd368935ef407714c.bindPopup(popup_1a98d4ab66601482b97634c8cc12562e)\n",
       "        ;\n",
       "\n",
       "        \n",
       "    \n",
       "    \n",
       "            marker_b74825ad6afba0ecd368935ef407714c.bindTooltip(\n",
       "                `&lt;div&gt;\n",
       "                     Sofitel Vienna Stephansdom\n",
       "                 &lt;/div&gt;`,\n",
       "                {&quot;sticky&quot;: true}\n",
       "            );\n",
       "        \n",
       "    \n",
       "            var marker_f64ab6cb0a6b6cc13b55900b67d4748e = L.marker(\n",
       "                [48.2019865, 16.3789934],\n",
       "                {}\n",
       "            ).addTo(map_d68321cfa7f1d92b3473958666e4c599);\n",
       "        \n",
       "    \n",
       "            var beautify_icon_d40a95474640cb382e5cafa6a0ae6731 = new L.BeautifyIcon.icon(\n",
       "                {&quot;backgroundColor&quot;: &quot;#FFF&quot;, &quot;borderColor&quot;: &quot;blue&quot;, &quot;borderWidth&quot;: 0.5, &quot;icon&quot;: &quot;bus&quot;, &quot;innerIconStyle&quot;: &quot;margin-top:0px;&quot;, &quot;isAlphaNumericIcon&quot;: true, &quot;spin&quot;: false, &quot;text&quot;: 7, &quot;textColor&quot;: &quot;red&quot;}\n",
       "            )\n",
       "            marker_f64ab6cb0a6b6cc13b55900b67d4748e.setIcon(beautify_icon_d40a95474640cb382e5cafa6a0ae6731);\n",
       "        \n",
       "    \n",
       "        var popup_c385a12b7ba2928475f0268908e24f0a = L.popup({&quot;maxWidth&quot;: &quot;100%&quot;});\n",
       "\n",
       "        \n",
       "            var html_89712909ff3802fcf9bd3eae86bfe9b1 = $(`&lt;div id=&quot;html_89712909ff3802fcf9bd3eae86bfe9b1&quot; style=&quot;width: 100.0%; height: 100.0%;&quot;&gt;InterContinental Wien&lt;/div&gt;`)[0];\n",
       "            popup_c385a12b7ba2928475f0268908e24f0a.setContent(html_89712909ff3802fcf9bd3eae86bfe9b1);\n",
       "        \n",
       "\n",
       "        marker_f64ab6cb0a6b6cc13b55900b67d4748e.bindPopup(popup_c385a12b7ba2928475f0268908e24f0a)\n",
       "        ;\n",
       "\n",
       "        \n",
       "    \n",
       "    \n",
       "            marker_f64ab6cb0a6b6cc13b55900b67d4748e.bindTooltip(\n",
       "                `&lt;div&gt;\n",
       "                     InterContinental Wien\n",
       "                 &lt;/div&gt;`,\n",
       "                {&quot;sticky&quot;: true}\n",
       "            );\n",
       "        \n",
       "    \n",
       "            var marker_857a804c6bfb1691f78957805d9cdf3b = L.marker(\n",
       "                [48.1950444, 16.3844751],\n",
       "                {}\n",
       "            ).addTo(map_d68321cfa7f1d92b3473958666e4c599);\n",
       "        \n",
       "    \n",
       "            var beautify_icon_efb74b11e8d1b1a100a4aa939ec60783 = new L.BeautifyIcon.icon(\n",
       "                {&quot;backgroundColor&quot;: &quot;#FFF&quot;, &quot;borderColor&quot;: &quot;blue&quot;, &quot;borderWidth&quot;: 0.5, &quot;icon&quot;: &quot;bus&quot;, &quot;innerIconStyle&quot;: &quot;margin-top:0px;&quot;, &quot;isAlphaNumericIcon&quot;: true, &quot;spin&quot;: false, &quot;text&quot;: 8, &quot;textColor&quot;: &quot;red&quot;}\n",
       "            )\n",
       "            marker_857a804c6bfb1691f78957805d9cdf3b.setIcon(beautify_icon_efb74b11e8d1b1a100a4aa939ec60783);\n",
       "        \n",
       "    \n",
       "        var popup_2e5690fad281e6dd1842d4868c12b9a4 = L.popup({&quot;maxWidth&quot;: &quot;100%&quot;});\n",
       "\n",
       "        \n",
       "            var html_a6ec727f8d3ba11b20d048c3c9889585 = $(`&lt;div id=&quot;html_a6ec727f8d3ba11b20d048c3c9889585&quot; style=&quot;width: 100.0%; height: 100.0%;&quot;&gt;Austria Trend Hotel Savoyen Vienna&lt;/div&gt;`)[0];\n",
       "            popup_2e5690fad281e6dd1842d4868c12b9a4.setContent(html_a6ec727f8d3ba11b20d048c3c9889585);\n",
       "        \n",
       "\n",
       "        marker_857a804c6bfb1691f78957805d9cdf3b.bindPopup(popup_2e5690fad281e6dd1842d4868c12b9a4)\n",
       "        ;\n",
       "\n",
       "        \n",
       "    \n",
       "    \n",
       "            marker_857a804c6bfb1691f78957805d9cdf3b.bindTooltip(\n",
       "                `&lt;div&gt;\n",
       "                     Austria Trend Hotel Savoyen Vienna\n",
       "                 &lt;/div&gt;`,\n",
       "                {&quot;sticky&quot;: true}\n",
       "            );\n",
       "        \n",
       "    \n",
       "            var marker_aeb07b7560a933c4c5ffb9febf2ca502 = L.marker(\n",
       "                [48.2062268, 16.3833767],\n",
       "                {}\n",
       "            ).addTo(map_d68321cfa7f1d92b3473958666e4c599);\n",
       "        \n",
       "    \n",
       "            var beautify_icon_cbf6cb6fae22bc4a5c009cbfb5a8a74f = new L.BeautifyIcon.icon(\n",
       "                {&quot;backgroundColor&quot;: &quot;#FFF&quot;, &quot;borderColor&quot;: &quot;blue&quot;, &quot;borderWidth&quot;: 0.5, &quot;icon&quot;: &quot;bus&quot;, &quot;innerIconStyle&quot;: &quot;margin-top:0px;&quot;, &quot;isAlphaNumericIcon&quot;: true, &quot;spin&quot;: false, &quot;text&quot;: 9, &quot;textColor&quot;: &quot;red&quot;}\n",
       "            )\n",
       "            marker_aeb07b7560a933c4c5ffb9febf2ca502.setIcon(beautify_icon_cbf6cb6fae22bc4a5c009cbfb5a8a74f);\n",
       "        \n",
       "    \n",
       "        var popup_fcecb7ca206d22b3a6a35b4591243232 = L.popup({&quot;maxWidth&quot;: &quot;100%&quot;});\n",
       "\n",
       "        \n",
       "            var html_130a189775b20ec965cc5c9772b98888 = $(`&lt;div id=&quot;html_130a189775b20ec965cc5c9772b98888&quot; style=&quot;width: 100.0%; height: 100.0%;&quot;&gt;Hilton Vienna&lt;/div&gt;`)[0];\n",
       "            popup_fcecb7ca206d22b3a6a35b4591243232.setContent(html_130a189775b20ec965cc5c9772b98888);\n",
       "        \n",
       "\n",
       "        marker_aeb07b7560a933c4c5ffb9febf2ca502.bindPopup(popup_fcecb7ca206d22b3a6a35b4591243232)\n",
       "        ;\n",
       "\n",
       "        \n",
       "    \n",
       "    \n",
       "            marker_aeb07b7560a933c4c5ffb9febf2ca502.bindTooltip(\n",
       "                `&lt;div&gt;\n",
       "                     Hilton Vienna\n",
       "                 &lt;/div&gt;`,\n",
       "                {&quot;sticky&quot;: true}\n",
       "            );\n",
       "        \n",
       "    \n",
       "            var marker_de4c74022fbc3d1b427976fa10836d53 = L.marker(\n",
       "                [48.2027296, 16.3661211],\n",
       "                {}\n",
       "            ).addTo(map_d68321cfa7f1d92b3473958666e4c599);\n",
       "        \n",
       "    \n",
       "            var beautify_icon_255be421a1cdcb5088cf562ca0b9fdab = new L.BeautifyIcon.icon(\n",
       "                {&quot;backgroundColor&quot;: &quot;#FFF&quot;, &quot;borderColor&quot;: &quot;blue&quot;, &quot;borderWidth&quot;: 0.5, &quot;icon&quot;: &quot;bus&quot;, &quot;innerIconStyle&quot;: &quot;margin-top:0px;&quot;, &quot;isAlphaNumericIcon&quot;: true, &quot;spin&quot;: false, &quot;text&quot;: 10, &quot;textColor&quot;: &quot;red&quot;}\n",
       "            )\n",
       "            marker_de4c74022fbc3d1b427976fa10836d53.setIcon(beautify_icon_255be421a1cdcb5088cf562ca0b9fdab);\n",
       "        \n",
       "    \n",
       "        var popup_3352f1a243ed222dcc356215efbfb7be = L.popup({&quot;maxWidth&quot;: &quot;100%&quot;});\n",
       "\n",
       "        \n",
       "            var html_d3c6f5615346b49ea67bd625539ec09e = $(`&lt;div id=&quot;html_d3c6f5615346b49ea67bd625539ec09e&quot; style=&quot;width: 100.0%; height: 100.0%;&quot;&gt;Le Meridien Vienna&lt;/div&gt;`)[0];\n",
       "            popup_3352f1a243ed222dcc356215efbfb7be.setContent(html_d3c6f5615346b49ea67bd625539ec09e);\n",
       "        \n",
       "\n",
       "        marker_de4c74022fbc3d1b427976fa10836d53.bindPopup(popup_3352f1a243ed222dcc356215efbfb7be)\n",
       "        ;\n",
       "\n",
       "        \n",
       "    \n",
       "    \n",
       "            marker_de4c74022fbc3d1b427976fa10836d53.bindTooltip(\n",
       "                `&lt;div&gt;\n",
       "                     Le Meridien Vienna\n",
       "                 &lt;/div&gt;`,\n",
       "                {&quot;sticky&quot;: true}\n",
       "            );\n",
       "        \n",
       "&lt;/script&gt;\" style=\"position:absolute;width:100%;height:100%;left:0;top:0;border:none !important;\" allowfullscreen webkitallowfullscreen mozallowfullscreen></iframe></div></div>"
      ],
      "text/plain": [
       "<folium.folium.Map at 0x1833ded1ee0>"
      ]
     },
     "execution_count": 72,
     "metadata": {},
     "output_type": "execute_result"
    }
   ],
   "source": [
    "# to populate and pin recommended list of hotels\n",
    "get_hotel_fn(new_recommendations_tags('Hilton Diagonal Mar Barcelona','Vienna',similarityDF),'Vienna')"
   ]
  }
 ],
 "metadata": {
  "kernelspec": {
   "display_name": "Python 3 (ipykernel)",
   "language": "python",
   "name": "python3"
  },
  "language_info": {
   "codemirror_mode": {
    "name": "ipython",
    "version": 3
   },
   "file_extension": ".py",
   "mimetype": "text/x-python",
   "name": "python",
   "nbconvert_exporter": "python",
   "pygments_lexer": "ipython3",
   "version": "3.9.7"
  }
 },
 "nbformat": 4,
 "nbformat_minor": 5
}
